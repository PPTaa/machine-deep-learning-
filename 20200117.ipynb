{
 "cells": [
  {
   "cell_type": "code",
   "execution_count": 2,
   "metadata": {},
   "outputs": [
    {
     "name": "stdout",
     "output_type": "stream",
     "text": [
      "SSE= 31.4348\n",
      "SSE= 1257.33\n",
      "SSE= 1225.8952\n"
     ]
    }
   ],
   "source": [
    "SSE=31.4348\n",
    "SST=1257.33\n",
    "\n",
    "SSR=SST-SSE\n",
    "\n",
    "print('SSE=',SSE)\n",
    "print('SSE=',SST)\n",
    "print('SSE=',SSR)"
   ]
  },
  {
   "cell_type": "code",
   "execution_count": 3,
   "metadata": {},
   "outputs": [
    {
     "data": {
      "text/html": [
       "<div>\n",
       "<style scoped>\n",
       "    .dataframe tbody tr th:only-of-type {\n",
       "        vertical-align: middle;\n",
       "    }\n",
       "\n",
       "    .dataframe tbody tr th {\n",
       "        vertical-align: top;\n",
       "    }\n",
       "\n",
       "    .dataframe thead th {\n",
       "        text-align: right;\n",
       "    }\n",
       "</style>\n",
       "<table border=\"1\" class=\"dataframe\">\n",
       "  <thead>\n",
       "    <tr style=\"text-align: right;\">\n",
       "      <th></th>\n",
       "      <th>x</th>\n",
       "      <th>y</th>\n",
       "    </tr>\n",
       "  </thead>\n",
       "  <tbody>\n",
       "    <tr>\n",
       "      <th>0</th>\n",
       "      <td>13</td>\n",
       "      <td>40</td>\n",
       "    </tr>\n",
       "    <tr>\n",
       "      <th>1</th>\n",
       "      <td>19</td>\n",
       "      <td>83</td>\n",
       "    </tr>\n",
       "    <tr>\n",
       "      <th>2</th>\n",
       "      <td>16</td>\n",
       "      <td>62</td>\n",
       "    </tr>\n",
       "    <tr>\n",
       "      <th>3</th>\n",
       "      <td>14</td>\n",
       "      <td>48</td>\n",
       "    </tr>\n",
       "    <tr>\n",
       "      <th>4</th>\n",
       "      <td>15</td>\n",
       "      <td>58</td>\n",
       "    </tr>\n",
       "    <tr>\n",
       "      <th>5</th>\n",
       "      <td>14</td>\n",
       "      <td>43</td>\n",
       "    </tr>\n",
       "  </tbody>\n",
       "</table>\n",
       "</div>"
      ],
      "text/plain": [
       "    x   y\n",
       "0  13  40\n",
       "1  19  83\n",
       "2  16  62\n",
       "3  14  48\n",
       "4  15  58\n",
       "5  14  43"
      ]
     },
     "execution_count": 3,
     "metadata": {},
     "output_type": "execute_result"
    }
   ],
   "source": [
    "import pandas as pd\n",
    "a={'x':[13,19,16,14,15,14],'y':[40,83,62,48,58,43]}\n",
    "data=pd.DataFrame(a)\n",
    "data"
   ]
  },
  {
   "cell_type": "code",
   "execution_count": 4,
   "metadata": {},
   "outputs": [
    {
     "data": {
      "text/html": [
       "<div>\n",
       "<style scoped>\n",
       "    .dataframe tbody tr th:only-of-type {\n",
       "        vertical-align: middle;\n",
       "    }\n",
       "\n",
       "    .dataframe tbody tr th {\n",
       "        vertical-align: top;\n",
       "    }\n",
       "\n",
       "    .dataframe thead th {\n",
       "        text-align: right;\n",
       "    }\n",
       "</style>\n",
       "<table border=\"1\" class=\"dataframe\">\n",
       "  <thead>\n",
       "    <tr style=\"text-align: right;\">\n",
       "      <th></th>\n",
       "      <th>x</th>\n",
       "      <th>y</th>\n",
       "      <th>x_2</th>\n",
       "    </tr>\n",
       "  </thead>\n",
       "  <tbody>\n",
       "    <tr>\n",
       "      <th>0</th>\n",
       "      <td>13</td>\n",
       "      <td>40</td>\n",
       "      <td>169</td>\n",
       "    </tr>\n",
       "    <tr>\n",
       "      <th>1</th>\n",
       "      <td>19</td>\n",
       "      <td>83</td>\n",
       "      <td>361</td>\n",
       "    </tr>\n",
       "    <tr>\n",
       "      <th>2</th>\n",
       "      <td>16</td>\n",
       "      <td>62</td>\n",
       "      <td>256</td>\n",
       "    </tr>\n",
       "    <tr>\n",
       "      <th>3</th>\n",
       "      <td>14</td>\n",
       "      <td>48</td>\n",
       "      <td>196</td>\n",
       "    </tr>\n",
       "    <tr>\n",
       "      <th>4</th>\n",
       "      <td>15</td>\n",
       "      <td>58</td>\n",
       "      <td>225</td>\n",
       "    </tr>\n",
       "    <tr>\n",
       "      <th>5</th>\n",
       "      <td>14</td>\n",
       "      <td>43</td>\n",
       "      <td>196</td>\n",
       "    </tr>\n",
       "  </tbody>\n",
       "</table>\n",
       "</div>"
      ],
      "text/plain": [
       "    x   y  x_2\n",
       "0  13  40  169\n",
       "1  19  83  361\n",
       "2  16  62  256\n",
       "3  14  48  196\n",
       "4  15  58  225\n",
       "5  14  43  196"
      ]
     },
     "execution_count": 4,
     "metadata": {},
     "output_type": "execute_result"
    }
   ],
   "source": [
    "data['x_2']=data['x']*data['x']\n",
    "data"
   ]
  },
  {
   "cell_type": "code",
   "execution_count": 5,
   "metadata": {},
   "outputs": [
    {
     "data": {
      "text/html": [
       "<div>\n",
       "<style scoped>\n",
       "    .dataframe tbody tr th:only-of-type {\n",
       "        vertical-align: middle;\n",
       "    }\n",
       "\n",
       "    .dataframe tbody tr th {\n",
       "        vertical-align: top;\n",
       "    }\n",
       "\n",
       "    .dataframe thead th {\n",
       "        text-align: right;\n",
       "    }\n",
       "</style>\n",
       "<table border=\"1\" class=\"dataframe\">\n",
       "  <thead>\n",
       "    <tr style=\"text-align: right;\">\n",
       "      <th></th>\n",
       "      <th>x</th>\n",
       "      <th>y</th>\n",
       "      <th>x_2</th>\n",
       "      <th>y_2</th>\n",
       "    </tr>\n",
       "  </thead>\n",
       "  <tbody>\n",
       "    <tr>\n",
       "      <th>0</th>\n",
       "      <td>13</td>\n",
       "      <td>40</td>\n",
       "      <td>169</td>\n",
       "      <td>1600</td>\n",
       "    </tr>\n",
       "    <tr>\n",
       "      <th>1</th>\n",
       "      <td>19</td>\n",
       "      <td>83</td>\n",
       "      <td>361</td>\n",
       "      <td>6889</td>\n",
       "    </tr>\n",
       "    <tr>\n",
       "      <th>2</th>\n",
       "      <td>16</td>\n",
       "      <td>62</td>\n",
       "      <td>256</td>\n",
       "      <td>3844</td>\n",
       "    </tr>\n",
       "    <tr>\n",
       "      <th>3</th>\n",
       "      <td>14</td>\n",
       "      <td>48</td>\n",
       "      <td>196</td>\n",
       "      <td>2304</td>\n",
       "    </tr>\n",
       "    <tr>\n",
       "      <th>4</th>\n",
       "      <td>15</td>\n",
       "      <td>58</td>\n",
       "      <td>225</td>\n",
       "      <td>3364</td>\n",
       "    </tr>\n",
       "    <tr>\n",
       "      <th>5</th>\n",
       "      <td>14</td>\n",
       "      <td>43</td>\n",
       "      <td>196</td>\n",
       "      <td>1849</td>\n",
       "    </tr>\n",
       "  </tbody>\n",
       "</table>\n",
       "</div>"
      ],
      "text/plain": [
       "    x   y  x_2   y_2\n",
       "0  13  40  169  1600\n",
       "1  19  83  361  6889\n",
       "2  16  62  256  3844\n",
       "3  14  48  196  2304\n",
       "4  15  58  225  3364\n",
       "5  14  43  196  1849"
      ]
     },
     "execution_count": 5,
     "metadata": {},
     "output_type": "execute_result"
    }
   ],
   "source": [
    "data['y_2']=data['y']*data['y']\n",
    "data"
   ]
  },
  {
   "cell_type": "code",
   "execution_count": 6,
   "metadata": {},
   "outputs": [
    {
     "data": {
      "text/html": [
       "<div>\n",
       "<style scoped>\n",
       "    .dataframe tbody tr th:only-of-type {\n",
       "        vertical-align: middle;\n",
       "    }\n",
       "\n",
       "    .dataframe tbody tr th {\n",
       "        vertical-align: top;\n",
       "    }\n",
       "\n",
       "    .dataframe thead th {\n",
       "        text-align: right;\n",
       "    }\n",
       "</style>\n",
       "<table border=\"1\" class=\"dataframe\">\n",
       "  <thead>\n",
       "    <tr style=\"text-align: right;\">\n",
       "      <th></th>\n",
       "      <th>x</th>\n",
       "      <th>y</th>\n",
       "      <th>x_2</th>\n",
       "      <th>y_2</th>\n",
       "      <th>xy</th>\n",
       "    </tr>\n",
       "  </thead>\n",
       "  <tbody>\n",
       "    <tr>\n",
       "      <th>0</th>\n",
       "      <td>13</td>\n",
       "      <td>40</td>\n",
       "      <td>169</td>\n",
       "      <td>1600</td>\n",
       "      <td>520</td>\n",
       "    </tr>\n",
       "    <tr>\n",
       "      <th>1</th>\n",
       "      <td>19</td>\n",
       "      <td>83</td>\n",
       "      <td>361</td>\n",
       "      <td>6889</td>\n",
       "      <td>1577</td>\n",
       "    </tr>\n",
       "    <tr>\n",
       "      <th>2</th>\n",
       "      <td>16</td>\n",
       "      <td>62</td>\n",
       "      <td>256</td>\n",
       "      <td>3844</td>\n",
       "      <td>992</td>\n",
       "    </tr>\n",
       "    <tr>\n",
       "      <th>3</th>\n",
       "      <td>14</td>\n",
       "      <td>48</td>\n",
       "      <td>196</td>\n",
       "      <td>2304</td>\n",
       "      <td>672</td>\n",
       "    </tr>\n",
       "    <tr>\n",
       "      <th>4</th>\n",
       "      <td>15</td>\n",
       "      <td>58</td>\n",
       "      <td>225</td>\n",
       "      <td>3364</td>\n",
       "      <td>870</td>\n",
       "    </tr>\n",
       "    <tr>\n",
       "      <th>5</th>\n",
       "      <td>14</td>\n",
       "      <td>43</td>\n",
       "      <td>196</td>\n",
       "      <td>1849</td>\n",
       "      <td>602</td>\n",
       "    </tr>\n",
       "  </tbody>\n",
       "</table>\n",
       "</div>"
      ],
      "text/plain": [
       "    x   y  x_2   y_2    xy\n",
       "0  13  40  169  1600   520\n",
       "1  19  83  361  6889  1577\n",
       "2  16  62  256  3844   992\n",
       "3  14  48  196  2304   672\n",
       "4  15  58  225  3364   870\n",
       "5  14  43  196  1849   602"
      ]
     },
     "execution_count": 6,
     "metadata": {},
     "output_type": "execute_result"
    }
   ],
   "source": [
    "data['xy']=data['x']*data['y']\n",
    "data"
   ]
  },
  {
   "cell_type": "code",
   "execution_count": 7,
   "metadata": {},
   "outputs": [],
   "source": [
    "from sklearn import linear_model"
   ]
  },
  {
   "cell_type": "code",
   "execution_count": 9,
   "metadata": {},
   "outputs": [
    {
     "data": {
      "text/plain": [
       "LinearRegression(copy_X=True, fit_intercept=True, n_jobs=None,\n",
       "         normalize=False)"
      ]
     },
     "execution_count": 9,
     "metadata": {},
     "output_type": "execute_result"
    }
   ],
   "source": [
    "linearregression=linear_model.LinearRegression()\n",
    "linearregression.fit(X=pd.DataFrame(data['x']),y=data['y'])"
   ]
  },
  {
   "cell_type": "code",
   "execution_count": 14,
   "metadata": {},
   "outputs": [
    {
     "name": "stdout",
     "output_type": "stream",
     "text": [
      "a= -55.48175182481753\n",
      "b= [7.32846715]\n"
     ]
    }
   ],
   "source": [
    "print('a=',linearregression.intercept_)\n",
    "a=linearregression.intercept_\n",
    "print('b=',linearregression.coef_)\n",
    "b=linearregression.coef_"
   ]
  },
  {
   "cell_type": "code",
   "execution_count": 20,
   "metadata": {},
   "outputs": [
    {
     "data": {
      "text/plain": [
       "array([6.20729927])"
      ]
     },
     "execution_count": 20,
     "metadata": {},
     "output_type": "execute_result"
    }
   ],
   "source": [
    "S=((data['y_2'].sum())-(a*data['y'].sum())-(b*data['xy'].sum()))/5\n",
    "S"
   ]
  },
  {
   "cell_type": "code",
   "execution_count": 22,
   "metadata": {},
   "outputs": [
    {
     "data": {
      "text/html": [
       "<div>\n",
       "<style scoped>\n",
       "    .dataframe tbody tr th:only-of-type {\n",
       "        vertical-align: middle;\n",
       "    }\n",
       "\n",
       "    .dataframe tbody tr th {\n",
       "        vertical-align: top;\n",
       "    }\n",
       "\n",
       "    .dataframe thead th {\n",
       "        text-align: right;\n",
       "    }\n",
       "</style>\n",
       "<table border=\"1\" class=\"dataframe\">\n",
       "  <thead>\n",
       "    <tr style=\"text-align: right;\">\n",
       "      <th></th>\n",
       "      <th>x</th>\n",
       "      <th>y</th>\n",
       "      <th>x_2</th>\n",
       "      <th>y_2</th>\n",
       "      <th>xy</th>\n",
       "      <th>y_hat</th>\n",
       "    </tr>\n",
       "  </thead>\n",
       "  <tbody>\n",
       "    <tr>\n",
       "      <th>0</th>\n",
       "      <td>13</td>\n",
       "      <td>40</td>\n",
       "      <td>169</td>\n",
       "      <td>1600</td>\n",
       "      <td>520</td>\n",
       "      <td>39.48</td>\n",
       "    </tr>\n",
       "    <tr>\n",
       "      <th>1</th>\n",
       "      <td>19</td>\n",
       "      <td>83</td>\n",
       "      <td>361</td>\n",
       "      <td>6889</td>\n",
       "      <td>1577</td>\n",
       "      <td>84.24</td>\n",
       "    </tr>\n",
       "    <tr>\n",
       "      <th>2</th>\n",
       "      <td>16</td>\n",
       "      <td>62</td>\n",
       "      <td>256</td>\n",
       "      <td>3844</td>\n",
       "      <td>992</td>\n",
       "      <td>61.86</td>\n",
       "    </tr>\n",
       "    <tr>\n",
       "      <th>3</th>\n",
       "      <td>14</td>\n",
       "      <td>48</td>\n",
       "      <td>196</td>\n",
       "      <td>2304</td>\n",
       "      <td>672</td>\n",
       "      <td>46.94</td>\n",
       "    </tr>\n",
       "    <tr>\n",
       "      <th>4</th>\n",
       "      <td>15</td>\n",
       "      <td>58</td>\n",
       "      <td>225</td>\n",
       "      <td>3364</td>\n",
       "      <td>870</td>\n",
       "      <td>54.40</td>\n",
       "    </tr>\n",
       "    <tr>\n",
       "      <th>5</th>\n",
       "      <td>14</td>\n",
       "      <td>43</td>\n",
       "      <td>196</td>\n",
       "      <td>1849</td>\n",
       "      <td>602</td>\n",
       "      <td>46.94</td>\n",
       "    </tr>\n",
       "  </tbody>\n",
       "</table>\n",
       "</div>"
      ],
      "text/plain": [
       "    x   y  x_2   y_2    xy  y_hat\n",
       "0  13  40  169  1600   520  39.48\n",
       "1  19  83  361  6889  1577  84.24\n",
       "2  16  62  256  3844   992  61.86\n",
       "3  14  48  196  2304   672  46.94\n",
       "4  15  58  225  3364   870  54.40\n",
       "5  14  43  196  1849   602  46.94"
      ]
     },
     "execution_count": 22,
     "metadata": {},
     "output_type": "execute_result"
    }
   ],
   "source": [
    "data['y_hat']=[39.48,84.24,61.86,46.94,54.4,46.94]\n",
    "data"
   ]
  },
  {
   "cell_type": "code",
   "execution_count": 23,
   "metadata": {},
   "outputs": [
    {
     "data": {
      "text/html": [
       "<div>\n",
       "<style scoped>\n",
       "    .dataframe tbody tr th:only-of-type {\n",
       "        vertical-align: middle;\n",
       "    }\n",
       "\n",
       "    .dataframe tbody tr th {\n",
       "        vertical-align: top;\n",
       "    }\n",
       "\n",
       "    .dataframe thead th {\n",
       "        text-align: right;\n",
       "    }\n",
       "</style>\n",
       "<table border=\"1\" class=\"dataframe\">\n",
       "  <thead>\n",
       "    <tr style=\"text-align: right;\">\n",
       "      <th></th>\n",
       "      <th>x</th>\n",
       "      <th>y</th>\n",
       "      <th>x_2</th>\n",
       "      <th>y_2</th>\n",
       "      <th>xy</th>\n",
       "      <th>y_hat</th>\n",
       "      <th>y-y_hat</th>\n",
       "    </tr>\n",
       "  </thead>\n",
       "  <tbody>\n",
       "    <tr>\n",
       "      <th>0</th>\n",
       "      <td>13</td>\n",
       "      <td>40</td>\n",
       "      <td>169</td>\n",
       "      <td>1600</td>\n",
       "      <td>520</td>\n",
       "      <td>39.48</td>\n",
       "      <td>0.52</td>\n",
       "    </tr>\n",
       "    <tr>\n",
       "      <th>1</th>\n",
       "      <td>19</td>\n",
       "      <td>83</td>\n",
       "      <td>361</td>\n",
       "      <td>6889</td>\n",
       "      <td>1577</td>\n",
       "      <td>84.24</td>\n",
       "      <td>-1.24</td>\n",
       "    </tr>\n",
       "    <tr>\n",
       "      <th>2</th>\n",
       "      <td>16</td>\n",
       "      <td>62</td>\n",
       "      <td>256</td>\n",
       "      <td>3844</td>\n",
       "      <td>992</td>\n",
       "      <td>61.86</td>\n",
       "      <td>0.14</td>\n",
       "    </tr>\n",
       "    <tr>\n",
       "      <th>3</th>\n",
       "      <td>14</td>\n",
       "      <td>48</td>\n",
       "      <td>196</td>\n",
       "      <td>2304</td>\n",
       "      <td>672</td>\n",
       "      <td>46.94</td>\n",
       "      <td>1.06</td>\n",
       "    </tr>\n",
       "    <tr>\n",
       "      <th>4</th>\n",
       "      <td>15</td>\n",
       "      <td>58</td>\n",
       "      <td>225</td>\n",
       "      <td>3364</td>\n",
       "      <td>870</td>\n",
       "      <td>54.40</td>\n",
       "      <td>3.60</td>\n",
       "    </tr>\n",
       "    <tr>\n",
       "      <th>5</th>\n",
       "      <td>14</td>\n",
       "      <td>43</td>\n",
       "      <td>196</td>\n",
       "      <td>1849</td>\n",
       "      <td>602</td>\n",
       "      <td>46.94</td>\n",
       "      <td>-3.94</td>\n",
       "    </tr>\n",
       "  </tbody>\n",
       "</table>\n",
       "</div>"
      ],
      "text/plain": [
       "    x   y  x_2   y_2    xy  y_hat  y-y_hat\n",
       "0  13  40  169  1600   520  39.48     0.52\n",
       "1  19  83  361  6889  1577  84.24    -1.24\n",
       "2  16  62  256  3844   992  61.86     0.14\n",
       "3  14  48  196  2304   672  46.94     1.06\n",
       "4  15  58  225  3364   870  54.40     3.60\n",
       "5  14  43  196  1849   602  46.94    -3.94"
      ]
     },
     "execution_count": 23,
     "metadata": {},
     "output_type": "execute_result"
    }
   ],
   "source": [
    "data['y-y_hat']=data['y']-data['y_hat']\n",
    "data"
   ]
  },
  {
   "cell_type": "code",
   "execution_count": 24,
   "metadata": {
    "scrolled": false
   },
   "outputs": [
    {
     "data": {
      "text/html": [
       "<div>\n",
       "<style scoped>\n",
       "    .dataframe tbody tr th:only-of-type {\n",
       "        vertical-align: middle;\n",
       "    }\n",
       "\n",
       "    .dataframe tbody tr th {\n",
       "        vertical-align: top;\n",
       "    }\n",
       "\n",
       "    .dataframe thead th {\n",
       "        text-align: right;\n",
       "    }\n",
       "</style>\n",
       "<table border=\"1\" class=\"dataframe\">\n",
       "  <thead>\n",
       "    <tr style=\"text-align: right;\">\n",
       "      <th></th>\n",
       "      <th>x</th>\n",
       "      <th>y</th>\n",
       "      <th>x_2</th>\n",
       "      <th>y_2</th>\n",
       "      <th>xy</th>\n",
       "      <th>y_hat</th>\n",
       "      <th>y-y_hat</th>\n",
       "      <th>(y-y_hat)_2</th>\n",
       "    </tr>\n",
       "  </thead>\n",
       "  <tbody>\n",
       "    <tr>\n",
       "      <th>0</th>\n",
       "      <td>13</td>\n",
       "      <td>40</td>\n",
       "      <td>169</td>\n",
       "      <td>1600</td>\n",
       "      <td>520</td>\n",
       "      <td>39.48</td>\n",
       "      <td>0.52</td>\n",
       "      <td>0.2704</td>\n",
       "    </tr>\n",
       "    <tr>\n",
       "      <th>1</th>\n",
       "      <td>19</td>\n",
       "      <td>83</td>\n",
       "      <td>361</td>\n",
       "      <td>6889</td>\n",
       "      <td>1577</td>\n",
       "      <td>84.24</td>\n",
       "      <td>-1.24</td>\n",
       "      <td>1.5376</td>\n",
       "    </tr>\n",
       "    <tr>\n",
       "      <th>2</th>\n",
       "      <td>16</td>\n",
       "      <td>62</td>\n",
       "      <td>256</td>\n",
       "      <td>3844</td>\n",
       "      <td>992</td>\n",
       "      <td>61.86</td>\n",
       "      <td>0.14</td>\n",
       "      <td>0.0196</td>\n",
       "    </tr>\n",
       "    <tr>\n",
       "      <th>3</th>\n",
       "      <td>14</td>\n",
       "      <td>48</td>\n",
       "      <td>196</td>\n",
       "      <td>2304</td>\n",
       "      <td>672</td>\n",
       "      <td>46.94</td>\n",
       "      <td>1.06</td>\n",
       "      <td>1.1236</td>\n",
       "    </tr>\n",
       "    <tr>\n",
       "      <th>4</th>\n",
       "      <td>15</td>\n",
       "      <td>58</td>\n",
       "      <td>225</td>\n",
       "      <td>3364</td>\n",
       "      <td>870</td>\n",
       "      <td>54.40</td>\n",
       "      <td>3.60</td>\n",
       "      <td>12.9600</td>\n",
       "    </tr>\n",
       "    <tr>\n",
       "      <th>5</th>\n",
       "      <td>14</td>\n",
       "      <td>43</td>\n",
       "      <td>196</td>\n",
       "      <td>1849</td>\n",
       "      <td>602</td>\n",
       "      <td>46.94</td>\n",
       "      <td>-3.94</td>\n",
       "      <td>15.5236</td>\n",
       "    </tr>\n",
       "  </tbody>\n",
       "</table>\n",
       "</div>"
      ],
      "text/plain": [
       "    x   y  x_2   y_2    xy  y_hat  y-y_hat  (y-y_hat)_2\n",
       "0  13  40  169  1600   520  39.48     0.52       0.2704\n",
       "1  19  83  361  6889  1577  84.24    -1.24       1.5376\n",
       "2  16  62  256  3844   992  61.86     0.14       0.0196\n",
       "3  14  48  196  2304   672  46.94     1.06       1.1236\n",
       "4  15  58  225  3364   870  54.40     3.60      12.9600\n",
       "5  14  43  196  1849   602  46.94    -3.94      15.5236"
      ]
     },
     "execution_count": 24,
     "metadata": {},
     "output_type": "execute_result"
    }
   ],
   "source": [
    "data['(y-y_hat)_2']=data['y-y_hat']*data['y-y_hat']\n",
    "data"
   ]
  },
  {
   "cell_type": "code",
   "execution_count": 25,
   "metadata": {},
   "outputs": [
    {
     "data": {
      "text/plain": [
       "55.666666666666664"
      ]
     },
     "execution_count": 25,
     "metadata": {},
     "output_type": "execute_result"
    }
   ],
   "source": [
    "data['y'].mean()"
   ]
  },
  {
   "cell_type": "code",
   "execution_count": 26,
   "metadata": {},
   "outputs": [
    {
     "data": {
      "text/html": [
       "<div>\n",
       "<style scoped>\n",
       "    .dataframe tbody tr th:only-of-type {\n",
       "        vertical-align: middle;\n",
       "    }\n",
       "\n",
       "    .dataframe tbody tr th {\n",
       "        vertical-align: top;\n",
       "    }\n",
       "\n",
       "    .dataframe thead th {\n",
       "        text-align: right;\n",
       "    }\n",
       "</style>\n",
       "<table border=\"1\" class=\"dataframe\">\n",
       "  <thead>\n",
       "    <tr style=\"text-align: right;\">\n",
       "      <th></th>\n",
       "      <th>x</th>\n",
       "      <th>y</th>\n",
       "      <th>x_2</th>\n",
       "      <th>y_2</th>\n",
       "      <th>xy</th>\n",
       "      <th>y_hat</th>\n",
       "      <th>y-y_hat</th>\n",
       "      <th>(y-y_hat)_2</th>\n",
       "      <th>y-y_avg</th>\n",
       "    </tr>\n",
       "  </thead>\n",
       "  <tbody>\n",
       "    <tr>\n",
       "      <th>0</th>\n",
       "      <td>13</td>\n",
       "      <td>40</td>\n",
       "      <td>169</td>\n",
       "      <td>1600</td>\n",
       "      <td>520</td>\n",
       "      <td>39.48</td>\n",
       "      <td>0.52</td>\n",
       "      <td>0.2704</td>\n",
       "      <td>-15.666667</td>\n",
       "    </tr>\n",
       "    <tr>\n",
       "      <th>1</th>\n",
       "      <td>19</td>\n",
       "      <td>83</td>\n",
       "      <td>361</td>\n",
       "      <td>6889</td>\n",
       "      <td>1577</td>\n",
       "      <td>84.24</td>\n",
       "      <td>-1.24</td>\n",
       "      <td>1.5376</td>\n",
       "      <td>27.333333</td>\n",
       "    </tr>\n",
       "    <tr>\n",
       "      <th>2</th>\n",
       "      <td>16</td>\n",
       "      <td>62</td>\n",
       "      <td>256</td>\n",
       "      <td>3844</td>\n",
       "      <td>992</td>\n",
       "      <td>61.86</td>\n",
       "      <td>0.14</td>\n",
       "      <td>0.0196</td>\n",
       "      <td>6.333333</td>\n",
       "    </tr>\n",
       "    <tr>\n",
       "      <th>3</th>\n",
       "      <td>14</td>\n",
       "      <td>48</td>\n",
       "      <td>196</td>\n",
       "      <td>2304</td>\n",
       "      <td>672</td>\n",
       "      <td>46.94</td>\n",
       "      <td>1.06</td>\n",
       "      <td>1.1236</td>\n",
       "      <td>-7.666667</td>\n",
       "    </tr>\n",
       "    <tr>\n",
       "      <th>4</th>\n",
       "      <td>15</td>\n",
       "      <td>58</td>\n",
       "      <td>225</td>\n",
       "      <td>3364</td>\n",
       "      <td>870</td>\n",
       "      <td>54.40</td>\n",
       "      <td>3.60</td>\n",
       "      <td>12.9600</td>\n",
       "      <td>2.333333</td>\n",
       "    </tr>\n",
       "    <tr>\n",
       "      <th>5</th>\n",
       "      <td>14</td>\n",
       "      <td>43</td>\n",
       "      <td>196</td>\n",
       "      <td>1849</td>\n",
       "      <td>602</td>\n",
       "      <td>46.94</td>\n",
       "      <td>-3.94</td>\n",
       "      <td>15.5236</td>\n",
       "      <td>-12.666667</td>\n",
       "    </tr>\n",
       "  </tbody>\n",
       "</table>\n",
       "</div>"
      ],
      "text/plain": [
       "    x   y  x_2   y_2    xy  y_hat  y-y_hat  (y-y_hat)_2    y-y_avg\n",
       "0  13  40  169  1600   520  39.48     0.52       0.2704 -15.666667\n",
       "1  19  83  361  6889  1577  84.24    -1.24       1.5376  27.333333\n",
       "2  16  62  256  3844   992  61.86     0.14       0.0196   6.333333\n",
       "3  14  48  196  2304   672  46.94     1.06       1.1236  -7.666667\n",
       "4  15  58  225  3364   870  54.40     3.60      12.9600   2.333333\n",
       "5  14  43  196  1849   602  46.94    -3.94      15.5236 -12.666667"
      ]
     },
     "execution_count": 26,
     "metadata": {},
     "output_type": "execute_result"
    }
   ],
   "source": [
    "data['y-y_avg']=data['y']-data['y'].mean()\n",
    "data"
   ]
  },
  {
   "cell_type": "code",
   "execution_count": 27,
   "metadata": {},
   "outputs": [
    {
     "data": {
      "text/html": [
       "<div>\n",
       "<style scoped>\n",
       "    .dataframe tbody tr th:only-of-type {\n",
       "        vertical-align: middle;\n",
       "    }\n",
       "\n",
       "    .dataframe tbody tr th {\n",
       "        vertical-align: top;\n",
       "    }\n",
       "\n",
       "    .dataframe thead th {\n",
       "        text-align: right;\n",
       "    }\n",
       "</style>\n",
       "<table border=\"1\" class=\"dataframe\">\n",
       "  <thead>\n",
       "    <tr style=\"text-align: right;\">\n",
       "      <th></th>\n",
       "      <th>x</th>\n",
       "      <th>y</th>\n",
       "      <th>x_2</th>\n",
       "      <th>y_2</th>\n",
       "      <th>xy</th>\n",
       "      <th>y_hat</th>\n",
       "      <th>y-y_hat</th>\n",
       "      <th>(y-y_hat)_2</th>\n",
       "      <th>y-y_avg</th>\n",
       "      <th>(y-y_avg)_2</th>\n",
       "    </tr>\n",
       "  </thead>\n",
       "  <tbody>\n",
       "    <tr>\n",
       "      <th>0</th>\n",
       "      <td>13</td>\n",
       "      <td>40</td>\n",
       "      <td>169</td>\n",
       "      <td>1600</td>\n",
       "      <td>520</td>\n",
       "      <td>39.48</td>\n",
       "      <td>0.52</td>\n",
       "      <td>0.2704</td>\n",
       "      <td>-15.666667</td>\n",
       "      <td>245.444444</td>\n",
       "    </tr>\n",
       "    <tr>\n",
       "      <th>1</th>\n",
       "      <td>19</td>\n",
       "      <td>83</td>\n",
       "      <td>361</td>\n",
       "      <td>6889</td>\n",
       "      <td>1577</td>\n",
       "      <td>84.24</td>\n",
       "      <td>-1.24</td>\n",
       "      <td>1.5376</td>\n",
       "      <td>27.333333</td>\n",
       "      <td>747.111111</td>\n",
       "    </tr>\n",
       "    <tr>\n",
       "      <th>2</th>\n",
       "      <td>16</td>\n",
       "      <td>62</td>\n",
       "      <td>256</td>\n",
       "      <td>3844</td>\n",
       "      <td>992</td>\n",
       "      <td>61.86</td>\n",
       "      <td>0.14</td>\n",
       "      <td>0.0196</td>\n",
       "      <td>6.333333</td>\n",
       "      <td>40.111111</td>\n",
       "    </tr>\n",
       "    <tr>\n",
       "      <th>3</th>\n",
       "      <td>14</td>\n",
       "      <td>48</td>\n",
       "      <td>196</td>\n",
       "      <td>2304</td>\n",
       "      <td>672</td>\n",
       "      <td>46.94</td>\n",
       "      <td>1.06</td>\n",
       "      <td>1.1236</td>\n",
       "      <td>-7.666667</td>\n",
       "      <td>58.777778</td>\n",
       "    </tr>\n",
       "    <tr>\n",
       "      <th>4</th>\n",
       "      <td>15</td>\n",
       "      <td>58</td>\n",
       "      <td>225</td>\n",
       "      <td>3364</td>\n",
       "      <td>870</td>\n",
       "      <td>54.40</td>\n",
       "      <td>3.60</td>\n",
       "      <td>12.9600</td>\n",
       "      <td>2.333333</td>\n",
       "      <td>5.444444</td>\n",
       "    </tr>\n",
       "    <tr>\n",
       "      <th>5</th>\n",
       "      <td>14</td>\n",
       "      <td>43</td>\n",
       "      <td>196</td>\n",
       "      <td>1849</td>\n",
       "      <td>602</td>\n",
       "      <td>46.94</td>\n",
       "      <td>-3.94</td>\n",
       "      <td>15.5236</td>\n",
       "      <td>-12.666667</td>\n",
       "      <td>160.444444</td>\n",
       "    </tr>\n",
       "  </tbody>\n",
       "</table>\n",
       "</div>"
      ],
      "text/plain": [
       "    x   y  x_2   y_2    xy  y_hat  y-y_hat  (y-y_hat)_2    y-y_avg  \\\n",
       "0  13  40  169  1600   520  39.48     0.52       0.2704 -15.666667   \n",
       "1  19  83  361  6889  1577  84.24    -1.24       1.5376  27.333333   \n",
       "2  16  62  256  3844   992  61.86     0.14       0.0196   6.333333   \n",
       "3  14  48  196  2304   672  46.94     1.06       1.1236  -7.666667   \n",
       "4  15  58  225  3364   870  54.40     3.60      12.9600   2.333333   \n",
       "5  14  43  196  1849   602  46.94    -3.94      15.5236 -12.666667   \n",
       "\n",
       "   (y-y_avg)_2  \n",
       "0   245.444444  \n",
       "1   747.111111  \n",
       "2    40.111111  \n",
       "3    58.777778  \n",
       "4     5.444444  \n",
       "5   160.444444  "
      ]
     },
     "execution_count": 27,
     "metadata": {},
     "output_type": "execute_result"
    }
   ],
   "source": [
    "data['(y-y_avg)_2']=data['y-y_avg']*data['y-y_avg']\n",
    "data"
   ]
  },
  {
   "cell_type": "code",
   "execution_count": 29,
   "metadata": {},
   "outputs": [],
   "source": [
    "SSE=data['(y-y_hat)_2'].sum()\n",
    "SST=data['(y-y_avg)_2'].sum()"
   ]
  },
  {
   "cell_type": "code",
   "execution_count": 32,
   "metadata": {},
   "outputs": [
    {
     "data": {
      "text/plain": [
       "1225.8985333333333"
      ]
     },
     "execution_count": 32,
     "metadata": {},
     "output_type": "execute_result"
    }
   ],
   "source": [
    "SSR=SST-SSE\n",
    "SSR"
   ]
  },
  {
   "cell_type": "code",
   "execution_count": 33,
   "metadata": {},
   "outputs": [
    {
     "data": {
      "text/plain": [
       "0.9749988335100742"
      ]
     },
     "execution_count": 33,
     "metadata": {},
     "output_type": "execute_result"
    }
   ],
   "source": [
    "R_square=SSR/SST\n",
    "R_square"
   ]
  },
  {
   "cell_type": "code",
   "execution_count": 35,
   "metadata": {},
   "outputs": [
    {
     "data": {
      "text/plain": [
       "0.9749988335100742"
      ]
     },
     "execution_count": 35,
     "metadata": {},
     "output_type": "execute_result"
    }
   ],
   "source": [
    "1-(SSE/SST)"
   ]
  },
  {
   "cell_type": "code",
   "execution_count": 37,
   "metadata": {},
   "outputs": [
    {
     "data": {
      "text/plain": [
       "1270.7147999999997"
      ]
     },
     "execution_count": 37,
     "metadata": {},
     "output_type": "execute_result"
    }
   ],
   "source": [
    "((data['y_hat']-data['y'].mean())**2).sum()"
   ]
  },
  {
   "cell_type": "code",
   "execution_count": 39,
   "metadata": {},
   "outputs": [
    {
     "data": {
      "text/plain": [
       "55.666666666666664"
      ]
     },
     "execution_count": 39,
     "metadata": {},
     "output_type": "execute_result"
    }
   ],
   "source": [
    "data['y'].mean()"
   ]
  },
  {
   "cell_type": "code",
   "execution_count": 41,
   "metadata": {
    "scrolled": true
   },
   "outputs": [
    {
     "data": {
      "text/plain": [
       "0   -0.52\n",
       "1    1.24\n",
       "2   -0.14\n",
       "3   -1.06\n",
       "4   -3.60\n",
       "5    3.94\n",
       "dtype: float64"
      ]
     },
     "execution_count": 41,
     "metadata": {},
     "output_type": "execute_result"
    }
   ],
   "source": [
    "data['y_hat']-data['y']"
   ]
  },
  {
   "cell_type": "code",
   "execution_count": null,
   "metadata": {},
   "outputs": [],
   "source": []
  },
  {
   "cell_type": "code",
   "execution_count": null,
   "metadata": {},
   "outputs": [],
   "source": []
  },
  {
   "cell_type": "code",
   "execution_count": 42,
   "metadata": {},
   "outputs": [
    {
     "data": {
      "text/html": [
       "<div>\n",
       "<style scoped>\n",
       "    .dataframe tbody tr th:only-of-type {\n",
       "        vertical-align: middle;\n",
       "    }\n",
       "\n",
       "    .dataframe tbody tr th {\n",
       "        vertical-align: top;\n",
       "    }\n",
       "\n",
       "    .dataframe thead th {\n",
       "        text-align: right;\n",
       "    }\n",
       "</style>\n",
       "<table border=\"1\" class=\"dataframe\">\n",
       "  <thead>\n",
       "    <tr style=\"text-align: right;\">\n",
       "      <th></th>\n",
       "      <th>x1</th>\n",
       "      <th>x2</th>\n",
       "      <th>y</th>\n",
       "    </tr>\n",
       "  </thead>\n",
       "  <tbody>\n",
       "    <tr>\n",
       "      <th>0</th>\n",
       "      <td>13</td>\n",
       "      <td>9</td>\n",
       "      <td>20</td>\n",
       "    </tr>\n",
       "    <tr>\n",
       "      <th>1</th>\n",
       "      <td>18</td>\n",
       "      <td>7</td>\n",
       "      <td>22</td>\n",
       "    </tr>\n",
       "    <tr>\n",
       "      <th>2</th>\n",
       "      <td>17</td>\n",
       "      <td>17</td>\n",
       "      <td>30</td>\n",
       "    </tr>\n",
       "    <tr>\n",
       "      <th>3</th>\n",
       "      <td>20</td>\n",
       "      <td>11</td>\n",
       "      <td>27</td>\n",
       "    </tr>\n",
       "    <tr>\n",
       "      <th>4</th>\n",
       "      <td>22</td>\n",
       "      <td>8</td>\n",
       "      <td>35</td>\n",
       "    </tr>\n",
       "    <tr>\n",
       "      <th>5</th>\n",
       "      <td>21</td>\n",
       "      <td>10</td>\n",
       "      <td>32</td>\n",
       "    </tr>\n",
       "  </tbody>\n",
       "</table>\n",
       "</div>"
      ],
      "text/plain": [
       "   x1  x2   y\n",
       "0  13   9  20\n",
       "1  18   7  22\n",
       "2  17  17  30\n",
       "3  20  11  27\n",
       "4  22   8  35\n",
       "5  21  10  32"
      ]
     },
     "execution_count": 42,
     "metadata": {},
     "output_type": "execute_result"
    }
   ],
   "source": [
    "\n",
    "data = pd.DataFrame({'x1':[13,18,17,20,22,21],'x2':[9,7,17,11,8,10],'y':[20,22,30,27,35,32]})\n",
    "data"
   ]
  },
  {
   "cell_type": "code",
   "execution_count": 48,
   "metadata": {},
   "outputs": [],
   "source": [
    "X=data[['x1','x2']]\n",
    "y=data['y']"
   ]
  },
  {
   "cell_type": "code",
   "execution_count": 50,
   "metadata": {},
   "outputs": [
    {
     "data": {
      "text/plain": [
       "LinearRegression(copy_X=True, fit_intercept=True, n_jobs=None,\n",
       "         normalize=False)"
      ]
     },
     "execution_count": 50,
     "metadata": {},
     "output_type": "execute_result"
    }
   ],
   "source": [
    "linear_regression = linear_model.LinearRegression()\n",
    "linear_regression.fit(X=pd.DataFrame(X),y=y)"
   ]
  },
  {
   "cell_type": "code",
   "execution_count": 51,
   "metadata": {},
   "outputs": [
    {
     "data": {
      "text/plain": [
       "array([18.33980044, 24.81208426, 29.51496674, 30.39966741, 31.61419069,\n",
       "       31.31929047])"
      ]
     },
     "execution_count": 51,
     "metadata": {},
     "output_type": "execute_result"
    }
   ],
   "source": [
    "prediction = linear_regression.predict(X=pd.DataFrame(X))\n",
    "prediction"
   ]
  },
  {
   "cell_type": "code",
   "execution_count": 52,
   "metadata": {},
   "outputs": [
    {
     "name": "stdout",
     "output_type": "stream",
     "text": [
      "a=  -7.35920177383591 b= [1.5443459  0.62472284]\n"
     ]
    }
   ],
   "source": [
    "a=linear_regression.intercept_\n",
    "b=linear_regression.coef_\n",
    "print('a= ',a,'b=',b)"
   ]
  },
  {
   "cell_type": "code",
   "execution_count": 53,
   "metadata": {},
   "outputs": [
    {
     "data": {
      "text/plain": [
       "count    6.000000e+00\n",
       "mean    -4.144833e-15\n",
       "std      2.622371e+00\n",
       "min     -3.399667e+00\n",
       "25%     -1.987805e+00\n",
       "50%      5.828714e-01\n",
       "75%      1.415327e+00\n",
       "max      3.385809e+00\n",
       "Name: y, dtype: float64"
      ]
     },
     "execution_count": 53,
     "metadata": {},
     "output_type": "execute_result"
    }
   ],
   "source": [
    "residuals=y-prediction\n",
    "residuals.describe()"
   ]
  },
  {
   "cell_type": "code",
   "execution_count": 54,
   "metadata": {},
   "outputs": [
    {
     "name": "stdout",
     "output_type": "stream",
     "text": [
      "SSE =  34.38414634146339 \n",
      "SST =  169.33333333333331 \n",
      "R_squared =  0.7969440176685232\n"
     ]
    }
   ],
   "source": [
    "SSE=(residuals**2).sum()\n",
    "SST=((y-y.mean())**2).sum()\n",
    "R_squared=1-(SSE/SST)\n",
    "print('SSE = ',SSE,'\\nSST = ',SST,'\\nR_squared = ',R_squared)"
   ]
  },
  {
   "cell_type": "code",
   "execution_count": 55,
   "metadata": {},
   "outputs": [
    {
     "name": "stdout",
     "output_type": "stream",
     "text": [
      "score = 0.7969440176685232\n",
      "Mean_squared_Error =  5.730691056910565\n",
      "RMSE =  2.393886182948255\n"
     ]
    }
   ],
   "source": [
    "from sklearn.metrics import mean_squared_error\n",
    "print('score =',linear_regression.score(X=pd.DataFrame(X),y=y))\n",
    "print('Mean_squared_Error = ',mean_squared_error(prediction,y))\n",
    "print('RMSE = ',mean_squared_error(prediction,y)**0.5)\n"
   ]
  },
  {
   "cell_type": "code",
   "execution_count": null,
   "metadata": {},
   "outputs": [],
   "source": []
  },
  {
   "cell_type": "code",
   "execution_count": 56,
   "metadata": {},
   "outputs": [
    {
     "data": {
      "text/html": [
       "<div>\n",
       "<style scoped>\n",
       "    .dataframe tbody tr th:only-of-type {\n",
       "        vertical-align: middle;\n",
       "    }\n",
       "\n",
       "    .dataframe tbody tr th {\n",
       "        vertical-align: top;\n",
       "    }\n",
       "\n",
       "    .dataframe thead th {\n",
       "        text-align: right;\n",
       "    }\n",
       "</style>\n",
       "<table border=\"1\" class=\"dataframe\">\n",
       "  <thead>\n",
       "    <tr style=\"text-align: right;\">\n",
       "      <th></th>\n",
       "      <th>x1</th>\n",
       "      <th>x2</th>\n",
       "    </tr>\n",
       "  </thead>\n",
       "  <tbody>\n",
       "    <tr>\n",
       "      <th>0</th>\n",
       "      <td>25</td>\n",
       "      <td>15</td>\n",
       "    </tr>\n",
       "  </tbody>\n",
       "</table>\n",
       "</div>"
      ],
      "text/plain": [
       "   x1  x2\n",
       "0  25  15"
      ]
     },
     "execution_count": 56,
     "metadata": {},
     "output_type": "execute_result"
    }
   ],
   "source": [
    "new_data=pd.DataFrame({'x1':[25],'x2':[15]})\n",
    "new_data"
   ]
  },
  {
   "cell_type": "code",
   "execution_count": 61,
   "metadata": {},
   "outputs": [
    {
     "data": {
      "text/plain": [
       "array([40.62028825])"
      ]
     },
     "execution_count": 61,
     "metadata": {},
     "output_type": "execute_result"
    }
   ],
   "source": [
    "new_sale=linear_regression.predict(X=new_data)\n",
    "new_sale"
   ]
  },
  {
   "cell_type": "code",
   "execution_count": 60,
   "metadata": {},
   "outputs": [
    {
     "data": {
      "text/plain": [
       "40.62028824833703"
      ]
     },
     "execution_count": 60,
     "metadata": {},
     "output_type": "execute_result"
    }
   ],
   "source": [
    "a+(b[0]*25)+(b[1]*15)"
   ]
  }
 ],
 "metadata": {
  "kernelspec": {
   "display_name": "Python 3",
   "language": "python",
   "name": "python3"
  },
  "language_info": {
   "codemirror_mode": {
    "name": "ipython",
    "version": 3
   },
   "file_extension": ".py",
   "mimetype": "text/x-python",
   "name": "python",
   "nbconvert_exporter": "python",
   "pygments_lexer": "ipython3",
   "version": "3.7.3"
  }
 },
 "nbformat": 4,
 "nbformat_minor": 2
}
