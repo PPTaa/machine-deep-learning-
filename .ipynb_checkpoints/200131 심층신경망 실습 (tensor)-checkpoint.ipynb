{
 "cells": [
  {
   "cell_type": "code",
   "execution_count": 1,
   "metadata": {},
   "outputs": [
    {
     "name": "stderr",
     "output_type": "stream",
     "text": [
      "C:\\ai\\python\\anaconda3\\lib\\site-packages\\tensorflow\\python\\framework\\dtypes.py:516: FutureWarning: Passing (type, 1) or '1type' as a synonym of type is deprecated; in a future version of numpy, it will be understood as (type, (1,)) / '(1,)type'.\n",
      "  _np_qint8 = np.dtype([(\"qint8\", np.int8, 1)])\n",
      "C:\\ai\\python\\anaconda3\\lib\\site-packages\\tensorflow\\python\\framework\\dtypes.py:517: FutureWarning: Passing (type, 1) or '1type' as a synonym of type is deprecated; in a future version of numpy, it will be understood as (type, (1,)) / '(1,)type'.\n",
      "  _np_quint8 = np.dtype([(\"quint8\", np.uint8, 1)])\n",
      "C:\\ai\\python\\anaconda3\\lib\\site-packages\\tensorflow\\python\\framework\\dtypes.py:518: FutureWarning: Passing (type, 1) or '1type' as a synonym of type is deprecated; in a future version of numpy, it will be understood as (type, (1,)) / '(1,)type'.\n",
      "  _np_qint16 = np.dtype([(\"qint16\", np.int16, 1)])\n",
      "C:\\ai\\python\\anaconda3\\lib\\site-packages\\tensorflow\\python\\framework\\dtypes.py:519: FutureWarning: Passing (type, 1) or '1type' as a synonym of type is deprecated; in a future version of numpy, it will be understood as (type, (1,)) / '(1,)type'.\n",
      "  _np_quint16 = np.dtype([(\"quint16\", np.uint16, 1)])\n",
      "C:\\ai\\python\\anaconda3\\lib\\site-packages\\tensorflow\\python\\framework\\dtypes.py:520: FutureWarning: Passing (type, 1) or '1type' as a synonym of type is deprecated; in a future version of numpy, it will be understood as (type, (1,)) / '(1,)type'.\n",
      "  _np_qint32 = np.dtype([(\"qint32\", np.int32, 1)])\n",
      "C:\\ai\\python\\anaconda3\\lib\\site-packages\\tensorflow\\python\\framework\\dtypes.py:525: FutureWarning: Passing (type, 1) or '1type' as a synonym of type is deprecated; in a future version of numpy, it will be understood as (type, (1,)) / '(1,)type'.\n",
      "  np_resource = np.dtype([(\"resource\", np.ubyte, 1)])\n",
      "C:\\ai\\python\\anaconda3\\lib\\site-packages\\tensorboard\\compat\\tensorflow_stub\\dtypes.py:541: FutureWarning: Passing (type, 1) or '1type' as a synonym of type is deprecated; in a future version of numpy, it will be understood as (type, (1,)) / '(1,)type'.\n",
      "  _np_qint8 = np.dtype([(\"qint8\", np.int8, 1)])\n",
      "C:\\ai\\python\\anaconda3\\lib\\site-packages\\tensorboard\\compat\\tensorflow_stub\\dtypes.py:542: FutureWarning: Passing (type, 1) or '1type' as a synonym of type is deprecated; in a future version of numpy, it will be understood as (type, (1,)) / '(1,)type'.\n",
      "  _np_quint8 = np.dtype([(\"quint8\", np.uint8, 1)])\n",
      "C:\\ai\\python\\anaconda3\\lib\\site-packages\\tensorboard\\compat\\tensorflow_stub\\dtypes.py:543: FutureWarning: Passing (type, 1) or '1type' as a synonym of type is deprecated; in a future version of numpy, it will be understood as (type, (1,)) / '(1,)type'.\n",
      "  _np_qint16 = np.dtype([(\"qint16\", np.int16, 1)])\n",
      "C:\\ai\\python\\anaconda3\\lib\\site-packages\\tensorboard\\compat\\tensorflow_stub\\dtypes.py:544: FutureWarning: Passing (type, 1) or '1type' as a synonym of type is deprecated; in a future version of numpy, it will be understood as (type, (1,)) / '(1,)type'.\n",
      "  _np_quint16 = np.dtype([(\"quint16\", np.uint16, 1)])\n",
      "C:\\ai\\python\\anaconda3\\lib\\site-packages\\tensorboard\\compat\\tensorflow_stub\\dtypes.py:545: FutureWarning: Passing (type, 1) or '1type' as a synonym of type is deprecated; in a future version of numpy, it will be understood as (type, (1,)) / '(1,)type'.\n",
      "  _np_qint32 = np.dtype([(\"qint32\", np.int32, 1)])\n",
      "C:\\ai\\python\\anaconda3\\lib\\site-packages\\tensorboard\\compat\\tensorflow_stub\\dtypes.py:550: FutureWarning: Passing (type, 1) or '1type' as a synonym of type is deprecated; in a future version of numpy, it will be understood as (type, (1,)) / '(1,)type'.\n",
      "  np_resource = np.dtype([(\"resource\", np.ubyte, 1)])\n"
     ]
    }
   ],
   "source": [
    "import numpy as np\n",
    "import tensorflow as tf"
   ]
  },
  {
   "cell_type": "code",
   "execution_count": 2,
   "metadata": {},
   "outputs": [],
   "source": [
    "tf.enable_eager_execution()"
   ]
  },
  {
   "cell_type": "code",
   "execution_count": 3,
   "metadata": {},
   "outputs": [],
   "source": [
    "X=np.array([\n",
    "    [0,0],\n",
    "    [0,1],\n",
    "    [1,0],\n",
    "    [1,1],\n",
    "], dtype='float32')\n",
    "y=np.array([\n",
    "    [0],\n",
    "    [1],\n",
    "    [1],\n",
    "    [0]\n",
    "],dtype='float32')"
   ]
  },
  {
   "cell_type": "code",
   "execution_count": 4,
   "metadata": {},
   "outputs": [],
   "source": [
    "w0 = tf.Variable([\n",
    "    [1,2],[3,4]\n",
    "],dtype='float32')\n",
    "\n",
    "b0 = tf.Variable([\n",
    "    [0,0]\n",
    "],dtype='float32')"
   ]
  },
  {
   "cell_type": "code",
   "execution_count": 5,
   "metadata": {},
   "outputs": [],
   "source": [
    "w1 = tf.Variable([\n",
    "    [5],[6]\n",
    "],dtype='float32')\n",
    "b1 = tf.Variable([\n",
    "    [0]\n",
    "],dtype='float32')"
   ]
  },
  {
   "cell_type": "code",
   "execution_count": 6,
   "metadata": {},
   "outputs": [],
   "source": [
    "optimizer = tf.train.AdamOptimizer(0.1)"
   ]
  },
  {
   "cell_type": "code",
   "execution_count": 7,
   "metadata": {},
   "outputs": [
    {
     "name": "stdout",
     "output_type": "stream",
     "text": [
      "cost0 tf.Tensor(4.0991926, shape=(), dtype=float32)\n",
      "cost100 tf.Tensor(0.5574863, shape=(), dtype=float32)\n",
      "cost200 tf.Tensor(0.5103298, shape=(), dtype=float32)\n",
      "cost300 tf.Tensor(0.4952953, shape=(), dtype=float32)\n",
      "cost400 tf.Tensor(0.48861066, shape=(), dtype=float32)\n",
      "cost500 tf.Tensor(0.48508033, shape=(), dtype=float32)\n",
      "cost600 tf.Tensor(0.48299354, shape=(), dtype=float32)\n",
      "cost700 tf.Tensor(0.4816553, shape=(), dtype=float32)\n",
      "cost800 tf.Tensor(0.4807425, shape=(), dtype=float32)\n",
      "cost900 tf.Tensor(0.48008978, shape=(), dtype=float32)\n",
      "cost1000 tf.Tensor(0.47960454, shape=(), dtype=float32)\n",
      "cost1100 tf.Tensor(0.47923204, shape=(), dtype=float32)\n",
      "cost1200 tf.Tensor(0.478938, shape=(), dtype=float32)\n",
      "cost1300 tf.Tensor(0.4787004, shape=(), dtype=float32)\n",
      "cost1400 tf.Tensor(0.4785034, shape=(), dtype=float32)\n",
      "cost1500 tf.Tensor(0.4783359, shape=(), dtype=float32)\n",
      "cost1600 tf.Tensor(0.47818917, shape=(), dtype=float32)\n",
      "cost1700 tf.Tensor(0.47805548, shape=(), dtype=float32)\n",
      "cost1800 tf.Tensor(0.4779266, shape=(), dtype=float32)\n",
      "cost1900 tf.Tensor(0.47779125, shape=(), dtype=float32)\n",
      "cost2000 tf.Tensor(0.47762707, shape=(), dtype=float32)\n",
      "cost2100 tf.Tensor(0.47737277, shape=(), dtype=float32)\n",
      "cost2200 tf.Tensor(0.4767341, shape=(), dtype=float32)\n",
      "cost2300 tf.Tensor(0.44573307, shape=(), dtype=float32)\n",
      "cost2400 tf.Tensor(0.0093657095, shape=(), dtype=float32)\n",
      "cost2500 tf.Tensor(0.0050688293, shape=(), dtype=float32)\n",
      "cost2600 tf.Tensor(0.0034459112, shape=(), dtype=float32)\n",
      "cost2700 tf.Tensor(0.0025816136, shape=(), dtype=float32)\n",
      "cost2800 tf.Tensor(0.0020434093, shape=(), dtype=float32)\n",
      "cost2900 tf.Tensor(0.0016759838, shape=(), dtype=float32)\n",
      "cost3000 tf.Tensor(0.0014093221, shape=(), dtype=float32)\n",
      "cost3100 tf.Tensor(0.001207106, shape=(), dtype=float32)\n",
      "cost3200 tf.Tensor(0.0010487493, shape=(), dtype=float32)\n",
      "cost3300 tf.Tensor(0.0009214454, shape=(), dtype=float32)\n",
      "cost3400 tf.Tensor(0.00081706763, shape=(), dtype=float32)\n",
      "cost3500 tf.Tensor(0.0007300009, shape=(), dtype=float32)\n",
      "cost3600 tf.Tensor(0.000656393, shape=(), dtype=float32)\n",
      "cost3700 tf.Tensor(0.0005934074, shape=(), dtype=float32)\n",
      "cost3800 tf.Tensor(0.00053902925, shape=(), dtype=float32)\n",
      "cost3900 tf.Tensor(0.0004915722, shape=(), dtype=float32)\n",
      "cost4000 tf.Tensor(0.0004499467, shape=(), dtype=float32)\n",
      "cost4100 tf.Tensor(0.00041307876, shape=(), dtype=float32)\n",
      "cost4200 tf.Tensor(0.0003803118, shape=(), dtype=float32)\n",
      "cost4300 tf.Tensor(0.00035109385, shape=(), dtype=float32)\n",
      "cost4400 tf.Tensor(0.0003247687, shape=(), dtype=float32)\n",
      "cost4500 tf.Tensor(0.00030105287, shape=(), dtype=float32)\n",
      "cost4600 tf.Tensor(0.0002795437, shape=(), dtype=float32)\n",
      "cost4700 tf.Tensor(0.0002600323, shape=(), dtype=float32)\n",
      "cost4800 tf.Tensor(0.00024228018, shape=(), dtype=float32)\n",
      "cost4900 tf.Tensor(0.00022603375, shape=(), dtype=float32)\n"
     ]
    }
   ],
   "source": [
    "for i in range(5000):\n",
    "    with tf.GradientTape() as tape:\n",
    "        hyp0 = tf.sigmoid(tf.matmul(X,w0)+b0)\n",
    "        hyp1 = tf.sigmoid(tf.matmul(hyp0,w1)+b1)\n",
    "        cost = -tf.reduce_mean(y*tf.log(hyp1)+(1-y)*tf.log(1-hyp1))\n",
    "        grads = tape.gradient(cost,[w0,w1,b0,b1])\n",
    "        optimizer.apply_gradients(grads_and_vars=zip(grads,[w0,w1,b0,b1]))\n",
    "    if i%100 == 0:\n",
    "        print(f'cost{i}',cost)"
   ]
  },
  {
   "cell_type": "code",
   "execution_count": 8,
   "metadata": {},
   "outputs": [
    {
     "data": {
      "text/plain": [
       "<tf.Tensor: id=430171, shape=(4, 2), dtype=float32, numpy=\n",
       "array([[9.8641241e-01, 7.4630976e-04],\n",
       "       [9.9999917e-01, 9.9680889e-01],\n",
       "       [7.8473091e-03, 0.0000000e+00],\n",
       "       [9.9222112e-01, 1.0018647e-03]], dtype=float32)>"
      ]
     },
     "execution_count": 8,
     "metadata": {},
     "output_type": "execute_result"
    }
   ],
   "source": [
    "hypothesis = tf.sigmoid(tf.matmul(X,w0)+b0)\n",
    "hypothesis"
   ]
  },
  {
   "cell_type": "code",
   "execution_count": 9,
   "metadata": {},
   "outputs": [
    {
     "data": {
      "text/plain": [
       "<tf.Tensor: id=430177, shape=(4, 1), dtype=float32, numpy=\n",
       "array([[1.8140674e-04],\n",
       "       [9.9982220e-01],\n",
       "       [9.9967980e-01],\n",
       "       [1.6501546e-04]], dtype=float32)>"
      ]
     },
     "execution_count": 9,
     "metadata": {},
     "output_type": "execute_result"
    }
   ],
   "source": [
    "predict=tf.sigmoid(tf.matmul(hypothesis,w1)+b1)\n",
    "predict"
   ]
  },
  {
   "cell_type": "code",
   "execution_count": 10,
   "metadata": {},
   "outputs": [
    {
     "data": {
      "text/plain": [
       "<tf.Tensor: id=430181, shape=(4, 1), dtype=float32, numpy=\n",
       "array([[0.],\n",
       "       [1.],\n",
       "       [1.],\n",
       "       [0.]], dtype=float32)>"
      ]
     },
     "execution_count": 10,
     "metadata": {},
     "output_type": "execute_result"
    }
   ],
   "source": [
    "predict =tf.cast(predict>0.5, dtype='float32')\n",
    "predict"
   ]
  },
  {
   "cell_type": "code",
   "execution_count": 11,
   "metadata": {},
   "outputs": [
    {
     "data": {
      "text/plain": [
       "<tf.Tensor: id=430184, shape=(4, 1), dtype=bool, numpy=\n",
       "array([[ True],\n",
       "       [ True],\n",
       "       [ True],\n",
       "       [ True]])>"
      ]
     },
     "execution_count": 11,
     "metadata": {},
     "output_type": "execute_result"
    }
   ],
   "source": [
    "acc = tf.equal(predict,y)\n",
    "acc"
   ]
  },
  {
   "cell_type": "code",
   "execution_count": 12,
   "metadata": {},
   "outputs": [
    {
     "data": {
      "text/plain": [
       "<tf.Tensor: id=430186, shape=(4, 1), dtype=float32, numpy=\n",
       "array([[1.],\n",
       "       [1.],\n",
       "       [1.],\n",
       "       [1.]], dtype=float32)>"
      ]
     },
     "execution_count": 12,
     "metadata": {},
     "output_type": "execute_result"
    }
   ],
   "source": [
    "acc = tf.cast(acc,dtype='float32')\n",
    "acc"
   ]
  },
  {
   "cell_type": "code",
   "execution_count": 13,
   "metadata": {},
   "outputs": [
    {
     "data": {
      "text/plain": [
       "<tf.Tensor: id=430189, shape=(), dtype=float32, numpy=1.0>"
      ]
     },
     "execution_count": 13,
     "metadata": {},
     "output_type": "execute_result"
    }
   ],
   "source": [
    "tf.reduce_mean(acc)"
   ]
  },
  {
   "cell_type": "code",
   "execution_count": 14,
   "metadata": {},
   "outputs": [
    {
     "data": {
      "text/plain": [
       "array([[0., 1.]], dtype=float32)"
      ]
     },
     "execution_count": 14,
     "metadata": {},
     "output_type": "execute_result"
    }
   ],
   "source": [
    "arr = np.array([[0,1]],dtype='float32')\n",
    "arr"
   ]
  },
  {
   "cell_type": "code",
   "execution_count": 16,
   "metadata": {},
   "outputs": [
    {
     "data": {
      "text/plain": [
       "array([[1.]], dtype=float32)"
      ]
     },
     "execution_count": 16,
     "metadata": {},
     "output_type": "execute_result"
    }
   ],
   "source": [
    "hypothesis = tf.sigmoid(tf.matmul(arr,w0)+b0)\n",
    "predict=tf.sigmoid(tf.matmul(hypothesis,w1)+b1)\n",
    "predict=tf.cast(predict>0.5, dtype='float32')\n",
    "predict.numpy()"
   ]
  },
  {
   "cell_type": "code",
   "execution_count": null,
   "metadata": {},
   "outputs": [],
   "source": []
  }
 ],
 "metadata": {
  "kernelspec": {
   "display_name": "Python 3",
   "language": "python",
   "name": "python3"
  },
  "language_info": {
   "codemirror_mode": {
    "name": "ipython",
    "version": 3
   },
   "file_extension": ".py",
   "mimetype": "text/x-python",
   "name": "python",
   "nbconvert_exporter": "python",
   "pygments_lexer": "ipython3",
   "version": "3.7.3"
  }
 },
 "nbformat": 4,
 "nbformat_minor": 2
}
