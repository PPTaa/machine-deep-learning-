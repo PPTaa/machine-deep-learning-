{
 "cells": [
  {
   "cell_type": "code",
   "execution_count": 1,
   "metadata": {
    "colab": {
     "base_uri": "https://localhost:8080/",
     "height": 80
    },
    "colab_type": "code",
    "executionInfo": {
     "elapsed": 2619,
     "status": "ok",
     "timestamp": 1581481951137,
     "user": {
      "displayName": "",
      "photoUrl": "",
      "userId": ""
     },
     "user_tz": -540
    },
    "id": "_xl8E-mLOl2M",
    "outputId": "845210f1-4481-4889-8880-990753fe3149"
   },
   "outputs": [
    {
     "name": "stderr",
     "output_type": "stream",
     "text": [
      "C:\\ai\\python\\anaconda3\\lib\\site-packages\\tensorflow\\python\\framework\\dtypes.py:516: FutureWarning: Passing (type, 1) or '1type' as a synonym of type is deprecated; in a future version of numpy, it will be understood as (type, (1,)) / '(1,)type'.\n",
      "  _np_qint8 = np.dtype([(\"qint8\", np.int8, 1)])\n",
      "C:\\ai\\python\\anaconda3\\lib\\site-packages\\tensorflow\\python\\framework\\dtypes.py:517: FutureWarning: Passing (type, 1) or '1type' as a synonym of type is deprecated; in a future version of numpy, it will be understood as (type, (1,)) / '(1,)type'.\n",
      "  _np_quint8 = np.dtype([(\"quint8\", np.uint8, 1)])\n",
      "C:\\ai\\python\\anaconda3\\lib\\site-packages\\tensorflow\\python\\framework\\dtypes.py:518: FutureWarning: Passing (type, 1) or '1type' as a synonym of type is deprecated; in a future version of numpy, it will be understood as (type, (1,)) / '(1,)type'.\n",
      "  _np_qint16 = np.dtype([(\"qint16\", np.int16, 1)])\n",
      "C:\\ai\\python\\anaconda3\\lib\\site-packages\\tensorflow\\python\\framework\\dtypes.py:519: FutureWarning: Passing (type, 1) or '1type' as a synonym of type is deprecated; in a future version of numpy, it will be understood as (type, (1,)) / '(1,)type'.\n",
      "  _np_quint16 = np.dtype([(\"quint16\", np.uint16, 1)])\n",
      "C:\\ai\\python\\anaconda3\\lib\\site-packages\\tensorflow\\python\\framework\\dtypes.py:520: FutureWarning: Passing (type, 1) or '1type' as a synonym of type is deprecated; in a future version of numpy, it will be understood as (type, (1,)) / '(1,)type'.\n",
      "  _np_qint32 = np.dtype([(\"qint32\", np.int32, 1)])\n",
      "C:\\ai\\python\\anaconda3\\lib\\site-packages\\tensorflow\\python\\framework\\dtypes.py:525: FutureWarning: Passing (type, 1) or '1type' as a synonym of type is deprecated; in a future version of numpy, it will be understood as (type, (1,)) / '(1,)type'.\n",
      "  np_resource = np.dtype([(\"resource\", np.ubyte, 1)])\n",
      "C:\\ai\\python\\anaconda3\\lib\\site-packages\\tensorboard\\compat\\tensorflow_stub\\dtypes.py:541: FutureWarning: Passing (type, 1) or '1type' as a synonym of type is deprecated; in a future version of numpy, it will be understood as (type, (1,)) / '(1,)type'.\n",
      "  _np_qint8 = np.dtype([(\"qint8\", np.int8, 1)])\n",
      "C:\\ai\\python\\anaconda3\\lib\\site-packages\\tensorboard\\compat\\tensorflow_stub\\dtypes.py:542: FutureWarning: Passing (type, 1) or '1type' as a synonym of type is deprecated; in a future version of numpy, it will be understood as (type, (1,)) / '(1,)type'.\n",
      "  _np_quint8 = np.dtype([(\"quint8\", np.uint8, 1)])\n",
      "C:\\ai\\python\\anaconda3\\lib\\site-packages\\tensorboard\\compat\\tensorflow_stub\\dtypes.py:543: FutureWarning: Passing (type, 1) or '1type' as a synonym of type is deprecated; in a future version of numpy, it will be understood as (type, (1,)) / '(1,)type'.\n",
      "  _np_qint16 = np.dtype([(\"qint16\", np.int16, 1)])\n",
      "C:\\ai\\python\\anaconda3\\lib\\site-packages\\tensorboard\\compat\\tensorflow_stub\\dtypes.py:544: FutureWarning: Passing (type, 1) or '1type' as a synonym of type is deprecated; in a future version of numpy, it will be understood as (type, (1,)) / '(1,)type'.\n",
      "  _np_quint16 = np.dtype([(\"quint16\", np.uint16, 1)])\n",
      "C:\\ai\\python\\anaconda3\\lib\\site-packages\\tensorboard\\compat\\tensorflow_stub\\dtypes.py:545: FutureWarning: Passing (type, 1) or '1type' as a synonym of type is deprecated; in a future version of numpy, it will be understood as (type, (1,)) / '(1,)type'.\n",
      "  _np_qint32 = np.dtype([(\"qint32\", np.int32, 1)])\n",
      "C:\\ai\\python\\anaconda3\\lib\\site-packages\\tensorboard\\compat\\tensorflow_stub\\dtypes.py:550: FutureWarning: Passing (type, 1) or '1type' as a synonym of type is deprecated; in a future version of numpy, it will be understood as (type, (1,)) / '(1,)type'.\n",
      "  np_resource = np.dtype([(\"resource\", np.ubyte, 1)])\n"
     ]
    }
   ],
   "source": [
    "import tensorflow as tf"
   ]
  },
  {
   "cell_type": "code",
   "execution_count": 2,
   "metadata": {
    "colab": {},
    "colab_type": "code",
    "id": "J9vAzONXO2DX"
   },
   "outputs": [],
   "source": [
    "tf.enable_eager_execution()"
   ]
  },
  {
   "cell_type": "code",
   "execution_count": 3,
   "metadata": {
    "colab": {},
    "colab_type": "code",
    "id": "n6BTeB1-OzS7"
   },
   "outputs": [],
   "source": [
    "from tensorflow.examples.tutorials.mnist import input_data"
   ]
  },
  {
   "cell_type": "code",
   "execution_count": 4,
   "metadata": {
    "colab": {
     "base_uri": "https://localhost:8080/",
     "height": 424
    },
    "colab_type": "code",
    "executionInfo": {
     "elapsed": 3750,
     "status": "ok",
     "timestamp": 1581481952306,
     "user": {
      "displayName": "",
      "photoUrl": "",
      "userId": ""
     },
     "user_tz": -540
    },
    "id": "wIsSUkLLPTnY",
    "outputId": "d0316907-e039-4230-b989-2147815f32ad"
   },
   "outputs": [
    {
     "name": "stdout",
     "output_type": "stream",
     "text": [
      "WARNING:tensorflow:From <ipython-input-4-606ce5e95118>:1: read_data_sets (from tensorflow.contrib.learn.python.learn.datasets.mnist) is deprecated and will be removed in a future version.\n",
      "Instructions for updating:\n",
      "Please use alternatives such as official/mnist/dataset.py from tensorflow/models.\n",
      "WARNING:tensorflow:From C:\\ai\\python\\anaconda3\\lib\\site-packages\\tensorflow\\contrib\\learn\\python\\learn\\datasets\\mnist.py:260: maybe_download (from tensorflow.contrib.learn.python.learn.datasets.base) is deprecated and will be removed in a future version.\n",
      "Instructions for updating:\n",
      "Please write your own downloading logic.\n",
      "WARNING:tensorflow:From C:\\ai\\python\\anaconda3\\lib\\site-packages\\tensorflow\\contrib\\learn\\python\\learn\\datasets\\base.py:252: _internal_retry.<locals>.wrap.<locals>.wrapped_fn (from tensorflow.contrib.learn.python.learn.datasets.base) is deprecated and will be removed in a future version.\n",
      "Instructions for updating:\n",
      "Please use urllib or similar directly.\n",
      "Successfully downloaded train-images-idx3-ubyte.gz 9912422 bytes.\n",
      "WARNING:tensorflow:From C:\\ai\\python\\anaconda3\\lib\\site-packages\\tensorflow\\contrib\\learn\\python\\learn\\datasets\\mnist.py:262: extract_images (from tensorflow.contrib.learn.python.learn.datasets.mnist) is deprecated and will be removed in a future version.\n",
      "Instructions for updating:\n",
      "Please use tf.data to implement this functionality.\n",
      "Extracting ./sample_data/train-images-idx3-ubyte.gz\n",
      "Successfully downloaded train-labels-idx1-ubyte.gz 28881 bytes.\n",
      "WARNING:tensorflow:From C:\\ai\\python\\anaconda3\\lib\\site-packages\\tensorflow\\contrib\\learn\\python\\learn\\datasets\\mnist.py:267: extract_labels (from tensorflow.contrib.learn.python.learn.datasets.mnist) is deprecated and will be removed in a future version.\n",
      "Instructions for updating:\n",
      "Please use tf.data to implement this functionality.\n",
      "Extracting ./sample_data/train-labels-idx1-ubyte.gz\n",
      "WARNING:tensorflow:From C:\\ai\\python\\anaconda3\\lib\\site-packages\\tensorflow\\contrib\\learn\\python\\learn\\datasets\\mnist.py:110: dense_to_one_hot (from tensorflow.contrib.learn.python.learn.datasets.mnist) is deprecated and will be removed in a future version.\n",
      "Instructions for updating:\n",
      "Please use tf.one_hot on tensors.\n",
      "Successfully downloaded t10k-images-idx3-ubyte.gz 1648877 bytes.\n",
      "Extracting ./sample_data/t10k-images-idx3-ubyte.gz\n",
      "Successfully downloaded t10k-labels-idx1-ubyte.gz 4542 bytes.\n",
      "Extracting ./sample_data/t10k-labels-idx1-ubyte.gz\n",
      "WARNING:tensorflow:From C:\\ai\\python\\anaconda3\\lib\\site-packages\\tensorflow\\contrib\\learn\\python\\learn\\datasets\\mnist.py:290: DataSet.__init__ (from tensorflow.contrib.learn.python.learn.datasets.mnist) is deprecated and will be removed in a future version.\n",
      "Instructions for updating:\n",
      "Please use alternatives such as official/mnist/dataset.py from tensorflow/models.\n"
     ]
    }
   ],
   "source": [
    "mnist = input_data.read_data_sets('./sample_data/', one_hot=True)"
   ]
  },
  {
   "cell_type": "code",
   "execution_count": 5,
   "metadata": {
    "colab": {},
    "colab_type": "code",
    "id": "3vTG8NrxPlKC"
   },
   "outputs": [],
   "source": [
    "X,y = mnist.train.next_batch(1)"
   ]
  },
  {
   "cell_type": "code",
   "execution_count": 6,
   "metadata": {
    "colab": {},
    "colab_type": "code",
    "id": "8dNfCTC3QS7L"
   },
   "outputs": [],
   "source": [
    "import matplotlib.pyplot as plt"
   ]
  },
  {
   "cell_type": "code",
   "execution_count": 7,
   "metadata": {
    "colab": {
     "base_uri": "https://localhost:8080/",
     "height": 282
    },
    "colab_type": "code",
    "executionInfo": {
     "elapsed": 4010,
     "status": "ok",
     "timestamp": 1581481952591,
     "user": {
      "displayName": "",
      "photoUrl": "",
      "userId": ""
     },
     "user_tz": -540
    },
    "id": "9cHH4CNVQbE7",
    "outputId": "6615f48e-d5cf-4279-a57d-d0aa7e89c8f9"
   },
   "outputs": [
    {
     "data": {
      "text/plain": [
       "<matplotlib.image.AxesImage at 0x1ad05228940>"
      ]
     },
     "execution_count": 7,
     "metadata": {},
     "output_type": "execute_result"
    },
    {
     "data": {
      "image/png": "[encoded data removed]",
      "text/plain": [
       "<Figure size 432x288 with 1 Axes>"
      ]
     },
     "metadata": {
      "needs_background": "light"
     },
     "output_type": "display_data"
    }
   ],
   "source": [
    "plt.imshow(X.reshape(28,28))"
   ]
  },
  {
   "cell_type": "code",
   "execution_count": 8,
   "metadata": {
    "colab": {},
    "colab_type": "code",
    "id": "iuI5D_2cRpHb"
   },
   "outputs": [],
   "source": [
    "X=X.reshape(1,28,28,1)"
   ]
  },
  {
   "cell_type": "code",
   "execution_count": 9,
   "metadata": {
    "colab": {
     "base_uri": "https://localhost:8080/",
     "height": 158
    },
    "colab_type": "code",
    "executionInfo": {
     "elapsed": 4229,
     "status": "ok",
     "timestamp": 1581481952877,
     "user": {
      "displayName": "",
      "photoUrl": "",
      "userId": ""
     },
     "user_tz": -540
    },
    "id": "SR9g_40JQsMQ",
    "outputId": "f47ef69f-9bec-429f-9eba-2e66bbd7db5f"
   },
   "outputs": [],
   "source": [
    "initializer = tf.contrib.layers.xavier_initializer()"
   ]
  },
  {
   "cell_type": "code",
   "execution_count": 10,
   "metadata": {
    "colab": {},
    "colab_type": "code",
    "id": "M-Lfi5m2QsUp"
   },
   "outputs": [],
   "source": [
    "w1 = tf.Variable(initializer([3,3,1,32]))"
   ]
  },
  {
   "cell_type": "code",
   "execution_count": 11,
   "metadata": {
    "colab": {},
    "colab_type": "code",
    "id": "yqKIhRyUQsXE"
   },
   "outputs": [],
   "source": [
    "w2 = tf.Variable(initializer([3,3,32,64]))"
   ]
  },
  {
   "cell_type": "code",
   "execution_count": 12,
   "metadata": {
    "colab": {},
    "colab_type": "code",
    "id": "JXJJQJkWQsb8"
   },
   "outputs": [],
   "source": [
    "w3 = tf.Variable(initializer([28*28*64,512]))"
   ]
  },
  {
   "cell_type": "code",
   "execution_count": 13,
   "metadata": {
    "colab": {},
    "colab_type": "code",
    "id": "kZZUOB3kQsee"
   },
   "outputs": [],
   "source": [
    "w4 = tf.Variable(initializer([512,10]))"
   ]
  },
  {
   "cell_type": "code",
   "execution_count": 14,
   "metadata": {
    "colab": {},
    "colab_type": "code",
    "id": "QZ__zAlYQsi7"
   },
   "outputs": [],
   "source": [
    "batch_size = 100\n",
    "total_batch = int(mnist.train.num_examples/batch_size)"
   ]
  },
  {
   "cell_type": "code",
   "execution_count": 15,
   "metadata": {
    "colab": {},
    "colab_type": "code",
    "id": "7qNzVZGGQsg-"
   },
   "outputs": [],
   "source": [
    "optimizer = tf.train.AdamOptimizer(0.0005)"
   ]
  },
  {
   "cell_type": "code",
   "execution_count": null,
   "metadata": {
    "colab": {},
    "colab_type": "code",
    "id": "fIECOOhUQsaY"
   },
   "outputs": [],
   "source": []
  },
  {
   "cell_type": "code",
   "execution_count": 16,
   "metadata": {
    "colab": {
     "base_uri": "https://localhost:8080/",
     "height": 210
    },
    "colab_type": "code",
    "executionInfo": {
     "elapsed": 122071,
     "status": "ok",
     "timestamp": 1581482070959,
     "user": {
      "displayName": "",
      "photoUrl": "",
      "userId": ""
     },
     "user_tz": -540
    },
    "id": "qSEO4K1CQdT6",
    "outputId": "9753fbd4-d460-405e-90ac-9fa5150c2dff"
   },
   "outputs": [
    {
     "name": "stdout",
     "output_type": "stream",
     "text": [
      "step : 0 , cost : 0.12086832523345947\n",
      "step : 1 , cost : 0.03681263327598572\n",
      "step : 2 , cost : 0.01965077966451645\n",
      "step : 3 , cost : 0.012608728371560574\n",
      "step : 4 , cost : 0.009330949746072292\n",
      "step : 5 , cost : 0.006698075216263533\n",
      "step : 6 , cost : 0.0056588854640722275\n",
      "step : 7 , cost : 0.004172289744019508\n",
      "step : 8 , cost : 0.0047445762902498245\n",
      "step : 9 , cost : 0.003811873495578766\n",
      "step : 10 , cost : 0.004617867060005665\n"
     ]
    }
   ],
   "source": [
    "for i in range(11):\n",
    "    total_cost = 0\n",
    "    for j in range(total_batch):\n",
    "        X,y = mnist.train.next_batch(batch_size)\n",
    "        X=X.reshape(-1,28,28,1)\n",
    "        with tf.GradientTape() as tape:\n",
    "            convolution_h1=tf.nn.conv2d(X,w1,strides=1,padding='SAME')\n",
    "            convolution_h1=tf.nn.relu(convolution_h1)\n",
    "            convolution_h2=tf.nn.conv2d(convolution_h1,w2,strides=1,padding='SAME')\n",
    "            convolution_h2=tf.nn.relu(convolution_h2)\n",
    "            convolution_h2=tf.nn.max_pool(convolution_h2,ksize=2,strides=1,padding='SAME')\n",
    "            convolution_h2=tf.reshape(convolution_h2,[-1,28*28*64])\n",
    "            y_h1=tf.matmul(convolution_h2,w3)\n",
    "            y_h1=tf.nn.relu(y_h1)\n",
    "            y_h2=tf.matmul(y_h1,w4)\n",
    "            y_h2=tf.nn.softmax(y_h2)\n",
    "            cost=-tf.reduce_sum(y*tf.log(y_h2))/len(y_h2)\n",
    "            grads = tape.gradient(cost,[w1,w2,w3,w4])\n",
    "            optimizer.apply_gradients(grads_and_vars=zip(grads,[w1,w2,w3,w4]))\n",
    "        total_cost+=cost\n",
    "    print(f'step : {i} , cost : {total_cost/total_batch}')"
   ]
  },
  {
   "cell_type": "code",
   "execution_count": 17,
   "metadata": {
    "colab": {
     "base_uri": "https://localhost:8080/",
     "height": 140
    },
    "colab_type": "code",
    "executionInfo": {
     "elapsed": 122054,
     "status": "ok",
     "timestamp": 1581482070961,
     "user": {
      "displayName": "",
      "photoUrl": "",
      "userId": ""
     },
     "user_tz": -540
    },
    "id": "OPUFoKt-buQM",
    "outputId": "6c5ae9a9-35a5-44bf-fe57-259b9ba88b7b"
   },
   "outputs": [
    {
     "data": {
      "text/plain": [
       "array([[0., 0., 0., ..., 0., 0., 0.],\n",
       "       [0., 0., 0., ..., 0., 0., 0.],\n",
       "       [0., 0., 0., ..., 0., 0., 0.],\n",
       "       ...,\n",
       "       [0., 0., 0., ..., 0., 0., 0.],\n",
       "       [0., 0., 0., ..., 0., 0., 0.],\n",
       "       [0., 0., 0., ..., 0., 0., 0.]], dtype=float32)"
      ]
     },
     "execution_count": 17,
     "metadata": {},
     "output_type": "execute_result"
    }
   ],
   "source": [
    "test_image = mnist.test.images[0:100]\n",
    "test_image"
   ]
  },
  {
   "cell_type": "code",
   "execution_count": 18,
   "metadata": {
    "colab": {
     "base_uri": "https://localhost:8080/",
     "height": 1000
    },
    "colab_type": "code",
    "executionInfo": {
     "elapsed": 122034,
     "status": "ok",
     "timestamp": 1581482070961,
     "user": {
      "displayName": "",
      "photoUrl": "",
      "userId": ""
     },
     "user_tz": -540
    },
    "id": "DLyga_QYRO93",
    "outputId": "151fd589-420d-4e16-ac91-769dcd2fc180"
   },
   "outputs": [
    {
     "data": {
      "text/plain": [
       "array([[0., 0., 0., 0., 0., 0., 0., 1., 0., 0.],\n",
       "       [0., 0., 1., 0., 0., 0., 0., 0., 0., 0.],\n",
       "       [0., 1., 0., 0., 0., 0., 0., 0., 0., 0.],\n",
       "       [1., 0., 0., 0., 0., 0., 0., 0., 0., 0.],\n",
       "       [0., 0., 0., 0., 1., 0., 0., 0., 0., 0.],\n",
       "       [0., 1., 0., 0., 0., 0., 0., 0., 0., 0.],\n",
       "       [0., 0., 0., 0., 1., 0., 0., 0., 0., 0.],\n",
       "       [0., 0., 0., 0., 0., 0., 0., 0., 0., 1.],\n",
       "       [0., 0., 0., 0., 0., 1., 0., 0., 0., 0.],\n",
       "       [0., 0., 0., 0., 0., 0., 0., 0., 0., 1.],\n",
       "       [1., 0., 0., 0., 0., 0., 0., 0., 0., 0.],\n",
       "       [0., 0., 0., 0., 0., 0., 1., 0., 0., 0.],\n",
       "       [0., 0., 0., 0., 0., 0., 0., 0., 0., 1.],\n",
       "       [1., 0., 0., 0., 0., 0., 0., 0., 0., 0.],\n",
       "       [0., 1., 0., 0., 0., 0., 0., 0., 0., 0.],\n",
       "       [0., 0., 0., 0., 0., 1., 0., 0., 0., 0.],\n",
       "       [0., 0., 0., 0., 0., 0., 0., 0., 0., 1.],\n",
       "       [0., 0., 0., 0., 0., 0., 0., 1., 0., 0.],\n",
       "       [0., 0., 0., 1., 0., 0., 0., 0., 0., 0.],\n",
       "       [0., 0., 0., 0., 1., 0., 0., 0., 0., 0.],\n",
       "       [0., 0., 0., 0., 0., 0., 0., 0., 0., 1.],\n",
       "       [0., 0., 0., 0., 0., 0., 1., 0., 0., 0.],\n",
       "       [0., 0., 0., 0., 0., 0., 1., 0., 0., 0.],\n",
       "       [0., 0., 0., 0., 0., 1., 0., 0., 0., 0.],\n",
       "       [0., 0., 0., 0., 1., 0., 0., 0., 0., 0.],\n",
       "       [1., 0., 0., 0., 0., 0., 0., 0., 0., 0.],\n",
       "       [0., 0., 0., 0., 0., 0., 0., 1., 0., 0.],\n",
       "       [0., 0., 0., 0., 1., 0., 0., 0., 0., 0.],\n",
       "       [1., 0., 0., 0., 0., 0., 0., 0., 0., 0.],\n",
       "       [0., 1., 0., 0., 0., 0., 0., 0., 0., 0.],\n",
       "       [0., 0., 0., 1., 0., 0., 0., 0., 0., 0.],\n",
       "       [0., 1., 0., 0., 0., 0., 0., 0., 0., 0.],\n",
       "       [0., 0., 0., 1., 0., 0., 0., 0., 0., 0.],\n",
       "       [0., 0., 0., 0., 1., 0., 0., 0., 0., 0.],\n",
       "       [0., 0., 0., 0., 0., 0., 0., 1., 0., 0.],\n",
       "       [0., 0., 1., 0., 0., 0., 0., 0., 0., 0.],\n",
       "       [0., 0., 0., 0., 0., 0., 0., 1., 0., 0.],\n",
       "       [0., 1., 0., 0., 0., 0., 0., 0., 0., 0.],\n",
       "       [0., 0., 1., 0., 0., 0., 0., 0., 0., 0.],\n",
       "       [0., 1., 0., 0., 0., 0., 0., 0., 0., 0.],\n",
       "       [0., 1., 0., 0., 0., 0., 0., 0., 0., 0.],\n",
       "       [0., 0., 0., 0., 0., 0., 0., 1., 0., 0.],\n",
       "       [0., 0., 0., 0., 1., 0., 0., 0., 0., 0.],\n",
       "       [0., 0., 1., 0., 0., 0., 0., 0., 0., 0.],\n",
       "       [0., 0., 0., 1., 0., 0., 0., 0., 0., 0.],\n",
       "       [0., 0., 0., 0., 0., 1., 0., 0., 0., 0.],\n",
       "       [0., 1., 0., 0., 0., 0., 0., 0., 0., 0.],\n",
       "       [0., 0., 1., 0., 0., 0., 0., 0., 0., 0.],\n",
       "       [0., 0., 0., 0., 1., 0., 0., 0., 0., 0.],\n",
       "       [0., 0., 0., 0., 1., 0., 0., 0., 0., 0.],\n",
       "       [0., 0., 0., 0., 0., 0., 1., 0., 0., 0.],\n",
       "       [0., 0., 0., 1., 0., 0., 0., 0., 0., 0.],\n",
       "       [0., 0., 0., 0., 0., 1., 0., 0., 0., 0.],\n",
       "       [0., 0., 0., 0., 0., 1., 0., 0., 0., 0.],\n",
       "       [0., 0., 0., 0., 0., 0., 1., 0., 0., 0.],\n",
       "       [1., 0., 0., 0., 0., 0., 0., 0., 0., 0.],\n",
       "       [0., 0., 0., 0., 1., 0., 0., 0., 0., 0.],\n",
       "       [0., 1., 0., 0., 0., 0., 0., 0., 0., 0.],\n",
       "       [0., 0., 0., 0., 0., 0., 0., 0., 0., 1.],\n",
       "       [0., 0., 0., 0., 0., 1., 0., 0., 0., 0.],\n",
       "       [0., 0., 0., 0., 0., 0., 0., 1., 0., 0.],\n",
       "       [0., 0., 0., 0., 0., 0., 0., 0., 1., 0.],\n",
       "       [0., 0., 0., 0., 0., 0., 0., 0., 0., 1.],\n",
       "       [0., 0., 0., 1., 0., 0., 0., 0., 0., 0.],\n",
       "       [0., 0., 0., 0., 0., 0., 0., 1., 0., 0.],\n",
       "       [0., 0., 0., 0., 1., 0., 0., 0., 0., 0.],\n",
       "       [0., 0., 0., 0., 0., 0., 1., 0., 0., 0.],\n",
       "       [0., 0., 0., 0., 1., 0., 0., 0., 0., 0.],\n",
       "       [0., 0., 0., 1., 0., 0., 0., 0., 0., 0.],\n",
       "       [1., 0., 0., 0., 0., 0., 0., 0., 0., 0.],\n",
       "       [0., 0., 0., 0., 0., 0., 0., 1., 0., 0.],\n",
       "       [1., 0., 0., 0., 0., 0., 0., 0., 0., 0.],\n",
       "       [0., 0., 1., 0., 0., 0., 0., 0., 0., 0.],\n",
       "       [0., 0., 0., 0., 0., 0., 0., 0., 0., 1.],\n",
       "       [0., 1., 0., 0., 0., 0., 0., 0., 0., 0.],\n",
       "       [0., 0., 0., 0., 0., 0., 0., 1., 0., 0.],\n",
       "       [0., 0., 0., 1., 0., 0., 0., 0., 0., 0.],\n",
       "       [0., 0., 1., 0., 0., 0., 0., 0., 0., 0.],\n",
       "       [0., 0., 0., 0., 0., 0., 0., 0., 0., 1.],\n",
       "       [0., 0., 0., 0., 0., 0., 0., 1., 0., 0.],\n",
       "       [0., 0., 0., 0., 0., 0., 0., 1., 0., 0.],\n",
       "       [0., 0., 0., 0., 0., 0., 1., 0., 0., 0.],\n",
       "       [0., 0., 1., 0., 0., 0., 0., 0., 0., 0.],\n",
       "       [0., 0., 0., 0., 0., 0., 0., 1., 0., 0.],\n",
       "       [0., 0., 0., 0., 0., 0., 0., 0., 1., 0.],\n",
       "       [0., 0., 0., 0., 1., 0., 0., 0., 0., 0.],\n",
       "       [0., 0., 0., 0., 0., 0., 0., 1., 0., 0.],\n",
       "       [0., 0., 0., 1., 0., 0., 0., 0., 0., 0.],\n",
       "       [0., 0., 0., 0., 0., 0., 1., 0., 0., 0.],\n",
       "       [0., 1., 0., 0., 0., 0., 0., 0., 0., 0.],\n",
       "       [0., 0., 0., 1., 0., 0., 0., 0., 0., 0.],\n",
       "       [0., 0., 0., 0., 0., 0., 1., 0., 0., 0.],\n",
       "       [0., 0., 0., 0., 0., 0., 0., 0., 0., 1.],\n",
       "       [0., 0., 0., 1., 0., 0., 0., 0., 0., 0.],\n",
       "       [0., 1., 0., 0., 0., 0., 0., 0., 0., 0.],\n",
       "       [0., 0., 0., 0., 1., 0., 0., 0., 0., 0.],\n",
       "       [0., 1., 0., 0., 0., 0., 0., 0., 0., 0.],\n",
       "       [0., 0., 0., 0., 0., 0., 0., 1., 0., 0.],\n",
       "       [0., 0., 0., 0., 0., 0., 1., 0., 0., 0.],\n",
       "       [0., 0., 0., 0., 0., 0., 0., 0., 0., 1.]])"
      ]
     },
     "execution_count": 18,
     "metadata": {},
     "output_type": "execute_result"
    }
   ],
   "source": [
    "test_labels = mnist.test.labels[0:100]\n",
    "test_labels"
   ]
  },
  {
   "cell_type": "code",
   "execution_count": 19,
   "metadata": {
    "colab": {
     "base_uri": "https://localhost:8080/",
     "height": 34
    },
    "colab_type": "code",
    "executionInfo": {
     "elapsed": 122023,
     "status": "ok",
     "timestamp": 1581482070962,
     "user": {
      "displayName": "",
      "photoUrl": "",
      "userId": ""
     },
     "user_tz": -540
    },
    "id": "42Lmu1-Ao_WD",
    "outputId": "e0e1ef8c-8ff9-456b-e846-e4cf2244cd14"
   },
   "outputs": [
    {
     "data": {
      "text/plain": [
       "(100, 28, 28, 1)"
      ]
     },
     "execution_count": 19,
     "metadata": {},
     "output_type": "execute_result"
    }
   ],
   "source": [
    "test_image = test_image.reshape(-1,28,28,1)\n",
    "test_image.shape"
   ]
  },
  {
   "cell_type": "code",
   "execution_count": 20,
   "metadata": {
    "colab": {},
    "colab_type": "code",
    "id": "vLVRZDaApJ6V"
   },
   "outputs": [],
   "source": [
    "convolution_h1=tf.nn.conv2d(test_image,w1,strides=1,padding='SAME')\n",
    "convolution_h1 = tf.nn.relu(convolution_h1)"
   ]
  },
  {
   "cell_type": "code",
   "execution_count": 21,
   "metadata": {
    "colab": {},
    "colab_type": "code",
    "id": "NxBNEathpVnu"
   },
   "outputs": [],
   "source": [
    "convolution_h2=tf.nn.conv2d(convolution_h1,w2,strides=1,padding='SAME')\n",
    "convolution_h2=tf.nn.relu(convolution_h2)\n",
    "\n",
    "convolution_h2=tf.nn.max_pool(convolution_h2,ksize=2,strides=1,padding='SAME')\n",
    "convolution_h2=tf.nn.relu(convolution_h2)\n",
    "\n",
    "convolution_h2=tf.reshape(convolution_h2,[-1,28*28*64])"
   ]
  },
  {
   "cell_type": "code",
   "execution_count": 22,
   "metadata": {
    "colab": {
     "base_uri": "https://localhost:8080/",
     "height": 1000
    },
    "colab_type": "code",
    "executionInfo": {
     "elapsed": 121978,
     "status": "ok",
     "timestamp": 1581482070965,
     "user": {
      "displayName": "",
      "photoUrl": "",
      "userId": ""
     },
     "user_tz": -540
    },
    "id": "lU5WZBSjp5yN",
    "outputId": "315553d1-5969-4f21-bb08-7eb7f304553b"
   },
   "outputs": [
    {
     "data": {
      "text/plain": [
       "<tf.Tensor: id=526550, shape=(100, 10), dtype=float32, numpy=\n",
       "array([[7.25555423e-12, 2.53491755e-10, 2.19160835e-11, 5.06017006e-09,\n",
       "        2.13988445e-11, 5.25691123e-12, 6.16978502e-15, 1.00000000e+00,\n",
       "        1.26023306e-11, 1.77086745e-09],\n",
       "       [1.30717980e-11, 1.09648367e-10, 1.00000000e+00, 4.16501188e-16,\n",
       "        7.97138451e-13, 2.67006747e-18, 2.47149662e-10, 4.67560175e-16,\n",
       "        6.11446657e-15, 5.57359622e-15],\n",
       "       [4.04020394e-12, 1.00000000e+00, 7.19903249e-13, 2.74859481e-14,\n",
       "        3.61671981e-09, 5.68025627e-10, 6.93967887e-12, 3.86346199e-09,\n",
       "        4.08117179e-10, 4.02038645e-12],\n",
       "       [1.00000000e+00, 1.28650823e-12, 9.64950255e-12, 4.49574722e-15,\n",
       "        2.81290263e-13, 1.11221213e-13, 4.95383123e-10, 1.13426597e-12,\n",
       "        5.99973142e-13, 1.98107988e-10],\n",
       "       [1.23183720e-11, 3.35714762e-10, 3.75051205e-12, 5.28810155e-12,\n",
       "        9.99979973e-01, 1.27325396e-12, 3.17398829e-10, 4.05991430e-12,\n",
       "        1.12361285e-08, 1.99869355e-05],\n",
       "       [2.88986630e-12, 1.00000000e+00, 7.20964087e-13, 9.73762459e-15,\n",
       "        8.85829010e-09, 2.20094568e-11, 1.97677486e-12, 8.48895976e-09,\n",
       "        9.05578779e-10, 1.82322872e-11],\n",
       "       [9.02856823e-14, 4.80589624e-10, 3.15740767e-11, 1.42734776e-14,\n",
       "        9.98105526e-01, 1.51713933e-10, 8.53340749e-12, 1.58625821e-11,\n",
       "        1.89058192e-03, 3.86950614e-06],\n",
       "       [4.83134379e-15, 3.24813683e-11, 5.34411237e-10, 2.18640058e-12,\n",
       "        4.59241564e-04, 3.91732827e-11, 3.27720224e-16, 4.17222553e-15,\n",
       "        4.85950068e-07, 9.99540329e-01],\n",
       "       [9.03249475e-06, 4.27410798e-12, 7.35073135e-13, 1.31149355e-10,\n",
       "        2.35435300e-06, 5.58487415e-01, 4.38196689e-01, 3.55344958e-13,\n",
       "        3.30339791e-03, 1.11321276e-06],\n",
       "       [2.77604090e-16, 1.05009110e-16, 3.09974592e-16, 4.26081479e-12,\n",
       "        1.74387296e-07, 4.49566491e-13, 9.83572210e-17, 1.16681891e-08,\n",
       "        3.71078501e-10, 9.99999762e-01],\n",
       "       [1.00000000e+00, 8.76735587e-16, 2.90422607e-13, 3.01796483e-17,\n",
       "        1.00102235e-16, 3.41830751e-14, 7.54126958e-13, 7.95186670e-14,\n",
       "        7.34191679e-13, 9.30367242e-12],\n",
       "       [4.13601445e-12, 1.51632207e-20, 1.52854281e-18, 5.12998190e-21,\n",
       "        3.56193924e-16, 1.00941777e-13, 1.00000000e+00, 2.17264816e-24,\n",
       "        1.09498871e-15, 2.57316658e-22],\n",
       "       [1.01802129e-14, 8.91525216e-14, 4.94537815e-15, 1.76103351e-11,\n",
       "        1.47337715e-07, 2.09049507e-13, 6.16437333e-15, 1.76869575e-10,\n",
       "        2.44002640e-09, 9.99999881e-01],\n",
       "       [1.00000000e+00, 4.34101474e-17, 8.47903019e-15, 1.16692065e-17,\n",
       "        3.52140647e-17, 9.75759255e-15, 4.14735043e-12, 3.48552470e-16,\n",
       "        1.71527148e-12, 2.49905392e-12],\n",
       "       [2.82148409e-13, 1.00000000e+00, 2.41838971e-16, 6.35358736e-12,\n",
       "        1.75151194e-09, 3.10464959e-10, 4.78276706e-12, 3.14364352e-14,\n",
       "        6.99147608e-13, 3.66247527e-12],\n",
       "       [1.48544797e-17, 4.98570263e-16, 7.08004437e-20, 2.61414357e-07,\n",
       "        3.05646106e-19, 9.99999762e-01, 1.76128598e-10, 1.23727331e-14,\n",
       "        2.25150679e-11, 1.40219613e-14],\n",
       "       [2.83650599e-13, 3.17008539e-16, 5.41614593e-15, 2.97195970e-12,\n",
       "        1.18398447e-09, 2.67547672e-14, 8.11560054e-15, 4.48117689e-11,\n",
       "        1.22460958e-10, 1.00000000e+00],\n",
       "       [3.45696805e-09, 1.59653415e-10, 3.60044883e-09, 1.84028015e-09,\n",
       "        1.95159403e-10, 3.76169373e-11, 3.50436461e-15, 1.00000000e+00,\n",
       "        9.04124215e-13, 5.73749297e-08],\n",
       "       [7.05861282e-07, 5.44618537e-08, 1.03620060e-07, 8.99063051e-03,\n",
       "        1.39440488e-06, 8.95295382e-01, 3.04894954e-08, 5.16982324e-09,\n",
       "        9.57115144e-02, 2.63546099e-07],\n",
       "       [2.58136414e-16, 5.19725478e-11, 5.51481468e-14, 2.86115977e-16,\n",
       "        1.00000000e+00, 9.14029594e-14, 7.12598813e-16, 4.50853382e-11,\n",
       "        9.81926888e-13, 1.07647211e-10],\n",
       "       [2.92313070e-12, 9.00621244e-12, 1.07152481e-12, 3.42619941e-08,\n",
       "        9.74361683e-07, 1.10054987e-09, 1.53410623e-13, 9.57588000e-08,\n",
       "        1.47697508e-08, 9.99998927e-01],\n",
       "       [1.03198309e-12, 8.62147476e-20, 3.16156476e-20, 3.52155271e-18,\n",
       "        1.01260395e-12, 1.16156542e-08, 1.00000000e+00, 1.55403800e-23,\n",
       "        6.82315207e-13, 3.75145228e-16],\n",
       "       [2.57942539e-12, 1.05650928e-14, 9.16898806e-17, 2.67447865e-20,\n",
       "        6.89019328e-12, 5.21975821e-14, 1.00000000e+00, 5.50388247e-19,\n",
       "        2.08351623e-14, 5.49791034e-16],\n",
       "       [4.31797544e-17, 7.65436233e-20, 5.00834183e-19, 1.76973436e-11,\n",
       "        6.40922599e-15, 1.00000000e+00, 3.46539366e-08, 7.90535607e-20,\n",
       "        7.76366276e-14, 1.91139066e-11],\n",
       "       [3.57020864e-13, 5.10208209e-10, 8.46907475e-11, 9.56312893e-12,\n",
       "        9.99986529e-01, 4.73587142e-12, 1.79788725e-12, 7.80541520e-10,\n",
       "        3.95049493e-10, 1.35135861e-05],\n",
       "       [1.00000000e+00, 8.44437205e-13, 6.66763103e-11, 5.60279790e-16,\n",
       "        2.89435392e-10, 4.42839942e-09, 9.96716842e-09, 2.41460723e-11,\n",
       "        3.09020476e-10, 3.29870888e-11],\n",
       "       [5.93108132e-11, 1.95327017e-13, 1.29374306e-11, 1.69910586e-10,\n",
       "        1.34102035e-10, 3.71877876e-13, 2.41454401e-17, 9.99999762e-01,\n",
       "        5.18789588e-14, 2.90082681e-07],\n",
       "       [4.94633327e-18, 1.32878449e-13, 3.41322249e-16, 3.16581625e-18,\n",
       "        1.00000000e+00, 3.07824015e-17, 2.23321519e-18, 9.69783771e-17,\n",
       "        4.08388126e-14, 2.88250923e-10],\n",
       "       [1.00000000e+00, 1.02821383e-10, 2.54447272e-08, 4.98071419e-12,\n",
       "        4.70081231e-11, 7.78731454e-11, 2.06977126e-11, 2.71517447e-10,\n",
       "        1.43315970e-09, 3.03188613e-10],\n",
       "       [8.96831112e-13, 9.99999404e-01, 8.43421340e-12, 3.74851483e-10,\n",
       "        5.86234989e-07, 4.55387200e-10, 2.30094893e-12, 4.99789750e-12,\n",
       "        1.26892397e-09, 3.28282401e-09],\n",
       "       [7.40783342e-20, 2.83779893e-17, 1.05376656e-17, 1.00000000e+00,\n",
       "        1.45204169e-15, 1.31025754e-11, 9.56260389e-19, 4.69965516e-15,\n",
       "        1.17223617e-14, 1.93305493e-11],\n",
       "       [5.13768472e-11, 9.99994278e-01, 8.15020898e-11, 1.30963615e-10,\n",
       "        4.43138060e-06, 3.38499340e-09, 2.08149366e-11, 3.82323728e-10,\n",
       "        3.88816757e-09, 1.27412034e-06],\n",
       "       [1.83279210e-19, 2.21227347e-13, 9.10142746e-15, 1.00000000e+00,\n",
       "        3.02612156e-13, 7.32574335e-10, 1.38954400e-15, 4.83847285e-15,\n",
       "        1.02233434e-12, 2.51776573e-12],\n",
       "       [2.18710072e-09, 7.22883253e-10, 9.40401437e-11, 1.75945478e-12,\n",
       "        1.00000000e+00, 4.30047100e-12, 3.38368777e-10, 7.84934531e-12,\n",
       "        1.71764661e-14, 4.56005622e-13],\n",
       "       [2.65890215e-14, 1.19685648e-08, 9.03881900e-11, 1.54586743e-07,\n",
       "        1.28473829e-11, 5.81662485e-13, 6.00297544e-15, 9.99999881e-01,\n",
       "        4.33524577e-10, 4.49295490e-10],\n",
       "       [1.85502221e-12, 1.27081705e-08, 1.00000000e+00, 3.43300277e-10,\n",
       "        1.06848916e-12, 4.66204585e-17, 9.33519687e-14, 1.97595327e-08,\n",
       "        1.19427013e-09, 2.69022971e-10],\n",
       "       [2.99148595e-10, 1.10717679e-09, 1.73105789e-07, 1.53776458e-08,\n",
       "        5.05119592e-11, 5.10087408e-14, 2.88026574e-14, 9.99999762e-01,\n",
       "        1.67790518e-10, 1.11235900e-08],\n",
       "       [5.55009380e-13, 1.00000000e+00, 2.79566382e-13, 4.97771041e-13,\n",
       "        4.67439030e-08, 2.20693297e-10, 2.79628382e-12, 7.13959725e-11,\n",
       "        1.33026243e-10, 4.51084370e-09],\n",
       "       [5.88577020e-10, 2.92967115e-07, 9.99999762e-01, 2.17626722e-10,\n",
       "        2.74704183e-11, 1.06458764e-15, 8.05571148e-12, 6.80640266e-11,\n",
       "        3.87278654e-09, 5.60109814e-12],\n",
       "       [1.49935515e-11, 1.00000000e+00, 1.31930925e-13, 1.62860434e-13,\n",
       "        1.09959064e-08, 5.44144278e-11, 1.40673795e-09, 6.31196050e-13,\n",
       "        5.15420085e-12, 2.08777995e-11],\n",
       "       [1.66932590e-09, 1.00000000e+00, 3.93199327e-11, 1.38463650e-11,\n",
       "        4.73906212e-08, 1.87262650e-08, 2.67295341e-09, 5.20843368e-09,\n",
       "        2.67953979e-08, 2.15511271e-08],\n",
       "       [2.52763817e-11, 2.87992652e-08, 4.30575540e-07, 2.71847202e-05,\n",
       "        6.16867126e-08, 2.56678034e-12, 1.42173681e-13, 9.99972343e-01,\n",
       "        1.21617572e-09, 4.62140592e-09],\n",
       "       [6.80749726e-17, 6.45689335e-11, 1.88654772e-18, 2.38397608e-16,\n",
       "        9.99999642e-01, 2.01651423e-14, 4.45645819e-14, 1.85498622e-12,\n",
       "        2.96390885e-12, 3.15556605e-07],\n",
       "       [1.45369732e-11, 8.46222429e-06, 9.99804318e-01, 8.47561125e-07,\n",
       "        1.83184107e-04, 4.02548078e-10, 3.20166851e-06, 1.12717524e-09,\n",
       "        1.18547057e-08, 3.35342518e-12],\n",
       "       [1.11492656e-13, 5.04007860e-12, 3.09589354e-09, 1.00000000e+00,\n",
       "        5.05713302e-08, 5.29592681e-09, 7.38795396e-12, 9.70009663e-13,\n",
       "        2.78638390e-10, 2.09746109e-09],\n",
       "       [3.26513138e-15, 7.93034266e-18, 1.10624562e-21, 3.35793025e-11,\n",
       "        3.35389685e-19, 1.00000000e+00, 2.50317350e-10, 8.10466239e-19,\n",
       "        3.32301352e-12, 9.28173441e-11],\n",
       "       [1.72628872e-14, 9.99996662e-01, 8.60607488e-11, 2.03360582e-08,\n",
       "        3.35730010e-06, 1.62068095e-10, 1.53145400e-13, 3.24933288e-12,\n",
       "        2.41035458e-09, 3.03298400e-08],\n",
       "       [3.31458762e-16, 1.80044646e-13, 1.00000000e+00, 2.03558162e-14,\n",
       "        8.64310012e-11, 1.39456932e-20, 1.28295316e-15, 2.51408345e-17,\n",
       "        9.89086132e-14, 1.42796950e-17],\n",
       "       [2.95470418e-15, 4.31369274e-10, 9.61171907e-15, 1.15246788e-13,\n",
       "        9.99997854e-01, 7.95291567e-13, 2.72315536e-14, 2.23509770e-11,\n",
       "        3.85627363e-10, 2.09330733e-06],\n",
       "       [1.43928580e-15, 1.52682744e-13, 5.34294661e-15, 1.58539471e-17,\n",
       "        9.99999881e-01, 5.91344564e-16, 8.88289635e-15, 3.21154697e-13,\n",
       "        4.47776712e-11, 8.31475901e-08],\n",
       "       [1.48801908e-11, 2.20288355e-17, 6.87707828e-19, 1.85114201e-15,\n",
       "        2.60615055e-15, 8.04721711e-09, 1.00000000e+00, 2.52249487e-20,\n",
       "        5.49655299e-14, 2.99639006e-15],\n",
       "       [1.58434972e-16, 6.40369702e-13, 2.96972822e-15, 1.00000000e+00,\n",
       "        2.77170756e-13, 7.66619268e-10, 3.88943500e-17, 1.68454172e-12,\n",
       "        8.83071671e-11, 6.40595051e-15],\n",
       "       [1.23801293e-17, 2.77632342e-19, 1.65392033e-20, 1.00246131e-08,\n",
       "        3.88413099e-15, 1.00000000e+00, 4.24172190e-11, 2.44983523e-19,\n",
       "        8.51747492e-12, 1.08952486e-10],\n",
       "       [1.18260570e-16, 2.73456481e-18, 4.61264627e-21, 4.28214495e-12,\n",
       "        3.72882234e-17, 1.00000000e+00, 5.91987748e-09, 6.40374511e-17,\n",
       "        6.66059208e-10, 1.93642047e-11],\n",
       "       [2.22036446e-13, 5.87301999e-18, 7.78392272e-20, 2.69899981e-16,\n",
       "        3.20783262e-16, 4.90632535e-10, 1.00000000e+00, 3.83972808e-23,\n",
       "        1.09755920e-10, 1.52290736e-20],\n",
       "       [1.00000000e+00, 1.48950490e-14, 9.60772174e-12, 3.60227127e-19,\n",
       "        2.45736408e-16, 4.27162781e-13, 2.59208193e-11, 1.27146532e-14,\n",
       "        1.67689140e-10, 9.95665478e-14],\n",
       "       [5.32060966e-17, 4.68796139e-12, 1.39271142e-16, 4.53286787e-18,\n",
       "        1.00000000e+00, 1.15411517e-14, 1.30948421e-13, 4.39248518e-14,\n",
       "        5.48454684e-12, 9.36456468e-11],\n",
       "       [1.35164276e-12, 1.00000000e+00, 1.29072339e-12, 1.42112933e-15,\n",
       "        7.64713803e-09, 5.73244160e-11, 3.39754331e-12, 3.87680610e-10,\n",
       "        3.57441826e-10, 1.32023437e-11],\n",
       "       [6.79144770e-16, 7.61063901e-18, 2.09786470e-17, 1.91138598e-12,\n",
       "        6.82557388e-09, 4.68805250e-15, 3.54018214e-17, 5.11312992e-10,\n",
       "        2.59513514e-14, 1.00000000e+00],\n",
       "       [2.20132398e-12, 2.59111873e-12, 2.54645500e-16, 2.42033699e-10,\n",
       "        5.43820740e-08, 9.99998808e-01, 1.05918095e-11, 1.44182621e-07,\n",
       "        1.09153507e-06, 4.84161369e-08],\n",
       "       [2.17480312e-10, 4.95875801e-13, 5.19591661e-11, 2.07436979e-09,\n",
       "        6.72104108e-11, 7.19508619e-11, 8.89390815e-17, 1.00000000e+00,\n",
       "        8.87382548e-14, 1.46620049e-09],\n",
       "       [9.71832250e-12, 1.09220961e-16, 8.33237257e-10, 6.26169364e-13,\n",
       "        6.31810007e-14, 5.30956225e-12, 2.10179774e-13, 1.29569447e-18,\n",
       "        9.99999881e-01, 1.38595112e-07],\n",
       "       [1.88047817e-08, 1.07818310e-10, 1.31537559e-10, 1.54985731e-08,\n",
       "        1.21138983e-05, 1.63110550e-02, 5.01819923e-05, 3.19625343e-07,\n",
       "        4.59112809e-04, 9.83167231e-01],\n",
       "       [1.06985750e-13, 5.93265541e-12, 1.28462780e-05, 9.99987125e-01,\n",
       "        9.51367162e-15, 1.06489612e-13, 1.46422435e-18, 1.13116894e-11,\n",
       "        2.75946235e-08, 3.32502831e-10],\n",
       "       [4.19490275e-19, 2.52237658e-11, 3.77210979e-12, 1.60401683e-08,\n",
       "        5.90917981e-10, 8.29432118e-13, 2.12921005e-18, 1.00000000e+00,\n",
       "        2.56159989e-11, 1.17464840e-11],\n",
       "       [1.61566141e-13, 1.75637171e-09, 1.81692772e-10, 1.85098486e-12,\n",
       "        9.99999404e-01, 6.84350410e-10, 6.32943168e-15, 1.95862857e-11,\n",
       "        9.23226107e-10, 6.48335117e-07],\n",
       "       [2.22222241e-11, 5.13823099e-12, 5.09440191e-17, 5.90971951e-18,\n",
       "        7.25234412e-12, 8.90909593e-15, 1.00000000e+00, 6.73538034e-17,\n",
       "        4.05896706e-15, 8.04512503e-14],\n",
       "       [1.62763943e-12, 2.71457769e-11, 2.20540935e-14, 1.73030535e-15,\n",
       "        1.00000000e+00, 5.64292259e-11, 1.74948841e-13, 8.79384253e-14,\n",
       "        6.24031105e-11, 2.21177707e-08],\n",
       "       [4.81506784e-16, 3.26289516e-12, 5.10294830e-14, 1.00000000e+00,\n",
       "        7.04795423e-12, 8.97936586e-11, 4.30494933e-17, 3.66043099e-11,\n",
       "        6.85628554e-10, 1.61453725e-10],\n",
       "       [1.00000000e+00, 4.17151319e-17, 6.51038332e-14, 1.61011260e-13,\n",
       "        5.73745867e-16, 4.62777421e-11, 1.11780341e-09, 3.52337203e-15,\n",
       "        3.38301664e-10, 7.42008899e-10],\n",
       "       [1.41739231e-09, 1.35470420e-11, 1.99307237e-09, 2.09759299e-09,\n",
       "        6.59394830e-11, 4.79371425e-13, 5.45250355e-16, 9.99999881e-01,\n",
       "        3.68494941e-14, 6.62757387e-08],\n",
       "       [1.00000000e+00, 2.85575274e-15, 2.77822307e-13, 1.77129594e-17,\n",
       "        9.35511976e-15, 3.11311679e-14, 8.79110153e-12, 3.03346914e-15,\n",
       "        9.96513896e-12, 2.16521918e-12],\n",
       "       [8.01152200e-12, 2.62428019e-13, 1.00000000e+00, 4.00966926e-10,\n",
       "        1.83244025e-14, 1.50268310e-17, 4.49181251e-19, 6.10645735e-12,\n",
       "        2.34179343e-09, 7.68596471e-12],\n",
       "       [2.58232698e-13, 2.03184908e-14, 1.54479429e-14, 4.51481994e-12,\n",
       "        1.35529102e-10, 3.04954006e-13, 7.17928872e-19, 5.57704750e-12,\n",
       "        4.88223691e-07, 9.99999523e-01],\n",
       "       [1.84737056e-12, 9.99999881e-01, 2.32769296e-14, 1.81814015e-12,\n",
       "        1.43973239e-07, 3.24863558e-09, 1.08917979e-10, 3.36938845e-11,\n",
       "        1.36892844e-10, 7.62466090e-10],\n",
       "       [2.01940213e-21, 2.51389933e-11, 2.02367288e-15, 1.29785918e-10,\n",
       "        1.05032295e-10, 5.62332373e-19, 9.35591194e-21, 1.00000000e+00,\n",
       "        3.43182874e-15, 6.66727134e-12],\n",
       "       [5.11720196e-20, 1.32220996e-15, 1.80282519e-16, 1.00000000e+00,\n",
       "        3.85825652e-16, 4.16291224e-10, 2.51971100e-16, 5.95968370e-18,\n",
       "        2.27578237e-13, 9.53451294e-13],\n",
       "       [3.20429649e-07, 3.27806012e-11, 9.99999642e-01, 1.75328339e-12,\n",
       "        6.46600720e-13, 1.50261324e-14, 1.57583992e-14, 5.31627520e-10,\n",
       "        5.34376883e-12, 1.42449286e-09],\n",
       "       [1.48710499e-09, 6.43075149e-09, 1.17270429e-10, 1.32330447e-09,\n",
       "        9.89379259e-06, 1.10262812e-08, 3.29378603e-12, 4.32173541e-09,\n",
       "        5.82415669e-05, 9.99931812e-01],\n",
       "       [4.32376097e-12, 1.03887265e-09, 1.84883542e-09, 3.92011259e-08,\n",
       "        1.03469464e-08, 4.80271075e-12, 8.16663513e-15, 9.99993682e-01,\n",
       "        1.37091172e-09, 6.33662376e-06],\n",
       "       [2.07755657e-09, 6.81895762e-10, 3.10262822e-11, 6.26131058e-09,\n",
       "        7.03266505e-06, 2.71352633e-07, 1.77170100e-13, 9.99873757e-01,\n",
       "        2.10035478e-09, 1.19008655e-04],\n",
       "       [1.55499696e-10, 5.75486308e-16, 6.61585248e-16, 2.18086229e-15,\n",
       "        3.24250717e-13, 2.48007698e-10, 1.00000000e+00, 9.87263388e-18,\n",
       "        4.88362389e-12, 9.32461747e-12],\n",
       "       [7.64567805e-17, 1.01665499e-11, 1.00000000e+00, 8.24414972e-13,\n",
       "        2.85000403e-13, 1.30856954e-18, 2.62431342e-18, 2.67027043e-11,\n",
       "        6.53919681e-13, 1.28571216e-14],\n",
       "       [2.23597599e-11, 2.46806551e-11, 1.14004162e-12, 5.73917731e-08,\n",
       "        8.54668158e-09, 7.19960133e-11, 1.96808190e-14, 9.99978781e-01,\n",
       "        5.16082012e-12, 2.11163278e-05],\n",
       "       [4.92992623e-14, 1.13230417e-18, 9.99898768e-20, 3.55701195e-15,\n",
       "        2.30106823e-16, 1.56029866e-12, 1.72717485e-09, 5.79560542e-21,\n",
       "        1.00000000e+00, 7.00794742e-14],\n",
       "       [2.58078184e-17, 1.97237796e-10, 2.98249731e-17, 1.98718082e-17,\n",
       "        1.00000000e+00, 2.70272188e-14, 1.60893908e-14, 1.55583510e-12,\n",
       "        4.10768078e-12, 2.88208988e-11],\n",
       "       [6.20429333e-11, 1.74926651e-08, 1.55007007e-10, 1.89494045e-07,\n",
       "        1.53355273e-09, 3.39157036e-11, 5.04653963e-14, 9.99994636e-01,\n",
       "        1.19123800e-09, 5.18075149e-06],\n",
       "       [5.66119894e-11, 2.65211714e-10, 1.22315491e-08, 9.99998689e-01,\n",
       "        1.20705113e-06, 3.83433463e-09, 7.62969618e-11, 6.45333884e-08,\n",
       "        3.10896109e-09, 1.01825902e-10],\n",
       "       [3.41186237e-12, 6.69738496e-17, 2.12638050e-15, 9.01257738e-20,\n",
       "        3.46688400e-10, 2.41429862e-11, 1.00000000e+00, 5.14170506e-18,\n",
       "        1.94447848e-14, 4.34207245e-18],\n",
       "       [2.05397543e-09, 9.99999881e-01, 8.41104061e-11, 1.35654723e-08,\n",
       "        2.50608974e-08, 4.62497241e-09, 1.14761880e-08, 7.65708066e-08,\n",
       "        3.11005763e-08, 4.68527231e-11],\n",
       "       [1.23969882e-19, 1.11951322e-19, 2.96827394e-18, 1.00000000e+00,\n",
       "        3.39321917e-22, 3.97062331e-12, 8.36521808e-19, 1.33733443e-18,\n",
       "        9.65090976e-14, 6.76745189e-15],\n",
       "       [8.80631424e-14, 3.30796351e-19, 1.14614469e-19, 2.31651393e-18,\n",
       "        6.72236382e-14, 5.93316507e-11, 1.00000000e+00, 2.86678413e-25,\n",
       "        6.92202372e-14, 1.83098506e-16],\n",
       "       [6.30970387e-10, 8.90687545e-07, 1.06319291e-08, 4.26588791e-08,\n",
       "        3.64270411e-03, 2.23486268e-07, 3.78173226e-08, 1.83417129e-07,\n",
       "        5.56258128e-05, 9.96300280e-01],\n",
       "       [6.28093281e-13, 1.83425763e-09, 1.01364815e-12, 9.99890089e-01,\n",
       "        4.82048499e-08, 1.45754275e-05, 3.76554876e-16, 1.21942900e-10,\n",
       "        4.15540446e-09, 9.53524941e-05],\n",
       "       [8.68213140e-12, 9.99999166e-01, 2.97590667e-11, 1.32527019e-13,\n",
       "        8.80412927e-07, 1.97967098e-12, 2.47931693e-11, 1.61453272e-14,\n",
       "        3.67576351e-11, 1.98923017e-10],\n",
       "       [1.19955699e-08, 6.57766108e-08, 1.14949483e-09, 9.18664884e-12,\n",
       "        9.99934316e-01, 5.02686677e-11, 5.60690239e-07, 3.12603068e-11,\n",
       "        4.94715641e-06, 5.99684499e-05],\n",
       "       [5.89745544e-11, 9.97818470e-01, 1.03261866e-09, 7.65138466e-05,\n",
       "        5.23312774e-04, 5.96845075e-06, 1.97115466e-11, 4.41612080e-08,\n",
       "        1.03199022e-06, 1.57480279e-03],\n",
       "       [4.13054939e-15, 1.70616295e-05, 7.32413525e-07, 1.93420789e-07,\n",
       "        2.43114737e-05, 1.55751128e-12, 9.05910113e-13, 9.99957204e-01,\n",
       "        4.88530873e-07, 1.09129802e-10],\n",
       "       [1.37053418e-08, 1.22722108e-18, 9.32301173e-17, 3.55495840e-18,\n",
       "        6.30648216e-14, 2.12953544e-10, 1.00000000e+00, 2.42141259e-20,\n",
       "        7.65299629e-11, 2.33091671e-12],\n",
       "       [6.58735151e-14, 4.56737412e-18, 1.93277181e-14, 6.66818684e-12,\n",
       "        4.36645720e-10, 3.25746785e-15, 3.46387771e-17, 3.04837991e-12,\n",
       "        2.56942419e-11, 1.00000000e+00]], dtype=float32)>"
      ]
     },
     "execution_count": 22,
     "metadata": {},
     "output_type": "execute_result"
    }
   ],
   "source": [
    "y_h1 = tf.matmul(convolution_h2,w3)\n",
    "y_h1 = tf.nn.relu(y_h1)\n",
    "\n",
    "y_h2 = tf.matmul(y_h1,w4)\n",
    "predict = tf.nn.softmax(y_h2)\n",
    "predict"
   ]
  },
  {
   "cell_type": "code",
   "execution_count": 23,
   "metadata": {
    "colab": {},
    "colab_type": "code",
    "id": "z8bp1fyqqMpr"
   },
   "outputs": [],
   "source": [
    "predict01 = tf.argmax(predict,1)"
   ]
  },
  {
   "cell_type": "code",
   "execution_count": 24,
   "metadata": {
    "colab": {
     "base_uri": "https://localhost:8080/",
     "height": 122
    },
    "colab_type": "code",
    "executionInfo": {
     "elapsed": 121958,
     "status": "ok",
     "timestamp": 1581482070966,
     "user": {
      "displayName": "",
      "photoUrl": "",
      "userId": ""
     },
     "user_tz": -540
    },
    "id": "sx_cXxpoqUuO",
    "outputId": "b087a605-058b-4ec1-b871-bf64c557c899"
   },
   "outputs": [
    {
     "data": {
      "text/plain": [
       "<tf.Tensor: id=526556, shape=(100,), dtype=int64, numpy=\n",
       "array([7, 2, 1, 0, 4, 1, 4, 9, 5, 9, 0, 6, 9, 0, 1, 5, 9, 7, 3, 4, 9, 6,\n",
       "       6, 5, 4, 0, 7, 4, 0, 1, 3, 1, 3, 4, 7, 2, 7, 1, 2, 1, 1, 7, 4, 2,\n",
       "       3, 5, 1, 2, 4, 4, 6, 3, 5, 5, 6, 0, 4, 1, 9, 5, 7, 8, 9, 3, 7, 4,\n",
       "       6, 4, 3, 0, 7, 0, 2, 9, 1, 7, 3, 2, 9, 7, 7, 6, 2, 7, 8, 4, 7, 3,\n",
       "       6, 1, 3, 6, 9, 3, 1, 4, 1, 7, 6, 9], dtype=int64)>"
      ]
     },
     "execution_count": 24,
     "metadata": {},
     "output_type": "execute_result"
    }
   ],
   "source": [
    "target = tf.argmax(test_labels,1)\n",
    "target"
   ]
  },
  {
   "cell_type": "code",
   "execution_count": 25,
   "metadata": {
    "colab": {
     "base_uri": "https://localhost:8080/",
     "height": 246
    },
    "colab_type": "code",
    "executionInfo": {
     "elapsed": 121949,
     "status": "ok",
     "timestamp": 1581482070966,
     "user": {
      "displayName": "",
      "photoUrl": "",
      "userId": ""
     },
     "user_tz": -540
    },
    "id": "vHfrxoV3qZsd",
    "outputId": "11fcd42e-9ac0-4226-cd85-db6cc2bb1f21"
   },
   "outputs": [
    {
     "data": {
      "text/plain": [
       "<tf.Tensor: id=526558, shape=(100,), dtype=bool, numpy=\n",
       "array([ True,  True,  True,  True,  True,  True,  True,  True,  True,\n",
       "        True,  True,  True,  True,  True,  True,  True,  True,  True,\n",
       "       False,  True,  True,  True,  True,  True,  True,  True,  True,\n",
       "        True,  True,  True,  True,  True,  True,  True,  True,  True,\n",
       "        True,  True,  True,  True,  True,  True,  True,  True,  True,\n",
       "        True,  True,  True,  True,  True,  True,  True,  True,  True,\n",
       "        True,  True,  True,  True,  True,  True,  True,  True,  True,\n",
       "        True,  True,  True,  True,  True,  True,  True,  True,  True,\n",
       "        True,  True,  True,  True,  True,  True,  True,  True,  True,\n",
       "        True,  True,  True,  True,  True,  True,  True,  True,  True,\n",
       "        True,  True,  True,  True,  True,  True,  True,  True,  True,\n",
       "        True])>"
      ]
     },
     "execution_count": 25,
     "metadata": {},
     "output_type": "execute_result"
    }
   ],
   "source": [
    "ac01 = tf.equal(predict01,target)\n",
    "ac01"
   ]
  },
  {
   "cell_type": "code",
   "execution_count": 26,
   "metadata": {
    "colab": {
     "base_uri": "https://localhost:8080/",
     "height": 158
    },
    "colab_type": "code",
    "executionInfo": {
     "elapsed": 121941,
     "status": "ok",
     "timestamp": 1581482070967,
     "user": {
      "displayName": "",
      "photoUrl": "",
      "userId": ""
     },
     "user_tz": -540
    },
    "id": "PFiO1YBRqfhv",
    "outputId": "24cd343f-616b-4376-c053-e6c2e3ddf4d5"
   },
   "outputs": [
    {
     "data": {
      "text/plain": [
       "<tf.Tensor: id=526560, shape=(100,), dtype=float32, numpy=\n",
       "array([1., 1., 1., 1., 1., 1., 1., 1., 1., 1., 1., 1., 1., 1., 1., 1., 1.,\n",
       "       1., 0., 1., 1., 1., 1., 1., 1., 1., 1., 1., 1., 1., 1., 1., 1., 1.,\n",
       "       1., 1., 1., 1., 1., 1., 1., 1., 1., 1., 1., 1., 1., 1., 1., 1., 1.,\n",
       "       1., 1., 1., 1., 1., 1., 1., 1., 1., 1., 1., 1., 1., 1., 1., 1., 1.,\n",
       "       1., 1., 1., 1., 1., 1., 1., 1., 1., 1., 1., 1., 1., 1., 1., 1., 1.,\n",
       "       1., 1., 1., 1., 1., 1., 1., 1., 1., 1., 1., 1., 1., 1., 1.],\n",
       "      dtype=float32)>"
      ]
     },
     "execution_count": 26,
     "metadata": {},
     "output_type": "execute_result"
    }
   ],
   "source": [
    "ac02 = tf.cast(ac01, dtype='float32')\n",
    "ac02"
   ]
  },
  {
   "cell_type": "code",
   "execution_count": 27,
   "metadata": {
    "colab": {
     "base_uri": "https://localhost:8080/",
     "height": 34
    },
    "colab_type": "code",
    "executionInfo": {
     "elapsed": 121933,
     "status": "ok",
     "timestamp": 1581482070967,
     "user": {
      "displayName": "",
      "photoUrl": "",
      "userId": ""
     },
     "user_tz": -540
    },
    "id": "alUPJKWLqkQT",
    "outputId": "0534bdf1-ca7f-447c-8a44-19d1564d248d"
   },
   "outputs": [
    {
     "data": {
      "text/plain": [
       "<tf.Tensor: id=526563, shape=(), dtype=float32, numpy=0.99>"
      ]
     },
     "execution_count": 27,
     "metadata": {},
     "output_type": "execute_result"
    }
   ],
   "source": [
    "ac03 = tf.reduce_mean(ac02)\n",
    "ac03"
   ]
  },
  {
   "cell_type": "code",
   "execution_count": 28,
   "metadata": {
    "colab": {
     "base_uri": "https://localhost:8080/",
     "height": 34
    },
    "colab_type": "code",
    "executionInfo": {
     "elapsed": 121922,
     "status": "ok",
     "timestamp": 1581482070968,
     "user": {
      "displayName": "",
      "photoUrl": "",
      "userId": ""
     },
     "user_tz": -540
    },
    "id": "f8I58ThiqoXf",
    "outputId": "a17c81cf-6867-4c23-a595-6c6dec00665a"
   },
   "outputs": [
    {
     "data": {
      "text/plain": [
       "0.99"
      ]
     },
     "execution_count": 28,
     "metadata": {},
     "output_type": "execute_result"
    }
   ],
   "source": [
    "acc = ac03.numpy()\n",
    "acc"
   ]
  },
  {
   "cell_type": "code",
   "execution_count": 29,
   "metadata": {
    "colab": {},
    "colab_type": "code",
    "id": "DF0qZYUurcr2"
   },
   "outputs": [],
   "source": [
    "import matplotlib.pyplot as plt"
   ]
  },
  {
   "cell_type": "code",
   "execution_count": 30,
   "metadata": {
    "colab": {
     "base_uri": "https://localhost:8080/",
     "height": 1000
    },
    "colab_type": "code",
    "executionInfo": {
     "elapsed": 2184,
     "status": "ok",
     "timestamp": 1581482339701,
     "user": {
      "displayName": "",
      "photoUrl": "",
      "userId": ""
     },
     "user_tz": -540
    },
    "id": "DVafjIcGqvQf",
    "outputId": "6d8521a1-4ca5-426c-8d8f-58424e134c02"
   },
   "outputs": [
    {
     "data": {
      "image/png": "[encoded data removed]",
      "text/plain": [
       "<Figure size 2160x1440 with 30 Axes>"
      ]
     },
     "metadata": {},
     "output_type": "display_data"
    }
   ],
   "source": [
    "fig = plt.figure(figsize = (30,20))\n",
    "for i in range(30):\n",
    "  subplot = fig.add_subplot(6,5,i+1)\n",
    "  subplot.set_xticks([])\n",
    "  subplot.set_yticks([])\n",
    "  subplot.set_title('predict : %d'% predict01[i])\n",
    "  subplot.imshow(mnist.test.images[i].reshape((28,28)))\n",
    "plt.show()"
   ]
  },
  {
   "cell_type": "code",
   "execution_count": null,
   "metadata": {
    "colab": {},
    "colab_type": "code",
    "id": "GlcpyYe8sWQ7"
   },
   "outputs": [],
   "source": []
  }
 ],
 "metadata": {
  "accelerator": "GPU",
  "colab": {
   "collapsed_sections": [],
   "name": "200212 mnist CNN 활용 학습(tensorflow).ipynb ",
   "provenance": [
    {
     "file_id": "/v2/external/notebooks/welcome.ipynb",
     "timestamp": 1581482376397
    }
   ]
  },
  "kernelspec": {
   "display_name": "Python 3",
   "language": "python",
   "name": "python3"
  },
  "language_info": {
   "codemirror_mode": {
    "name": "ipython",
    "version": 3
   },
   "file_extension": ".py",
   "mimetype": "text/x-python",
   "name": "python",
   "nbconvert_exporter": "python",
   "pygments_lexer": "ipython3",
   "version": "3.7.3"
  }
 },
 "nbformat": 4,
 "nbformat_minor": 1
}
