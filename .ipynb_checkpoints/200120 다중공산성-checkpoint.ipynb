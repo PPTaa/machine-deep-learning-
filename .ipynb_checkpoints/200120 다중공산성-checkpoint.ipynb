{
 "cells": [
  {
   "cell_type": "markdown",
   "metadata": {},
   "source": [
    "# 미국 경제 데이터를 이용한 다중 공선성 예제"
   ]
  },
  {
   "cell_type": "code",
   "execution_count": 1,
   "metadata": {},
   "outputs": [
    {
     "name": "stderr",
     "output_type": "stream",
     "text": [
      "C:\\ai\\python\\anaconda3\\lib\\importlib\\_bootstrap.py:219: RuntimeWarning: numpy.ufunc size changed, may indicate binary incompatibility. Expected 192 from C header, got 216 from PyObject\n",
      "  return f(*args, **kwds)\n",
      "C:\\ai\\python\\anaconda3\\lib\\importlib\\_bootstrap.py:219: RuntimeWarning: numpy.ufunc size changed, may indicate binary incompatibility. Expected 192 from C header, got 216 from PyObject\n",
      "  return f(*args, **kwds)\n"
     ]
    }
   ],
   "source": [
    "import pandas as pd\n",
    "import numpy as np\n",
    "import matplotlib.pyplot as plt\n",
    "from sklearn.linear_model import LinearRegression\n",
    "from sklearn.metrics import r2_score\n",
    "import statsmodels.api as am\n",
    "import seaborn as sns\n",
    "from statsmodels.datasets.longley import load_pandas"
   ]
  },
  {
   "cell_type": "code",
   "execution_count": 5,
   "metadata": {},
   "outputs": [],
   "source": [
    "dfx = load_pandas().exog\n",
    "dfy = load_pandas().endog\n",
    "df = pd.concat([dfx,dfy], axis=1)"
   ]
  },
  {
   "cell_type": "code",
   "execution_count": 6,
   "metadata": {},
   "outputs": [
    {
     "data": {
      "image/png": "[encoded data removed]",
      "text/plain": [
       "<Figure size 432x288 with 2 Axes>"
      ]
     },
     "metadata": {
      "needs_background": "light"
     },
     "output_type": "display_data"
    }
   ],
   "source": [
    "sns.heatmap(dfx.corr(), annot=True)\n",
    "plt.show()"
   ]
  },
  {
   "cell_type": "code",
   "execution_count": 7,
   "metadata": {},
   "outputs": [
    {
     "data": {
      "text/html": [
       "<div>\n",
       "<style scoped>\n",
       "    .dataframe tbody tr th:only-of-type {\n",
       "        vertical-align: middle;\n",
       "    }\n",
       "\n",
       "    .dataframe tbody tr th {\n",
       "        vertical-align: top;\n",
       "    }\n",
       "\n",
       "    .dataframe thead th {\n",
       "        text-align: right;\n",
       "    }\n",
       "</style>\n",
       "<table border=\"1\" class=\"dataframe\">\n",
       "  <thead>\n",
       "    <tr style=\"text-align: right;\">\n",
       "      <th></th>\n",
       "      <th>GNPDEFL</th>\n",
       "      <th>GNP</th>\n",
       "      <th>UNEMP</th>\n",
       "      <th>ARMED</th>\n",
       "      <th>POP</th>\n",
       "      <th>YEAR</th>\n",
       "      <th>TOTEMP</th>\n",
       "    </tr>\n",
       "  </thead>\n",
       "  <tbody>\n",
       "    <tr>\n",
       "      <th>0</th>\n",
       "      <td>83.0</td>\n",
       "      <td>234289.0</td>\n",
       "      <td>2356.0</td>\n",
       "      <td>1590.0</td>\n",
       "      <td>107608.0</td>\n",
       "      <td>1947.0</td>\n",
       "      <td>60323.0</td>\n",
       "    </tr>\n",
       "    <tr>\n",
       "      <th>1</th>\n",
       "      <td>88.5</td>\n",
       "      <td>259426.0</td>\n",
       "      <td>2325.0</td>\n",
       "      <td>1456.0</td>\n",
       "      <td>108632.0</td>\n",
       "      <td>1948.0</td>\n",
       "      <td>61122.0</td>\n",
       "    </tr>\n",
       "    <tr>\n",
       "      <th>2</th>\n",
       "      <td>88.2</td>\n",
       "      <td>258054.0</td>\n",
       "      <td>3682.0</td>\n",
       "      <td>1616.0</td>\n",
       "      <td>109773.0</td>\n",
       "      <td>1949.0</td>\n",
       "      <td>60171.0</td>\n",
       "    </tr>\n",
       "    <tr>\n",
       "      <th>3</th>\n",
       "      <td>89.5</td>\n",
       "      <td>284599.0</td>\n",
       "      <td>3351.0</td>\n",
       "      <td>1650.0</td>\n",
       "      <td>110929.0</td>\n",
       "      <td>1950.0</td>\n",
       "      <td>61187.0</td>\n",
       "    </tr>\n",
       "    <tr>\n",
       "      <th>4</th>\n",
       "      <td>96.2</td>\n",
       "      <td>328975.0</td>\n",
       "      <td>2099.0</td>\n",
       "      <td>3099.0</td>\n",
       "      <td>112075.0</td>\n",
       "      <td>1951.0</td>\n",
       "      <td>63221.0</td>\n",
       "    </tr>\n",
       "  </tbody>\n",
       "</table>\n",
       "</div>"
      ],
      "text/plain": [
       "   GNPDEFL       GNP   UNEMP   ARMED       POP    YEAR   TOTEMP\n",
       "0     83.0  234289.0  2356.0  1590.0  107608.0  1947.0  60323.0\n",
       "1     88.5  259426.0  2325.0  1456.0  108632.0  1948.0  61122.0\n",
       "2     88.2  258054.0  3682.0  1616.0  109773.0  1949.0  60171.0\n",
       "3     89.5  284599.0  3351.0  1650.0  110929.0  1950.0  61187.0\n",
       "4     96.2  328975.0  2099.0  3099.0  112075.0  1951.0  63221.0"
      ]
     },
     "execution_count": 7,
     "metadata": {},
     "output_type": "execute_result"
    }
   ],
   "source": [
    "df.head()"
   ]
  },
  {
   "cell_type": "code",
   "execution_count": 12,
   "metadata": {},
   "outputs": [
    {
     "data": {
      "text/html": [
       "<div>\n",
       "<style scoped>\n",
       "    .dataframe tbody tr th:only-of-type {\n",
       "        vertical-align: middle;\n",
       "    }\n",
       "\n",
       "    .dataframe tbody tr th {\n",
       "        vertical-align: top;\n",
       "    }\n",
       "\n",
       "    .dataframe thead th {\n",
       "        text-align: right;\n",
       "    }\n",
       "</style>\n",
       "<table border=\"1\" class=\"dataframe\">\n",
       "  <thead>\n",
       "    <tr style=\"text-align: right;\">\n",
       "      <th></th>\n",
       "      <th>GNPDEFL</th>\n",
       "      <th>GNP</th>\n",
       "      <th>UNEMP</th>\n",
       "      <th>ARMED</th>\n",
       "      <th>POP</th>\n",
       "    </tr>\n",
       "  </thead>\n",
       "  <tbody>\n",
       "    <tr>\n",
       "      <th>0</th>\n",
       "      <td>83.0</td>\n",
       "      <td>234289.0</td>\n",
       "      <td>2356.0</td>\n",
       "      <td>1590.0</td>\n",
       "      <td>107608.0</td>\n",
       "    </tr>\n",
       "    <tr>\n",
       "      <th>1</th>\n",
       "      <td>88.5</td>\n",
       "      <td>259426.0</td>\n",
       "      <td>2325.0</td>\n",
       "      <td>1456.0</td>\n",
       "      <td>108632.0</td>\n",
       "    </tr>\n",
       "    <tr>\n",
       "      <th>2</th>\n",
       "      <td>88.2</td>\n",
       "      <td>258054.0</td>\n",
       "      <td>3682.0</td>\n",
       "      <td>1616.0</td>\n",
       "      <td>109773.0</td>\n",
       "    </tr>\n",
       "    <tr>\n",
       "      <th>3</th>\n",
       "      <td>89.5</td>\n",
       "      <td>284599.0</td>\n",
       "      <td>3351.0</td>\n",
       "      <td>1650.0</td>\n",
       "      <td>110929.0</td>\n",
       "    </tr>\n",
       "    <tr>\n",
       "      <th>4</th>\n",
       "      <td>96.2</td>\n",
       "      <td>328975.0</td>\n",
       "      <td>2099.0</td>\n",
       "      <td>3099.0</td>\n",
       "      <td>112075.0</td>\n",
       "    </tr>\n",
       "  </tbody>\n",
       "</table>\n",
       "</div>"
      ],
      "text/plain": [
       "   GNPDEFL       GNP   UNEMP   ARMED       POP\n",
       "0     83.0  234289.0  2356.0  1590.0  107608.0\n",
       "1     88.5  259426.0  2325.0  1456.0  108632.0\n",
       "2     88.2  258054.0  3682.0  1616.0  109773.0\n",
       "3     89.5  284599.0  3351.0  1650.0  110929.0\n",
       "4     96.2  328975.0  2099.0  3099.0  112075.0"
      ]
     },
     "execution_count": 12,
     "metadata": {},
     "output_type": "execute_result"
    }
   ],
   "source": [
    "y = df['TOTEMP']\n",
    "X = df.drop(['TOTEMP','YEAR'], axis=1)\n",
    "X.head()"
   ]
  },
  {
   "cell_type": "code",
   "execution_count": 15,
   "metadata": {},
   "outputs": [
    {
     "data": {
      "text/plain": [
       "array([[0.        , 0.        , 0.16553134, 0.0626754 , 0.        ],\n",
       "       [0.16224189, 0.07840489, 0.15497275, 0.        , 0.04556579],\n",
       "       [0.15339233, 0.07412548, 0.61716621, 0.0748363 , 0.09633783],\n",
       "       [0.19174041, 0.15692207, 0.50442779, 0.09073901, 0.14777733],\n",
       "       [0.38938053, 0.29533538, 0.07799728, 0.76847521, 0.19877186],\n",
       "       [0.44542773, 0.35155409, 0.02111717, 1.        , 0.25194678],\n",
       "       [0.4719764 , 0.40890192, 0.        , 0.97801684, 0.33311084],\n",
       "       [0.50147493, 0.4018122 , 0.58174387, 0.88587465, 0.38317092],\n",
       "       [0.53687316, 0.50897522, 0.35217984, 0.74462114, 0.43518889],\n",
       "       [0.63716814, 0.57669406, 0.32425068, 0.65528531, 0.49508299],\n",
       "       [0.74926254, 0.65027058, 0.36307902, 0.62768943, 0.5712188 ],\n",
       "       [0.820059  , 0.65581323, 0.95742507, 0.55238541, 0.63818805],\n",
       "       [0.87315634, 0.77483196, 0.66178474, 0.51262862, 0.70119699],\n",
       "       [0.92035398, 0.83689275, 0.70197548, 0.494855  , 0.79028167],\n",
       "       [0.96460177, 0.88546342, 1.        , 0.52198316, 0.90081431],\n",
       "       [1.        , 1.        , 0.72786104, 0.64125351, 1.        ]])"
      ]
     },
     "execution_count": 15,
     "metadata": {},
     "output_type": "execute_result"
    }
   ],
   "source": [
    "from sklearn.preprocessing import MinMaxScaler\n",
    "scaler = MinMaxScaler()\n",
    "scaler.fit(X)\n",
    "X_scaled = scaler.transform(X)\n",
    "X_scaled"
   ]
  },
  {
   "cell_type": "code",
   "execution_count": 16,
   "metadata": {},
   "outputs": [
    {
     "data": {
      "text/html": [
       "<div>\n",
       "<style scoped>\n",
       "    .dataframe tbody tr th:only-of-type {\n",
       "        vertical-align: middle;\n",
       "    }\n",
       "\n",
       "    .dataframe tbody tr th {\n",
       "        vertical-align: top;\n",
       "    }\n",
       "\n",
       "    .dataframe thead th {\n",
       "        text-align: right;\n",
       "    }\n",
       "</style>\n",
       "<table border=\"1\" class=\"dataframe\">\n",
       "  <thead>\n",
       "    <tr style=\"text-align: right;\">\n",
       "      <th></th>\n",
       "      <th>GNPDEFL</th>\n",
       "      <th>GNP</th>\n",
       "      <th>UNEMP</th>\n",
       "      <th>ARMED</th>\n",
       "      <th>POP</th>\n",
       "    </tr>\n",
       "  </thead>\n",
       "  <tbody>\n",
       "    <tr>\n",
       "      <th>0</th>\n",
       "      <td>0.000000</td>\n",
       "      <td>0.000000</td>\n",
       "      <td>0.165531</td>\n",
       "      <td>0.062675</td>\n",
       "      <td>0.000000</td>\n",
       "    </tr>\n",
       "    <tr>\n",
       "      <th>1</th>\n",
       "      <td>0.162242</td>\n",
       "      <td>0.078405</td>\n",
       "      <td>0.154973</td>\n",
       "      <td>0.000000</td>\n",
       "      <td>0.045566</td>\n",
       "    </tr>\n",
       "    <tr>\n",
       "      <th>2</th>\n",
       "      <td>0.153392</td>\n",
       "      <td>0.074125</td>\n",
       "      <td>0.617166</td>\n",
       "      <td>0.074836</td>\n",
       "      <td>0.096338</td>\n",
       "    </tr>\n",
       "    <tr>\n",
       "      <th>3</th>\n",
       "      <td>0.191740</td>\n",
       "      <td>0.156922</td>\n",
       "      <td>0.504428</td>\n",
       "      <td>0.090739</td>\n",
       "      <td>0.147777</td>\n",
       "    </tr>\n",
       "    <tr>\n",
       "      <th>4</th>\n",
       "      <td>0.389381</td>\n",
       "      <td>0.295335</td>\n",
       "      <td>0.077997</td>\n",
       "      <td>0.768475</td>\n",
       "      <td>0.198772</td>\n",
       "    </tr>\n",
       "    <tr>\n",
       "      <th>5</th>\n",
       "      <td>0.445428</td>\n",
       "      <td>0.351554</td>\n",
       "      <td>0.021117</td>\n",
       "      <td>1.000000</td>\n",
       "      <td>0.251947</td>\n",
       "    </tr>\n",
       "    <tr>\n",
       "      <th>6</th>\n",
       "      <td>0.471976</td>\n",
       "      <td>0.408902</td>\n",
       "      <td>0.000000</td>\n",
       "      <td>0.978017</td>\n",
       "      <td>0.333111</td>\n",
       "    </tr>\n",
       "    <tr>\n",
       "      <th>7</th>\n",
       "      <td>0.501475</td>\n",
       "      <td>0.401812</td>\n",
       "      <td>0.581744</td>\n",
       "      <td>0.885875</td>\n",
       "      <td>0.383171</td>\n",
       "    </tr>\n",
       "    <tr>\n",
       "      <th>8</th>\n",
       "      <td>0.536873</td>\n",
       "      <td>0.508975</td>\n",
       "      <td>0.352180</td>\n",
       "      <td>0.744621</td>\n",
       "      <td>0.435189</td>\n",
       "    </tr>\n",
       "    <tr>\n",
       "      <th>9</th>\n",
       "      <td>0.637168</td>\n",
       "      <td>0.576694</td>\n",
       "      <td>0.324251</td>\n",
       "      <td>0.655285</td>\n",
       "      <td>0.495083</td>\n",
       "    </tr>\n",
       "    <tr>\n",
       "      <th>10</th>\n",
       "      <td>0.749263</td>\n",
       "      <td>0.650271</td>\n",
       "      <td>0.363079</td>\n",
       "      <td>0.627689</td>\n",
       "      <td>0.571219</td>\n",
       "    </tr>\n",
       "    <tr>\n",
       "      <th>11</th>\n",
       "      <td>0.820059</td>\n",
       "      <td>0.655813</td>\n",
       "      <td>0.957425</td>\n",
       "      <td>0.552385</td>\n",
       "      <td>0.638188</td>\n",
       "    </tr>\n",
       "    <tr>\n",
       "      <th>12</th>\n",
       "      <td>0.873156</td>\n",
       "      <td>0.774832</td>\n",
       "      <td>0.661785</td>\n",
       "      <td>0.512629</td>\n",
       "      <td>0.701197</td>\n",
       "    </tr>\n",
       "    <tr>\n",
       "      <th>13</th>\n",
       "      <td>0.920354</td>\n",
       "      <td>0.836893</td>\n",
       "      <td>0.701975</td>\n",
       "      <td>0.494855</td>\n",
       "      <td>0.790282</td>\n",
       "    </tr>\n",
       "    <tr>\n",
       "      <th>14</th>\n",
       "      <td>0.964602</td>\n",
       "      <td>0.885463</td>\n",
       "      <td>1.000000</td>\n",
       "      <td>0.521983</td>\n",
       "      <td>0.900814</td>\n",
       "    </tr>\n",
       "    <tr>\n",
       "      <th>15</th>\n",
       "      <td>1.000000</td>\n",
       "      <td>1.000000</td>\n",
       "      <td>0.727861</td>\n",
       "      <td>0.641254</td>\n",
       "      <td>1.000000</td>\n",
       "    </tr>\n",
       "  </tbody>\n",
       "</table>\n",
       "</div>"
      ],
      "text/plain": [
       "     GNPDEFL       GNP     UNEMP     ARMED       POP\n",
       "0   0.000000  0.000000  0.165531  0.062675  0.000000\n",
       "1   0.162242  0.078405  0.154973  0.000000  0.045566\n",
       "2   0.153392  0.074125  0.617166  0.074836  0.096338\n",
       "3   0.191740  0.156922  0.504428  0.090739  0.147777\n",
       "4   0.389381  0.295335  0.077997  0.768475  0.198772\n",
       "5   0.445428  0.351554  0.021117  1.000000  0.251947\n",
       "6   0.471976  0.408902  0.000000  0.978017  0.333111\n",
       "7   0.501475  0.401812  0.581744  0.885875  0.383171\n",
       "8   0.536873  0.508975  0.352180  0.744621  0.435189\n",
       "9   0.637168  0.576694  0.324251  0.655285  0.495083\n",
       "10  0.749263  0.650271  0.363079  0.627689  0.571219\n",
       "11  0.820059  0.655813  0.957425  0.552385  0.638188\n",
       "12  0.873156  0.774832  0.661785  0.512629  0.701197\n",
       "13  0.920354  0.836893  0.701975  0.494855  0.790282\n",
       "14  0.964602  0.885463  1.000000  0.521983  0.900814\n",
       "15  1.000000  1.000000  0.727861  0.641254  1.000000"
      ]
     },
     "execution_count": 16,
     "metadata": {},
     "output_type": "execute_result"
    }
   ],
   "source": [
    "X = pd.DataFrame(X_scaled, columns=X.columns)\n",
    "X"
   ]
  },
  {
   "cell_type": "code",
   "execution_count": 17,
   "metadata": {},
   "outputs": [
    {
     "data": {
      "text/plain": [
       "LinearRegression(copy_X=True, fit_intercept=True, n_jobs=None, normalize=False)"
      ]
     },
     "execution_count": 17,
     "metadata": {},
     "output_type": "execute_result"
    }
   ],
   "source": [
    "reg = LinearRegression()\n",
    "reg.fit(X,y)"
   ]
  },
  {
   "cell_type": "code",
   "execution_count": 20,
   "metadata": {},
   "outputs": [
    {
     "name": "stdout",
     "output_type": "stream",
     "text": [
      "a :  60316.520285629886\n",
      "b :  [-1642.88987543 23084.79411175 -1185.7654284  -1198.33955478\n",
      " -9068.05060078]\n"
     ]
    }
   ],
   "source": [
    "print('a : ',reg.intercept_)\n",
    "print('b : ',reg.coef_)"
   ]
  },
  {
   "cell_type": "code",
   "execution_count": 24,
   "metadata": {},
   "outputs": [
    {
     "data": {
      "text/plain": [
       "Index(['GNPDEFL', 'GNP', 'UNEMP', 'ARMED', 'POP'], dtype='object')"
      ]
     },
     "execution_count": 24,
     "metadata": {},
     "output_type": "execute_result"
    }
   ],
   "source": [
    "X.columns"
   ]
  },
  {
   "cell_type": "code",
   "execution_count": 30,
   "metadata": {},
   "outputs": [
    {
     "name": "stdout",
     "output_type": "stream",
     "text": [
      "The linear model is : Y =60316.520285629886 + -1642.889875430809*GNPDEFL + 23084.794111748724*GNP + -1185.7654284028133*UNEMP + -1198.3395547765765*ARMED + -9068.050600778124*POP\n"
     ]
    }
   ],
   "source": [
    "print(f\"The linear model is : Y ={reg.intercept_} + {reg.coef_[0]}*GNPDEFL + {reg.coef_[1]}*GNP + \\\n",
    "{reg.coef_[2]}*UNEMP + {reg.coef_[3]}*ARMED + {reg.coef_[4]}*POP\")"
   ]
  },
  {
   "cell_type": "code",
   "execution_count": 35,
   "metadata": {
    "scrolled": true
   },
   "outputs": [
    {
     "data": {
      "text/plain": [
       "array([60045.13254307, 61262.98126938, 60080.59511106, 61577.10404942,\n",
       "       63678.7134359 , 64192.23972166, 64787.86941276, 63542.40042971,\n",
       "       65927.85839769, 66923.40975212, 67734.37439117, 66524.21866929,\n",
       "       69011.34237133, 69532.28010289, 69192.6183171 , 71058.86202547])"
      ]
     },
     "execution_count": 35,
     "metadata": {},
     "output_type": "execute_result"
    }
   ],
   "source": [
    "prediction = reg.predict(X)\n",
    "prediction"
   ]
  },
  {
   "cell_type": "code",
   "execution_count": 38,
   "metadata": {},
   "outputs": [
    {
     "data": {
      "text/plain": [
       "count    1.600000e+01\n",
       "mean     3.637979e-12\n",
       "std      3.945662e+02\n",
       "min     -5.532397e+02\n",
       "25%     -3.647828e+02\n",
       "50%      6.106239e+01\n",
       "75%      2.054978e+02\n",
       "max      9.335902e+02\n",
       "Name: TOTEMP, dtype: float64"
      ]
     },
     "execution_count": 38,
     "metadata": {},
     "output_type": "execute_result"
    }
   ],
   "source": [
    "residuals = y-prediction\n",
    "residuals.describe()"
   ]
  },
  {
   "cell_type": "code",
   "execution_count": 41,
   "metadata": {},
   "outputs": [
    {
     "data": {
      "text/plain": [
       "0.9873776967532714"
      ]
     },
     "execution_count": 41,
     "metadata": {},
     "output_type": "execute_result"
    }
   ],
   "source": [
    "SSE = (residuals**2).sum()\n",
    "SST = ((y-y.mean())**2).sum()\n",
    "R_squared = 1-(SSE/SST)\n",
    "R_squared"
   ]
  },
  {
   "cell_type": "code",
   "execution_count": 44,
   "metadata": {},
   "outputs": [
    {
     "data": {
      "text/plain": [
       "0.9873776967532714"
      ]
     },
     "execution_count": 44,
     "metadata": {},
     "output_type": "execute_result"
    }
   ],
   "source": [
    "reg.score(X,y)"
   ]
  },
  {
   "cell_type": "code",
   "execution_count": null,
   "metadata": {},
   "outputs": [],
   "source": []
  }
 ],
 "metadata": {
  "kernelspec": {
   "display_name": "Python 3",
   "language": "python",
   "name": "python3"
  },
  "language_info": {
   "codemirror_mode": {
    "name": "ipython",
    "version": 3
   },
   "file_extension": ".py",
   "mimetype": "text/x-python",
   "name": "python",
   "nbconvert_exporter": "python",
   "pygments_lexer": "ipython3",
   "version": "3.7.3"
  }
 },
 "nbformat": 4,
 "nbformat_minor": 2
}
