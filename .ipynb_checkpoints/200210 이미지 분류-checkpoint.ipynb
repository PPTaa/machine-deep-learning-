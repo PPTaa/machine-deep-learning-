{
 "cells": [
  {
   "cell_type": "code",
   "execution_count": 1,
   "metadata": {},
   "outputs": [],
   "source": [
    "import numpy as np"
   ]
  },
  {
   "cell_type": "code",
   "execution_count": 2,
   "metadata": {},
   "outputs": [
    {
     "data": {
      "text/plain": [
       "array([2, 8, 3, 7, 1, 2, 0, 4, 5])"
      ]
     },
     "execution_count": 2,
     "metadata": {},
     "output_type": "execute_result"
    }
   ],
   "source": [
    "x = np.array([2,8,3,7,1,2,0,4,5])\n",
    "x"
   ]
  },
  {
   "cell_type": "code",
   "execution_count": 3,
   "metadata": {},
   "outputs": [
    {
     "data": {
      "text/plain": [
       "array([3, 5, 1, 2])"
      ]
     },
     "execution_count": 3,
     "metadata": {},
     "output_type": "execute_result"
    }
   ],
   "source": [
    "w=np.array([3,5,1,2])\n",
    "w"
   ]
  },
  {
   "cell_type": "code",
   "execution_count": 4,
   "metadata": {},
   "outputs": [
    {
     "name": "stdout",
     "output_type": "stream",
     "text": [
      "all x :  [2 8 3 7 1 2 0 4 5]\n",
      "x[0:4]=[2 8 3 7]\n",
      "x[1:5]=[8 3 7 1]\n",
      "x[2:6]=[3 7 1 2]\n",
      "x[3:7]=[7 1 2 0]\n",
      "x[4:8]=[1 2 0 4]\n",
      "x[5:9]=[2 0 4 5]\n"
     ]
    }
   ],
   "source": [
    "print('all x : ',x)\n",
    "for i in range(6):\n",
    "    print(f'x[{i}:{i+4}]={x[i:i+4]}')"
   ]
  },
  {
   "cell_type": "code",
   "execution_count": 5,
   "metadata": {},
   "outputs": [
    {
     "data": {
      "text/plain": [
       "63"
      ]
     },
     "execution_count": 5,
     "metadata": {},
     "output_type": "execute_result"
    }
   ],
   "source": [
    "np.dot(x[0:4],w)"
   ]
  },
  {
   "cell_type": "code",
   "execution_count": 6,
   "metadata": {},
   "outputs": [
    {
     "name": "stdout",
     "output_type": "stream",
     "text": [
      "63\n",
      "48\n",
      "49\n",
      "28\n",
      "21\n",
      "20\n"
     ]
    }
   ],
   "source": [
    "for i in range(6):\n",
    "    print(np.dot(x[i:i+4],w))"
   ]
  },
  {
   "cell_type": "code",
   "execution_count": 7,
   "metadata": {},
   "outputs": [],
   "source": [
    "from scipy.signal import correlate"
   ]
  },
  {
   "cell_type": "code",
   "execution_count": 8,
   "metadata": {},
   "outputs": [
    {
     "data": {
      "text/plain": [
       "array([63, 48, 49, 28, 21, 20])"
      ]
     },
     "execution_count": 8,
     "metadata": {},
     "output_type": "execute_result"
    }
   ],
   "source": [
    "correlate(x,w,mode='valid')"
   ]
  },
  {
   "cell_type": "code",
   "execution_count": 9,
   "metadata": {},
   "outputs": [
    {
     "data": {
      "text/plain": [
       "array([18, 24, 63, 48, 49, 28, 21, 20, 25])"
      ]
     },
     "execution_count": 9,
     "metadata": {},
     "output_type": "execute_result"
    }
   ],
   "source": [
    "correlate(x,w,mode='same')"
   ]
  },
  {
   "cell_type": "code",
   "execution_count": 10,
   "metadata": {},
   "outputs": [],
   "source": [
    "from scipy.signal import correlate2d"
   ]
  },
  {
   "cell_type": "code",
   "execution_count": 11,
   "metadata": {},
   "outputs": [
    {
     "data": {
      "text/plain": [
       "array([[1, 2, 3],\n",
       "       [4, 5, 6],\n",
       "       [7, 8, 9]])"
      ]
     },
     "execution_count": 11,
     "metadata": {},
     "output_type": "execute_result"
    }
   ],
   "source": [
    "x1=np.array([[1,2,3],[4,5,6],[7,8,9]])\n",
    "x1"
   ]
  },
  {
   "cell_type": "code",
   "execution_count": 12,
   "metadata": {},
   "outputs": [
    {
     "data": {
      "text/plain": [
       "array([[2, 0],\n",
       "       [0, 0]])"
      ]
     },
     "execution_count": 12,
     "metadata": {},
     "output_type": "execute_result"
    }
   ],
   "source": [
    "w=np.array([[2,0],[0,0]])\n",
    "w"
   ]
  },
  {
   "cell_type": "code",
   "execution_count": 13,
   "metadata": {},
   "outputs": [
    {
     "data": {
      "text/plain": [
       "array([[ 2,  4,  6],\n",
       "       [ 8, 10, 12],\n",
       "       [14, 16, 18]])"
      ]
     },
     "execution_count": 13,
     "metadata": {},
     "output_type": "execute_result"
    }
   ],
   "source": [
    "correlate2d(x1,w,mode='same')"
   ]
  },
  {
   "cell_type": "code",
   "execution_count": 14,
   "metadata": {},
   "outputs": [
    {
     "data": {
      "text/plain": [
       "array([[ 2,  4],\n",
       "       [ 8, 10]])"
      ]
     },
     "execution_count": 14,
     "metadata": {},
     "output_type": "execute_result"
    }
   ],
   "source": [
    "correlate2d(x1,w,mode='valid')"
   ]
  },
  {
   "cell_type": "code",
   "execution_count": 15,
   "metadata": {},
   "outputs": [
    {
     "data": {
      "text/plain": [
       "array([[[1],\n",
       "        [2],\n",
       "        [3]],\n",
       "\n",
       "       [[4],\n",
       "        [5],\n",
       "        [6]],\n",
       "\n",
       "       [[7],\n",
       "        [8],\n",
       "        [9]],\n",
       "\n",
       "       [[1],\n",
       "        [2],\n",
       "        [3]]])"
      ]
     },
     "execution_count": 15,
     "metadata": {},
     "output_type": "execute_result"
    }
   ],
   "source": [
    "image = np.array([[\n",
    "    [1],\n",
    "    [2],\n",
    "    [3]\n",
    "],[\n",
    "    [4],\n",
    "    [5],\n",
    "    [6]\n",
    "],[\n",
    "    [7],\n",
    "    [8],\n",
    "    [9]\n",
    "],[\n",
    "    [1],\n",
    "    [2],\n",
    "    [3]\n",
    "]])\n",
    "image"
   ]
  },
  {
   "cell_type": "code",
   "execution_count": 16,
   "metadata": {},
   "outputs": [
    {
     "data": {
      "text/plain": [
       "(4, 3, 1)"
      ]
     },
     "execution_count": 16,
     "metadata": {},
     "output_type": "execute_result"
    }
   ],
   "source": [
    "image.shape #(줄,칸,RGB)"
   ]
  },
  {
   "cell_type": "code",
   "execution_count": 17,
   "metadata": {},
   "outputs": [
    {
     "name": "stderr",
     "output_type": "stream",
     "text": [
      "C:\\ai\\python\\anaconda3\\lib\\site-packages\\tensorflow\\python\\framework\\dtypes.py:516: FutureWarning: Passing (type, 1) or '1type' as a synonym of type is deprecated; in a future version of numpy, it will be understood as (type, (1,)) / '(1,)type'.\n",
      "  _np_qint8 = np.dtype([(\"qint8\", np.int8, 1)])\n",
      "C:\\ai\\python\\anaconda3\\lib\\site-packages\\tensorflow\\python\\framework\\dtypes.py:517: FutureWarning: Passing (type, 1) or '1type' as a synonym of type is deprecated; in a future version of numpy, it will be understood as (type, (1,)) / '(1,)type'.\n",
      "  _np_quint8 = np.dtype([(\"quint8\", np.uint8, 1)])\n",
      "C:\\ai\\python\\anaconda3\\lib\\site-packages\\tensorflow\\python\\framework\\dtypes.py:518: FutureWarning: Passing (type, 1) or '1type' as a synonym of type is deprecated; in a future version of numpy, it will be understood as (type, (1,)) / '(1,)type'.\n",
      "  _np_qint16 = np.dtype([(\"qint16\", np.int16, 1)])\n",
      "C:\\ai\\python\\anaconda3\\lib\\site-packages\\tensorflow\\python\\framework\\dtypes.py:519: FutureWarning: Passing (type, 1) or '1type' as a synonym of type is deprecated; in a future version of numpy, it will be understood as (type, (1,)) / '(1,)type'.\n",
      "  _np_quint16 = np.dtype([(\"quint16\", np.uint16, 1)])\n",
      "C:\\ai\\python\\anaconda3\\lib\\site-packages\\tensorflow\\python\\framework\\dtypes.py:520: FutureWarning: Passing (type, 1) or '1type' as a synonym of type is deprecated; in a future version of numpy, it will be understood as (type, (1,)) / '(1,)type'.\n",
      "  _np_qint32 = np.dtype([(\"qint32\", np.int32, 1)])\n",
      "C:\\ai\\python\\anaconda3\\lib\\site-packages\\tensorflow\\python\\framework\\dtypes.py:525: FutureWarning: Passing (type, 1) or '1type' as a synonym of type is deprecated; in a future version of numpy, it will be understood as (type, (1,)) / '(1,)type'.\n",
      "  np_resource = np.dtype([(\"resource\", np.ubyte, 1)])\n",
      "C:\\ai\\python\\anaconda3\\lib\\site-packages\\tensorboard\\compat\\tensorflow_stub\\dtypes.py:541: FutureWarning: Passing (type, 1) or '1type' as a synonym of type is deprecated; in a future version of numpy, it will be understood as (type, (1,)) / '(1,)type'.\n",
      "  _np_qint8 = np.dtype([(\"qint8\", np.int8, 1)])\n",
      "C:\\ai\\python\\anaconda3\\lib\\site-packages\\tensorboard\\compat\\tensorflow_stub\\dtypes.py:542: FutureWarning: Passing (type, 1) or '1type' as a synonym of type is deprecated; in a future version of numpy, it will be understood as (type, (1,)) / '(1,)type'.\n",
      "  _np_quint8 = np.dtype([(\"quint8\", np.uint8, 1)])\n",
      "C:\\ai\\python\\anaconda3\\lib\\site-packages\\tensorboard\\compat\\tensorflow_stub\\dtypes.py:543: FutureWarning: Passing (type, 1) or '1type' as a synonym of type is deprecated; in a future version of numpy, it will be understood as (type, (1,)) / '(1,)type'.\n",
      "  _np_qint16 = np.dtype([(\"qint16\", np.int16, 1)])\n",
      "C:\\ai\\python\\anaconda3\\lib\\site-packages\\tensorboard\\compat\\tensorflow_stub\\dtypes.py:544: FutureWarning: Passing (type, 1) or '1type' as a synonym of type is deprecated; in a future version of numpy, it will be understood as (type, (1,)) / '(1,)type'.\n",
      "  _np_quint16 = np.dtype([(\"quint16\", np.uint16, 1)])\n",
      "C:\\ai\\python\\anaconda3\\lib\\site-packages\\tensorboard\\compat\\tensorflow_stub\\dtypes.py:545: FutureWarning: Passing (type, 1) or '1type' as a synonym of type is deprecated; in a future version of numpy, it will be understood as (type, (1,)) / '(1,)type'.\n",
      "  _np_qint32 = np.dtype([(\"qint32\", np.int32, 1)])\n",
      "C:\\ai\\python\\anaconda3\\lib\\site-packages\\tensorboard\\compat\\tensorflow_stub\\dtypes.py:550: FutureWarning: Passing (type, 1) or '1type' as a synonym of type is deprecated; in a future version of numpy, it will be understood as (type, (1,)) / '(1,)type'.\n",
      "  np_resource = np.dtype([(\"resource\", np.ubyte, 1)])\n"
     ]
    }
   ],
   "source": [
    "import tensorflow as tf"
   ]
  },
  {
   "cell_type": "code",
   "execution_count": 18,
   "metadata": {},
   "outputs": [],
   "source": [
    "tf.enable_eager_execution()"
   ]
  },
  {
   "cell_type": "code",
   "execution_count": 19,
   "metadata": {},
   "outputs": [
    {
     "data": {
      "text/plain": [
       "array([[1., 2., 3.],\n",
       "       [4., 5., 6.],\n",
       "       [7., 8., 9.]], dtype=float32)"
      ]
     },
     "execution_count": 19,
     "metadata": {},
     "output_type": "execute_result"
    }
   ],
   "source": [
    "x2 = np.array([[1,2,3],[4,5,6],[7,8,9]],dtype='float32')\n",
    "x2"
   ]
  },
  {
   "cell_type": "code",
   "execution_count": 20,
   "metadata": {},
   "outputs": [
    {
     "data": {
      "text/plain": [
       "array([[[[1.],\n",
       "         [2.],\n",
       "         [3.]],\n",
       "\n",
       "        [[4.],\n",
       "         [5.],\n",
       "         [6.]],\n",
       "\n",
       "        [[7.],\n",
       "         [8.],\n",
       "         [9.]]]], dtype=float32)"
      ]
     },
     "execution_count": 20,
     "metadata": {},
     "output_type": "execute_result"
    }
   ],
   "source": [
    "x2 = x2.reshape(1,3,3,1)\n",
    "x2"
   ]
  },
  {
   "cell_type": "code",
   "execution_count": 21,
   "metadata": {},
   "outputs": [
    {
     "data": {
      "text/plain": [
       "array([[2, 0],\n",
       "       [0, 0]])"
      ]
     },
     "execution_count": 21,
     "metadata": {},
     "output_type": "execute_result"
    }
   ],
   "source": [
    "w"
   ]
  },
  {
   "cell_type": "code",
   "execution_count": 22,
   "metadata": {},
   "outputs": [
    {
     "data": {
      "text/plain": [
       "array([[[[2]],\n",
       "\n",
       "        [[0]]],\n",
       "\n",
       "\n",
       "       [[[0]],\n",
       "\n",
       "        [[0]]]])"
      ]
     },
     "execution_count": 22,
     "metadata": {},
     "output_type": "execute_result"
    }
   ],
   "source": [
    "w=w.reshape(2,2,1,1)\n",
    "w"
   ]
  },
  {
   "cell_type": "code",
   "execution_count": 23,
   "metadata": {},
   "outputs": [
    {
     "data": {
      "text/plain": [
       "<tf.Tensor: id=2, shape=(1, 3, 3, 1), dtype=float32, numpy=\n",
       "array([[[[ 2.],\n",
       "         [ 4.],\n",
       "         [ 6.]],\n",
       "\n",
       "        [[ 8.],\n",
       "         [10.],\n",
       "         [12.]],\n",
       "\n",
       "        [[14.],\n",
       "         [16.],\n",
       "         [18.]]]], dtype=float32)>"
      ]
     },
     "execution_count": 23,
     "metadata": {},
     "output_type": "execute_result"
    }
   ],
   "source": [
    "conv = tf.nn.conv2d(x2,w,strides=1,padding='SAME')\n",
    "conv"
   ]
  },
  {
   "cell_type": "code",
   "execution_count": 24,
   "metadata": {},
   "outputs": [
    {
     "data": {
      "text/plain": [
       "<tf.Tensor: id=4, shape=(1, 2, 2, 1), dtype=float32, numpy=\n",
       "array([[[[10.],\n",
       "         [12.]],\n",
       "\n",
       "        [[16.],\n",
       "         [18.]]]], dtype=float32)>"
      ]
     },
     "execution_count": 24,
     "metadata": {},
     "output_type": "execute_result"
    }
   ],
   "source": [
    "tf.nn.max_pool2d(conv,ksize=2,strides=1,padding='VALID')"
   ]
  },
  {
   "cell_type": "code",
   "execution_count": 25,
   "metadata": {},
   "outputs": [],
   "source": [
    "a = np.array([-1,2,-3,4,-5])"
   ]
  },
  {
   "cell_type": "code",
   "execution_count": 26,
   "metadata": {},
   "outputs": [
    {
     "data": {
      "text/plain": [
       "<tf.Tensor: id=7, shape=(5,), dtype=int32, numpy=array([0, 2, 0, 4, 0])>"
      ]
     },
     "execution_count": 26,
     "metadata": {},
     "output_type": "execute_result"
    }
   ],
   "source": [
    "tf.nn.relu(a)"
   ]
  },
  {
   "cell_type": "markdown",
   "metadata": {},
   "source": [
    "텐서플로를 이용한 CNN"
   ]
  },
  {
   "cell_type": "code",
   "execution_count": 27,
   "metadata": {},
   "outputs": [],
   "source": [
    "import matplotlib.pyplot as plt"
   ]
  },
  {
   "cell_type": "code",
   "execution_count": 28,
   "metadata": {},
   "outputs": [
    {
     "data": {
      "text/plain": [
       "array([[[[1.],\n",
       "         [2.],\n",
       "         [3.]],\n",
       "\n",
       "        [[4.],\n",
       "         [5.],\n",
       "         [6.]],\n",
       "\n",
       "        [[7.],\n",
       "         [8.],\n",
       "         [9.]]]], dtype=float32)"
      ]
     },
     "execution_count": 28,
     "metadata": {},
     "output_type": "execute_result"
    }
   ],
   "source": [
    "image = np.array([[[\n",
    "    [1],[2],[3]\n",
    "],[\n",
    "    [4],[5],[6]\n",
    "],[\n",
    "    [7],[8],[9]\n",
    "]]],dtype='float32')\n",
    "image"
   ]
  },
  {
   "cell_type": "code",
   "execution_count": 29,
   "metadata": {},
   "outputs": [
    {
     "data": {
      "text/plain": [
       "(1, 3, 3, 1)"
      ]
     },
     "execution_count": 29,
     "metadata": {},
     "output_type": "execute_result"
    }
   ],
   "source": [
    "image.shape"
   ]
  },
  {
   "cell_type": "code",
   "execution_count": 30,
   "metadata": {},
   "outputs": [
    {
     "data": {
      "text/plain": [
       "array([[1., 2., 3.],\n",
       "       [4., 5., 6.],\n",
       "       [7., 8., 9.]], dtype=float32)"
      ]
     },
     "execution_count": 30,
     "metadata": {},
     "output_type": "execute_result"
    }
   ],
   "source": [
    "image.reshape(3,3)"
   ]
  },
  {
   "cell_type": "code",
   "execution_count": 31,
   "metadata": {},
   "outputs": [
    {
     "data": {
      "image/png": "[encoded data removed]",
      "text/plain": [
       "<Figure size 432x288 with 1 Axes>"
      ]
     },
     "metadata": {
      "needs_background": "light"
     },
     "output_type": "display_data"
    }
   ],
   "source": [
    "plt.imshow(image.reshape(3,3), cmap='Greys')\n",
    "plt.show()"
   ]
  },
  {
   "cell_type": "code",
   "execution_count": 32,
   "metadata": {},
   "outputs": [
    {
     "data": {
      "text/plain": [
       "array([[[[1.]],\n",
       "\n",
       "        [[1.]]],\n",
       "\n",
       "\n",
       "       [[[1.]],\n",
       "\n",
       "        [[1.]]]], dtype=float32)"
      ]
     },
     "execution_count": 32,
     "metadata": {},
     "output_type": "execute_result"
    }
   ],
   "source": [
    "weight = np.array([[[[1]],[[1]]],\n",
    "                   [[[1]],[[1]]]], dtype='float32')\n",
    "weight"
   ]
  },
  {
   "cell_type": "code",
   "execution_count": 33,
   "metadata": {},
   "outputs": [
    {
     "data": {
      "text/plain": [
       "(2, 2, 1, 1)"
      ]
     },
     "execution_count": 33,
     "metadata": {},
     "output_type": "execute_result"
    }
   ],
   "source": [
    "weight.shape"
   ]
  },
  {
   "cell_type": "code",
   "execution_count": 34,
   "metadata": {},
   "outputs": [
    {
     "data": {
      "text/plain": [
       "<tf.Tensor: id=11, shape=(1, 3, 3, 1), dtype=float32, numpy=\n",
       "array([[[[12.],\n",
       "         [16.],\n",
       "         [ 9.]],\n",
       "\n",
       "        [[24.],\n",
       "         [28.],\n",
       "         [15.]],\n",
       "\n",
       "        [[15.],\n",
       "         [17.],\n",
       "         [ 9.]]]], dtype=float32)>"
      ]
     },
     "execution_count": 34,
     "metadata": {},
     "output_type": "execute_result"
    }
   ],
   "source": [
    "conv2d = tf.nn.conv2d(image,weight,strides=1,padding='SAME')\n",
    "conv2d"
   ]
  },
  {
   "cell_type": "code",
   "execution_count": 35,
   "metadata": {},
   "outputs": [
    {
     "data": {
      "image/png": "[encoded data removed]",
      "text/plain": [
       "<Figure size 432x288 with 1 Axes>"
      ]
     },
     "metadata": {
      "needs_background": "light"
     },
     "output_type": "display_data"
    }
   ],
   "source": [
    "plt.imshow(conv2d.numpy().reshape(3,3), cmap='Greys')\n",
    "plt.show()"
   ]
  },
  {
   "cell_type": "code",
   "execution_count": 36,
   "metadata": {},
   "outputs": [
    {
     "data": {
      "text/plain": [
       "array([[[[4.],\n",
       "         [3.]],\n",
       "\n",
       "        [[2.],\n",
       "         [1.]]]], dtype=float32)"
      ]
     },
     "execution_count": 36,
     "metadata": {},
     "output_type": "execute_result"
    }
   ],
   "source": [
    "image = np.array([[[[4],[3]],\n",
    "                  [[2],[1]]]],dtype='float32')\n",
    "image"
   ]
  },
  {
   "cell_type": "code",
   "execution_count": 37,
   "metadata": {},
   "outputs": [
    {
     "data": {
      "text/plain": [
       "<tf.Tensor: id=14, shape=(1, 3, 3, 1), dtype=float32, numpy=\n",
       "array([[[[28.],\n",
       "         [28.],\n",
       "         [15.]],\n",
       "\n",
       "        [[28.],\n",
       "         [28.],\n",
       "         [15.]],\n",
       "\n",
       "        [[17.],\n",
       "         [17.],\n",
       "         [ 9.]]]], dtype=float32)>"
      ]
     },
     "execution_count": 37,
     "metadata": {},
     "output_type": "execute_result"
    }
   ],
   "source": [
    "pool = tf.nn.max_pool(conv2d,ksize=2,strides=1,padding='SAME')\n",
    "pool"
   ]
  },
  {
   "cell_type": "code",
   "execution_count": 38,
   "metadata": {},
   "outputs": [
    {
     "data": {
      "text/plain": [
       "<matplotlib.image.AxesImage at 0x1f041bbbf98>"
      ]
     },
     "execution_count": 38,
     "metadata": {},
     "output_type": "execute_result"
    },
    {
     "data": {
      "image/png": "[encoded data removed]",
      "text/plain": [
       "<Figure size 432x288 with 1 Axes>"
      ]
     },
     "metadata": {
      "needs_background": "light"
     },
     "output_type": "display_data"
    }
   ],
   "source": [
    "plt.imshow(pool.numpy().reshape(3,3),cmap='Greys')"
   ]
  },
  {
   "cell_type": "markdown",
   "metadata": {},
   "source": [
    "# MNIST CNN(tensorflow)"
   ]
  },
  {
   "cell_type": "code",
   "execution_count": 39,
   "metadata": {},
   "outputs": [],
   "source": [
    "from tensorflow.examples.tutorials.mnist import input_data"
   ]
  },
  {
   "cell_type": "code",
   "execution_count": 40,
   "metadata": {},
   "outputs": [
    {
     "name": "stdout",
     "output_type": "stream",
     "text": [
      "WARNING:tensorflow:From <ipython-input-40-151c47a24665>:1: read_data_sets (from tensorflow.contrib.learn.python.learn.datasets.mnist) is deprecated and will be removed in a future version.\n",
      "Instructions for updating:\n",
      "Please use alternatives such as official/mnist/dataset.py from tensorflow/models.\n",
      "WARNING:tensorflow:From C:\\ai\\python\\anaconda3\\lib\\site-packages\\tensorflow\\contrib\\learn\\python\\learn\\datasets\\mnist.py:260: maybe_download (from tensorflow.contrib.learn.python.learn.datasets.base) is deprecated and will be removed in a future version.\n",
      "Instructions for updating:\n",
      "Please write your own downloading logic.\n",
      "WARNING:tensorflow:From C:\\ai\\python\\anaconda3\\lib\\site-packages\\tensorflow\\contrib\\learn\\python\\learn\\datasets\\mnist.py:262: extract_images (from tensorflow.contrib.learn.python.learn.datasets.mnist) is deprecated and will be removed in a future version.\n",
      "Instructions for updating:\n",
      "Please use tf.data to implement this functionality.\n",
      "Extracting ./mnist/data/train-images-idx3-ubyte.gz\n",
      "WARNING:tensorflow:From C:\\ai\\python\\anaconda3\\lib\\site-packages\\tensorflow\\contrib\\learn\\python\\learn\\datasets\\mnist.py:267: extract_labels (from tensorflow.contrib.learn.python.learn.datasets.mnist) is deprecated and will be removed in a future version.\n",
      "Instructions for updating:\n",
      "Please use tf.data to implement this functionality.\n",
      "Extracting ./mnist/data/train-labels-idx1-ubyte.gz\n",
      "WARNING:tensorflow:From C:\\ai\\python\\anaconda3\\lib\\site-packages\\tensorflow\\contrib\\learn\\python\\learn\\datasets\\mnist.py:110: dense_to_one_hot (from tensorflow.contrib.learn.python.learn.datasets.mnist) is deprecated and will be removed in a future version.\n",
      "Instructions for updating:\n",
      "Please use tf.one_hot on tensors.\n",
      "Extracting ./mnist/data/t10k-images-idx3-ubyte.gz\n",
      "Extracting ./mnist/data/t10k-labels-idx1-ubyte.gz\n",
      "WARNING:tensorflow:From C:\\ai\\python\\anaconda3\\lib\\site-packages\\tensorflow\\contrib\\learn\\python\\learn\\datasets\\mnist.py:290: DataSet.__init__ (from tensorflow.contrib.learn.python.learn.datasets.mnist) is deprecated and will be removed in a future version.\n",
      "Instructions for updating:\n",
      "Please use alternatives such as official/mnist/dataset.py from tensorflow/models.\n"
     ]
    }
   ],
   "source": [
    "mnist = input_data.read_data_sets('./mnist/data/',one_hot=True)"
   ]
  },
  {
   "cell_type": "code",
   "execution_count": 41,
   "metadata": {},
   "outputs": [],
   "source": [
    "X,y = mnist.train.next_batch(1)"
   ]
  },
  {
   "cell_type": "code",
   "execution_count": 42,
   "metadata": {},
   "outputs": [
    {
     "data": {
      "text/plain": [
       "array([[0.        , 0.        , 0.        , 0.        , 0.        ,\n",
       "        0.        , 0.        , 0.        , 0.        , 0.        ,\n",
       "        0.        , 0.        , 0.        , 0.        , 0.        ,\n",
       "        0.        , 0.        , 0.        , 0.        , 0.        ,\n",
       "        0.        , 0.        , 0.        , 0.        , 0.        ,\n",
       "        0.        , 0.        , 0.        , 0.        , 0.        ,\n",
       "        0.        , 0.        , 0.        , 0.        , 0.        ,\n",
       "        0.        , 0.        , 0.        , 0.        , 0.        ,\n",
       "        0.        , 0.        , 0.        , 0.        , 0.        ,\n",
       "        0.        , 0.        , 0.        , 0.        , 0.        ,\n",
       "        0.        , 0.        , 0.        , 0.        , 0.        ,\n",
       "        0.        , 0.        , 0.        , 0.        , 0.        ,\n",
       "        0.        , 0.        , 0.        , 0.        , 0.        ,\n",
       "        0.        , 0.        , 0.        , 0.        , 0.        ,\n",
       "        0.        , 0.        , 0.        , 0.        , 0.        ,\n",
       "        0.        , 0.        , 0.        , 0.        , 0.        ,\n",
       "        0.        , 0.        , 0.        , 0.        , 0.        ,\n",
       "        0.        , 0.        , 0.        , 0.        , 0.        ,\n",
       "        0.        , 0.        , 0.        , 0.        , 0.        ,\n",
       "        0.        , 0.        , 0.        , 0.        , 0.        ,\n",
       "        0.        , 0.        , 0.        , 0.        , 0.        ,\n",
       "        0.        , 0.        , 0.        , 0.        , 0.        ,\n",
       "        0.        , 0.        , 0.        , 0.        , 0.        ,\n",
       "        0.        , 0.        , 0.        , 0.        , 0.        ,\n",
       "        0.        , 0.        , 0.        , 0.        , 0.        ,\n",
       "        0.        , 0.        , 0.        , 0.        , 0.        ,\n",
       "        0.        , 0.        , 0.        , 0.        , 0.        ,\n",
       "        0.        , 0.        , 0.        , 0.        , 0.        ,\n",
       "        0.        , 0.        , 0.        , 0.        , 0.        ,\n",
       "        0.        , 0.        , 0.        , 0.        , 0.        ,\n",
       "        0.        , 0.        , 0.        , 0.        , 0.854902  ,\n",
       "        0.9921569 , 0.42352945, 0.        , 0.        , 0.        ,\n",
       "        0.        , 0.        , 0.        , 0.        , 0.        ,\n",
       "        0.        , 0.        , 0.        , 0.        , 0.        ,\n",
       "        0.        , 0.        , 0.        , 0.        , 0.        ,\n",
       "        0.        , 0.        , 0.        , 0.        , 0.        ,\n",
       "        0.        , 0.36862746, 0.9686275 , 0.98823535, 0.909804  ,\n",
       "        0.16470589, 0.        , 0.        , 0.        , 0.        ,\n",
       "        0.        , 0.        , 0.        , 0.        , 0.        ,\n",
       "        0.        , 0.        , 0.        , 0.        , 0.        ,\n",
       "        0.        , 0.        , 0.        , 0.        , 0.        ,\n",
       "        0.        , 0.        , 0.        , 0.        , 0.427451  ,\n",
       "        0.98823535, 0.98823535, 0.98823535, 0.5647059 , 0.        ,\n",
       "        0.        , 0.        , 0.        , 0.        , 0.        ,\n",
       "        0.        , 0.        , 0.        , 0.        , 0.        ,\n",
       "        0.        , 0.        , 0.        , 0.        , 0.        ,\n",
       "        0.        , 0.        , 0.        , 0.        , 0.        ,\n",
       "        0.        , 0.        , 0.427451  , 0.98823535, 0.98823535,\n",
       "        0.98823535, 0.5647059 , 0.        , 0.        , 0.        ,\n",
       "        0.        , 0.        , 0.        , 0.        , 0.        ,\n",
       "        0.        , 0.        , 0.        , 0.        , 0.        ,\n",
       "        0.        , 0.        , 0.        , 0.        , 0.        ,\n",
       "        0.        , 0.        , 0.        , 0.        , 0.        ,\n",
       "        0.67058825, 0.98823535, 0.98823535, 0.98823535, 0.3254902 ,\n",
       "        0.        , 0.        , 0.        , 0.        , 0.        ,\n",
       "        0.        , 0.        , 0.        , 0.        , 0.        ,\n",
       "        0.        , 0.        , 0.        , 0.        , 0.        ,\n",
       "        0.        , 0.        , 0.        , 0.        , 0.        ,\n",
       "        0.        , 0.        , 0.        , 0.9921569 , 0.98823535,\n",
       "        0.98823535, 0.98823535, 0.        , 0.        , 0.        ,\n",
       "        0.        , 0.        , 0.        , 0.        , 0.        ,\n",
       "        0.        , 0.        , 0.        , 0.        , 0.        ,\n",
       "        0.        , 0.        , 0.        , 0.        , 0.        ,\n",
       "        0.        , 0.        , 0.        , 0.        , 0.        ,\n",
       "        0.        , 0.9921569 , 0.98823535, 0.98823535, 0.98823535,\n",
       "        0.        , 0.        , 0.        , 0.        , 0.        ,\n",
       "        0.        , 0.        , 0.        , 0.        , 0.        ,\n",
       "        0.        , 0.        , 0.        , 0.        , 0.        ,\n",
       "        0.        , 0.        , 0.        , 0.        , 0.        ,\n",
       "        0.        , 0.        , 0.        , 0.        , 0.9921569 ,\n",
       "        0.98823535, 0.98823535, 0.65882355, 0.        , 0.        ,\n",
       "        0.        , 0.        , 0.        , 0.        , 0.        ,\n",
       "        0.        , 0.        , 0.        , 0.        , 0.        ,\n",
       "        0.        , 0.        , 0.        , 0.        , 0.        ,\n",
       "        0.        , 0.        , 0.        , 0.        , 0.        ,\n",
       "        0.        , 0.        , 1.        , 0.9921569 , 0.9921569 ,\n",
       "        0.42352945, 0.        , 0.        , 0.        , 0.        ,\n",
       "        0.        , 0.        , 0.        , 0.        , 0.        ,\n",
       "        0.        , 0.        , 0.        , 0.        , 0.        ,\n",
       "        0.        , 0.        , 0.        , 0.        , 0.        ,\n",
       "        0.        , 0.        , 0.        , 0.        , 0.        ,\n",
       "        0.9921569 , 0.98823535, 0.98823535, 0.42352945, 0.        ,\n",
       "        0.        , 0.        , 0.        , 0.        , 0.        ,\n",
       "        0.        , 0.        , 0.        , 0.        , 0.        ,\n",
       "        0.        , 0.        , 0.        , 0.        , 0.        ,\n",
       "        0.        , 0.        , 0.        , 0.        , 0.        ,\n",
       "        0.        , 0.        , 0.08235294, 0.9921569 , 0.98823535,\n",
       "        0.98823535, 0.42352945, 0.        , 0.        , 0.        ,\n",
       "        0.        , 0.        , 0.        , 0.        , 0.        ,\n",
       "        0.        , 0.        , 0.        , 0.        , 0.        ,\n",
       "        0.        , 0.        , 0.        , 0.        , 0.        ,\n",
       "        0.        , 0.        , 0.        , 0.        , 0.        ,\n",
       "        0.5647059 , 0.9921569 , 0.98823535, 0.98823535, 0.42352945,\n",
       "        0.        , 0.        , 0.        , 0.        , 0.        ,\n",
       "        0.        , 0.        , 0.        , 0.        , 0.        ,\n",
       "        0.        , 0.        , 0.        , 0.        , 0.        ,\n",
       "        0.        , 0.        , 0.        , 0.        , 0.        ,\n",
       "        0.        , 0.        , 0.        , 0.5686275 , 1.        ,\n",
       "        0.9921569 , 0.9921569 , 0.42352945, 0.        , 0.        ,\n",
       "        0.        , 0.        , 0.        , 0.        , 0.        ,\n",
       "        0.        , 0.        , 0.        , 0.        , 0.        ,\n",
       "        0.        , 0.        , 0.        , 0.        , 0.        ,\n",
       "        0.        , 0.        , 0.        , 0.        , 0.        ,\n",
       "        0.        , 0.5647059 , 0.9921569 , 0.98823535, 0.98823535,\n",
       "        0.42352945, 0.        , 0.        , 0.        , 0.        ,\n",
       "        0.        , 0.        , 0.        , 0.        , 0.        ,\n",
       "        0.        , 0.        , 0.        , 0.        , 0.        ,\n",
       "        0.        , 0.        , 0.        , 0.        , 0.        ,\n",
       "        0.        , 0.        , 0.        , 0.02352941, 0.627451  ,\n",
       "        0.9921569 , 0.98823535, 0.8862746 , 0.12156864, 0.        ,\n",
       "        0.        , 0.        , 0.        , 0.        , 0.        ,\n",
       "        0.        , 0.        , 0.        , 0.        , 0.        ,\n",
       "        0.        , 0.        , 0.        , 0.        , 0.        ,\n",
       "        0.        , 0.        , 0.        , 0.        , 0.        ,\n",
       "        0.        , 0.0627451 , 0.74509805, 0.9921569 , 0.98823535,\n",
       "        0.8431373 , 0.        , 0.        , 0.        , 0.        ,\n",
       "        0.        , 0.        , 0.        , 0.        , 0.        ,\n",
       "        0.        , 0.        , 0.        , 0.        , 0.        ,\n",
       "        0.        , 0.        , 0.        , 0.        , 0.        ,\n",
       "        0.        , 0.        , 0.        , 0.        , 0.        ,\n",
       "        0.5686275 , 1.        , 0.9921569 , 0.6039216 , 0.        ,\n",
       "        0.        , 0.        , 0.        , 0.        , 0.        ,\n",
       "        0.        , 0.        , 0.        , 0.        , 0.        ,\n",
       "        0.        , 0.        , 0.        , 0.        , 0.        ,\n",
       "        0.        , 0.        , 0.        , 0.        , 0.        ,\n",
       "        0.        , 0.        , 0.        , 0.5647059 , 0.9921569 ,\n",
       "        0.98823535, 0.4431373 , 0.        , 0.        , 0.        ,\n",
       "        0.        , 0.        , 0.        , 0.        , 0.        ,\n",
       "        0.        , 0.        , 0.        , 0.        , 0.        ,\n",
       "        0.        , 0.        , 0.        , 0.        , 0.        ,\n",
       "        0.        , 0.        , 0.        , 0.        , 0.        ,\n",
       "        0.        , 0.4901961 , 0.9921569 , 0.98823535, 0.8431373 ,\n",
       "        0.        , 0.        , 0.        , 0.        , 0.        ,\n",
       "        0.        , 0.        , 0.        , 0.        , 0.        ,\n",
       "        0.        , 0.        , 0.        , 0.        , 0.        ,\n",
       "        0.        , 0.        , 0.        , 0.        , 0.        ,\n",
       "        0.        , 0.        , 0.        , 0.        , 0.        ,\n",
       "        0.9921569 , 0.98823535, 0.8431373 , 0.        , 0.        ,\n",
       "        0.        , 0.        , 0.        , 0.        , 0.        ,\n",
       "        0.        , 0.        , 0.        , 0.        , 0.        ,\n",
       "        0.        , 0.        , 0.        , 0.        , 0.        ,\n",
       "        0.        , 0.        , 0.        , 0.        , 0.        ,\n",
       "        0.        , 0.        , 0.        , 0.        , 0.        ,\n",
       "        0.        , 0.        , 0.        , 0.        , 0.        ,\n",
       "        0.        , 0.        , 0.        , 0.        , 0.        ,\n",
       "        0.        , 0.        , 0.        , 0.        , 0.        ,\n",
       "        0.        , 0.        , 0.        , 0.        , 0.        ,\n",
       "        0.        , 0.        , 0.        , 0.        , 0.        ,\n",
       "        0.        , 0.        , 0.        , 0.        , 0.        ,\n",
       "        0.        , 0.        , 0.        , 0.        , 0.        ,\n",
       "        0.        , 0.        , 0.        , 0.        , 0.        ,\n",
       "        0.        , 0.        , 0.        , 0.        , 0.        ,\n",
       "        0.        , 0.        , 0.        , 0.        , 0.        ,\n",
       "        0.        , 0.        , 0.        , 0.        , 0.        ,\n",
       "        0.        , 0.        , 0.        , 0.        , 0.        ,\n",
       "        0.        , 0.        , 0.        , 0.        , 0.        ,\n",
       "        0.        , 0.        , 0.        , 0.        ]], dtype=float32)"
      ]
     },
     "execution_count": 42,
     "metadata": {},
     "output_type": "execute_result"
    }
   ],
   "source": [
    "X"
   ]
  },
  {
   "cell_type": "code",
   "execution_count": 43,
   "metadata": {},
   "outputs": [
    {
     "name": "stdout",
     "output_type": "stream",
     "text": [
      "(1, 784)\n",
      "(1, 10)\n"
     ]
    }
   ],
   "source": [
    "print(X.shape)\n",
    "print(y.shape)"
   ]
  },
  {
   "cell_type": "code",
   "execution_count": 44,
   "metadata": {},
   "outputs": [
    {
     "data": {
      "text/plain": [
       "<matplotlib.image.AxesImage at 0x1f044108860>"
      ]
     },
     "execution_count": 44,
     "metadata": {},
     "output_type": "execute_result"
    },
    {
     "data": {
      "image/png": "[encoded data removed]",
      "text/plain": [
       "<Figure size 432x288 with 1 Axes>"
      ]
     },
     "metadata": {
      "needs_background": "light"
     },
     "output_type": "display_data"
    }
   ],
   "source": [
    "plt.imshow(X.reshape(28,28),cmap='Greys')"
   ]
  },
  {
   "cell_type": "code",
   "execution_count": 45,
   "metadata": {},
   "outputs": [
    {
     "data": {
      "text/plain": [
       "(1, 28, 28, 1)"
      ]
     },
     "execution_count": 45,
     "metadata": {},
     "output_type": "execute_result"
    }
   ],
   "source": [
    "X=X.reshape(1,28,28,1)\n",
    "X.shape"
   ]
  },
  {
   "cell_type": "code",
   "execution_count": 46,
   "metadata": {},
   "outputs": [],
   "source": [
    "initializer = tf.contrib.layers.xavier_initializer()"
   ]
  },
  {
   "cell_type": "code",
   "execution_count": 47,
   "metadata": {
    "scrolled": true
   },
   "outputs": [
    {
     "data": {
      "text/plain": [
       "<tf.Variable 'Variable:0' shape=(3, 3, 1, 32) dtype=float32, numpy=\n",
       "array([[[[-3.37836146e-03, -9.43738073e-02, -3.20686400e-03,\n",
       "           3.46322358e-03, -6.13821745e-02,  1.25674561e-01,\n",
       "          -1.16376691e-01,  1.81675404e-02, -1.21580198e-01,\n",
       "          -1.13220222e-01,  6.14437163e-02,  3.87795568e-02,\n",
       "           1.31600276e-01, -3.10757756e-02,  4.76684421e-02,\n",
       "          -8.23764503e-03,  1.12644777e-01, -5.55318296e-02,\n",
       "          -8.82788673e-02, -9.52930376e-02, -7.25174919e-02,\n",
       "          -9.97621715e-02,  9.79985744e-02,  1.11302629e-01,\n",
       "          -7.51117021e-02, -3.12872231e-03,  1.34696260e-01,\n",
       "          -5.71301281e-02, -4.43657488e-02,  2.58201957e-02,\n",
       "           8.38836432e-02, -6.54818341e-02]],\n",
       "\n",
       "        [[-6.72838986e-02,  1.10284388e-02, -5.78561276e-02,\n",
       "          -1.74296871e-02,  9.70285833e-02, -6.56052530e-02,\n",
       "           1.09112665e-01,  4.22718823e-02,  1.40062585e-01,\n",
       "           1.41717479e-01, -1.18229583e-01, -3.20320800e-02,\n",
       "           8.39264691e-03,  8.71063769e-03,  1.13953397e-01,\n",
       "           1.17178038e-01, -5.84271699e-02, -1.26564577e-01,\n",
       "           7.65827894e-02,  4.33438420e-02,  7.65218884e-02,\n",
       "           6.72152042e-02,  9.20198858e-02, -1.18032187e-01,\n",
       "          -5.31306118e-02,  2.24779099e-02, -1.54004097e-02,\n",
       "           1.87924951e-02,  4.13286686e-02, -6.42924234e-02,\n",
       "          -5.91037273e-02,  6.75984770e-02]],\n",
       "\n",
       "        [[ 8.23188573e-02, -2.65035927e-02,  1.08198151e-01,\n",
       "          -7.39624500e-02,  2.46112198e-02,  5.62344939e-02,\n",
       "           5.29400557e-02, -3.00393701e-02, -1.41253322e-02,\n",
       "           9.39624459e-02,  4.14611250e-02,  7.13065267e-02,\n",
       "          -1.04593828e-01,  8.42730701e-03, -3.19152325e-02,\n",
       "           3.57867777e-03, -1.28917485e-01,  1.12066701e-01,\n",
       "          -1.06481589e-01, -2.04454884e-02, -1.36222750e-01,\n",
       "          -5.49081713e-02, -5.61200827e-02,  1.10930428e-01,\n",
       "           2.39529014e-02,  1.29209176e-01, -5.30248806e-02,\n",
       "          -1.08720556e-01, -5.85181192e-02,  1.04120493e-01,\n",
       "           6.21866286e-02,  9.63031203e-02]]],\n",
       "\n",
       "\n",
       "       [[[-3.96863818e-02,  3.79133970e-02, -1.10871255e-01,\n",
       "           7.33970404e-02, -6.54620454e-02,  8.09222907e-02,\n",
       "          -1.14579983e-01, -2.71905586e-02,  2.83609331e-02,\n",
       "           1.32567182e-01,  9.01304632e-02,  5.98974675e-02,\n",
       "           5.62916547e-02, -1.08692430e-01, -1.33674622e-01,\n",
       "           6.71131760e-02,  1.34278461e-01,  3.30232084e-03,\n",
       "          -6.91940933e-02,  1.27481297e-01,  1.07796729e-01,\n",
       "          -2.66952291e-02, -3.15776169e-02, -1.09448463e-01,\n",
       "          -7.67608956e-02,  2.91699469e-02,  8.50677490e-03,\n",
       "          -4.07431573e-02, -9.40574706e-02,  4.96997535e-02,\n",
       "          -1.31052017e-01, -7.68352449e-02]],\n",
       "\n",
       "        [[-9.31078121e-02, -3.47039923e-02,  7.21702874e-02,\n",
       "           2.00452060e-02, -1.24085993e-02,  5.11479229e-02,\n",
       "          -1.30333126e-01,  7.12741017e-02,  8.03352296e-02,\n",
       "           1.06001571e-01,  1.12464294e-01, -1.25484183e-01,\n",
       "          -1.11710303e-01, -9.26266760e-02, -1.12206377e-01,\n",
       "           2.59295404e-02,  6.07929826e-02,  1.24946088e-02,\n",
       "           6.11224622e-02, -1.11547135e-01,  5.51049262e-02,\n",
       "           4.44619358e-03,  4.59458530e-02,  1.07920691e-01,\n",
       "           1.19214550e-01,  6.90509230e-02,  2.21009851e-02,\n",
       "          -1.22061059e-01,  5.53544611e-02,  7.15270638e-02,\n",
       "          -5.19060567e-02,  4.87227440e-02]],\n",
       "\n",
       "        [[ 4.56801057e-02, -1.16045684e-01, -8.23487788e-02,\n",
       "          -1.11007690e-03, -8.88344795e-02, -1.06896199e-01,\n",
       "           8.94026309e-02,  7.92569369e-02, -2.30290890e-02,\n",
       "          -7.21698031e-02, -5.08599207e-02, -2.28457600e-02,\n",
       "          -1.00868940e-03,  6.94929808e-02, -1.36410713e-01,\n",
       "           3.60192358e-03,  1.29798010e-01,  1.18942544e-01,\n",
       "          -3.54998037e-02,  4.83829528e-02, -5.18336743e-02,\n",
       "          -1.40248939e-01,  1.29923239e-01,  1.91859305e-02,\n",
       "          -7.45572746e-02, -4.20264751e-02,  4.65681851e-02,\n",
       "          -8.52911919e-02,  5.32406718e-02,  7.80577660e-02,\n",
       "           1.29838869e-01, -3.47832888e-02]]],\n",
       "\n",
       "\n",
       "       [[[ 1.32646725e-01, -1.17236890e-01, -4.56905738e-02,\n",
       "           4.18897420e-02,  1.10364005e-01, -6.84679225e-02,\n",
       "           1.29029378e-01, -4.95480001e-03, -2.59272382e-02,\n",
       "          -1.34982169e-01, -6.40502945e-02, -1.09924078e-02,\n",
       "           1.06534049e-01,  2.83725560e-02,  7.37701356e-02,\n",
       "          -7.89208710e-03,  1.40927956e-01, -6.13331795e-05,\n",
       "          -7.02409074e-02, -1.18395567e-01, -1.04153596e-01,\n",
       "           6.42493516e-02, -6.98153824e-02,  9.22514498e-03,\n",
       "           6.34720027e-02, -1.38686419e-01,  6.75385892e-02,\n",
       "           1.09111503e-01, -3.67575362e-02, -2.09203511e-02,\n",
       "           1.17640540e-01, -6.29417077e-02]],\n",
       "\n",
       "        [[-8.72330368e-02, -9.53754187e-02, -6.77777678e-02,\n",
       "           1.22022584e-01, -1.41889215e-01, -1.22364007e-01,\n",
       "           1.17859229e-01,  1.35556385e-01,  4.98987436e-02,\n",
       "          -7.89059326e-02,  2.33128965e-02,  7.82250017e-02,\n",
       "           1.30400211e-02, -3.40494961e-02, -6.01539612e-02,\n",
       "          -7.08892941e-03,  4.13452089e-03, -7.52027333e-03,\n",
       "          -2.13141888e-02, -9.59661081e-02,  6.11186028e-04,\n",
       "           5.51283360e-02, -2.23566964e-02,  8.22953880e-03,\n",
       "           9.41839367e-02, -4.73589525e-02, -1.18946508e-01,\n",
       "           2.32111365e-02, -3.16324756e-02,  1.76238865e-02,\n",
       "           7.36530572e-02, -1.11203484e-01]],\n",
       "\n",
       "        [[ 1.23953506e-01,  1.29634693e-01,  2.51227170e-02,\n",
       "           8.28952491e-02,  9.06753093e-02,  1.28102675e-01,\n",
       "          -6.41530752e-03,  8.07334036e-02,  2.33353972e-02,\n",
       "          -6.37387708e-02,  7.46968389e-03,  1.24006718e-02,\n",
       "           1.03926107e-01, -1.08446136e-01,  1.51735693e-02,\n",
       "           1.35059193e-01, -4.41851988e-02, -2.93382406e-02,\n",
       "           4.59482819e-02, -4.34330702e-02, -1.34181812e-01,\n",
       "          -4.69006598e-02,  4.45306152e-02, -7.69456476e-02,\n",
       "          -1.11555755e-02,  6.41354173e-02,  1.01220340e-01,\n",
       "           6.52030110e-03,  4.30841595e-02,  1.32279977e-01,\n",
       "          -9.72809345e-02, -3.32006514e-02]]]], dtype=float32)>"
      ]
     },
     "execution_count": 47,
     "metadata": {},
     "output_type": "execute_result"
    }
   ],
   "source": [
    "w1 = tf.Variable(initializer([3,3,1,32]))\n",
    "w1"
   ]
  },
  {
   "cell_type": "code",
   "execution_count": 48,
   "metadata": {
    "scrolled": true
   },
   "outputs": [
    {
     "data": {
      "text/plain": [
       "<tf.Tensor: id=35, shape=(1, 28, 28, 32), dtype=float32, numpy=\n",
       "array([[[[0., 0., 0., ..., 0., 0., 0.],\n",
       "         [0., 0., 0., ..., 0., 0., 0.],\n",
       "         [0., 0., 0., ..., 0., 0., 0.],\n",
       "         ...,\n",
       "         [0., 0., 0., ..., 0., 0., 0.],\n",
       "         [0., 0., 0., ..., 0., 0., 0.],\n",
       "         [0., 0., 0., ..., 0., 0., 0.]],\n",
       "\n",
       "        [[0., 0., 0., ..., 0., 0., 0.],\n",
       "         [0., 0., 0., ..., 0., 0., 0.],\n",
       "         [0., 0., 0., ..., 0., 0., 0.],\n",
       "         ...,\n",
       "         [0., 0., 0., ..., 0., 0., 0.],\n",
       "         [0., 0., 0., ..., 0., 0., 0.],\n",
       "         [0., 0., 0., ..., 0., 0., 0.]],\n",
       "\n",
       "        [[0., 0., 0., ..., 0., 0., 0.],\n",
       "         [0., 0., 0., ..., 0., 0., 0.],\n",
       "         [0., 0., 0., ..., 0., 0., 0.],\n",
       "         ...,\n",
       "         [0., 0., 0., ..., 0., 0., 0.],\n",
       "         [0., 0., 0., ..., 0., 0., 0.],\n",
       "         [0., 0., 0., ..., 0., 0., 0.]],\n",
       "\n",
       "        ...,\n",
       "\n",
       "        [[0., 0., 0., ..., 0., 0., 0.],\n",
       "         [0., 0., 0., ..., 0., 0., 0.],\n",
       "         [0., 0., 0., ..., 0., 0., 0.],\n",
       "         ...,\n",
       "         [0., 0., 0., ..., 0., 0., 0.],\n",
       "         [0., 0., 0., ..., 0., 0., 0.],\n",
       "         [0., 0., 0., ..., 0., 0., 0.]],\n",
       "\n",
       "        [[0., 0., 0., ..., 0., 0., 0.],\n",
       "         [0., 0., 0., ..., 0., 0., 0.],\n",
       "         [0., 0., 0., ..., 0., 0., 0.],\n",
       "         ...,\n",
       "         [0., 0., 0., ..., 0., 0., 0.],\n",
       "         [0., 0., 0., ..., 0., 0., 0.],\n",
       "         [0., 0., 0., ..., 0., 0., 0.]],\n",
       "\n",
       "        [[0., 0., 0., ..., 0., 0., 0.],\n",
       "         [0., 0., 0., ..., 0., 0., 0.],\n",
       "         [0., 0., 0., ..., 0., 0., 0.],\n",
       "         ...,\n",
       "         [0., 0., 0., ..., 0., 0., 0.],\n",
       "         [0., 0., 0., ..., 0., 0., 0.],\n",
       "         [0., 0., 0., ..., 0., 0., 0.]]]], dtype=float32)>"
      ]
     },
     "execution_count": 48,
     "metadata": {},
     "output_type": "execute_result"
    }
   ],
   "source": [
    "convolution_h1 = tf.nn.conv2d(X,w1,strides=1,padding='SAME')\n",
    "convolution_h1"
   ]
  },
  {
   "cell_type": "code",
   "execution_count": 49,
   "metadata": {
    "scrolled": true
   },
   "outputs": [
    {
     "data": {
      "text/plain": [
       "<tf.Tensor: id=37, shape=(1, 28, 28, 32), dtype=float32, numpy=\n",
       "array([[[[0., 0., 0., ..., 0., 0., 0.],\n",
       "         [0., 0., 0., ..., 0., 0., 0.],\n",
       "         [0., 0., 0., ..., 0., 0., 0.],\n",
       "         ...,\n",
       "         [0., 0., 0., ..., 0., 0., 0.],\n",
       "         [0., 0., 0., ..., 0., 0., 0.],\n",
       "         [0., 0., 0., ..., 0., 0., 0.]],\n",
       "\n",
       "        [[0., 0., 0., ..., 0., 0., 0.],\n",
       "         [0., 0., 0., ..., 0., 0., 0.],\n",
       "         [0., 0., 0., ..., 0., 0., 0.],\n",
       "         ...,\n",
       "         [0., 0., 0., ..., 0., 0., 0.],\n",
       "         [0., 0., 0., ..., 0., 0., 0.],\n",
       "         [0., 0., 0., ..., 0., 0., 0.]],\n",
       "\n",
       "        [[0., 0., 0., ..., 0., 0., 0.],\n",
       "         [0., 0., 0., ..., 0., 0., 0.],\n",
       "         [0., 0., 0., ..., 0., 0., 0.],\n",
       "         ...,\n",
       "         [0., 0., 0., ..., 0., 0., 0.],\n",
       "         [0., 0., 0., ..., 0., 0., 0.],\n",
       "         [0., 0., 0., ..., 0., 0., 0.]],\n",
       "\n",
       "        ...,\n",
       "\n",
       "        [[0., 0., 0., ..., 0., 0., 0.],\n",
       "         [0., 0., 0., ..., 0., 0., 0.],\n",
       "         [0., 0., 0., ..., 0., 0., 0.],\n",
       "         ...,\n",
       "         [0., 0., 0., ..., 0., 0., 0.],\n",
       "         [0., 0., 0., ..., 0., 0., 0.],\n",
       "         [0., 0., 0., ..., 0., 0., 0.]],\n",
       "\n",
       "        [[0., 0., 0., ..., 0., 0., 0.],\n",
       "         [0., 0., 0., ..., 0., 0., 0.],\n",
       "         [0., 0., 0., ..., 0., 0., 0.],\n",
       "         ...,\n",
       "         [0., 0., 0., ..., 0., 0., 0.],\n",
       "         [0., 0., 0., ..., 0., 0., 0.],\n",
       "         [0., 0., 0., ..., 0., 0., 0.]],\n",
       "\n",
       "        [[0., 0., 0., ..., 0., 0., 0.],\n",
       "         [0., 0., 0., ..., 0., 0., 0.],\n",
       "         [0., 0., 0., ..., 0., 0., 0.],\n",
       "         ...,\n",
       "         [0., 0., 0., ..., 0., 0., 0.],\n",
       "         [0., 0., 0., ..., 0., 0., 0.],\n",
       "         [0., 0., 0., ..., 0., 0., 0.]]]], dtype=float32)>"
      ]
     },
     "execution_count": 49,
     "metadata": {},
     "output_type": "execute_result"
    }
   ],
   "source": [
    "convolution_h1 = tf.nn.relu(convolution_h1)\n",
    "convolution_h1"
   ]
  },
  {
   "cell_type": "code",
   "execution_count": 50,
   "metadata": {},
   "outputs": [
    {
     "data": {
      "text/plain": [
       "TensorShape([Dimension(1), Dimension(28), Dimension(28), Dimension(32)])"
      ]
     },
     "execution_count": 50,
     "metadata": {},
     "output_type": "execute_result"
    }
   ],
   "source": [
    "convolution_h1.shape"
   ]
  },
  {
   "cell_type": "code",
   "execution_count": 51,
   "metadata": {
    "scrolled": true
   },
   "outputs": [
    {
     "data": {
      "text/plain": [
       "<tf.Variable 'Variable:0' shape=(3, 3, 32, 64) dtype=float32, numpy=\n",
       "array([[[[ 1.8803850e-03, -4.6069525e-02, -7.6137289e-02, ...,\n",
       "          -2.7886629e-02, -6.2385779e-02, -1.1891104e-02],\n",
       "         [ 6.6893853e-02,  5.3426661e-02,  6.3912965e-02, ...,\n",
       "           1.8301368e-02,  7.3663481e-02, -6.1632276e-02],\n",
       "         [-3.9222740e-02,  3.6159374e-02, -3.6514025e-02, ...,\n",
       "           8.2422860e-02,  4.2341478e-02, -5.2750349e-02],\n",
       "         ...,\n",
       "         [ 5.3911529e-02, -5.3929888e-02,  5.7289921e-02, ...,\n",
       "           1.2773059e-02, -6.4502940e-02,  3.3347927e-02],\n",
       "         [ 2.6339412e-02,  2.6687562e-02, -9.8793879e-03, ...,\n",
       "          -7.0446000e-02,  3.0283451e-02, -7.3974192e-02],\n",
       "         [ 5.2425273e-02, -4.0817004e-02, -3.3710301e-02, ...,\n",
       "          -4.8286736e-02,  8.2853176e-02, -6.5262996e-02]],\n",
       "\n",
       "        [[ 6.0671724e-02,  6.5707944e-02,  3.7031747e-02, ...,\n",
       "           3.1430840e-02, -1.6153909e-02, -5.4566782e-02],\n",
       "         [ 1.5364610e-02,  7.0430048e-02,  3.8631976e-02, ...,\n",
       "           4.6634860e-02, -2.8103612e-02,  6.7432649e-02],\n",
       "         [-6.0173355e-02, -7.6130792e-02, -1.5179694e-02, ...,\n",
       "          -6.4387783e-02,  1.4330067e-02, -5.7045918e-02],\n",
       "         ...,\n",
       "         [-8.1049286e-02, -3.1797789e-02,  6.4886369e-02, ...,\n",
       "          -4.4084154e-02, -6.2094554e-03,  2.3496307e-02],\n",
       "         [ 5.8335267e-02, -7.7710211e-02,  6.5769114e-02, ...,\n",
       "          -1.9965090e-02, -7.5367689e-03,  3.3388890e-02],\n",
       "         [-3.7191570e-02, -1.9155979e-02, -5.9558690e-02, ...,\n",
       "           5.8267213e-02, -2.5744181e-02, -5.5163823e-02]],\n",
       "\n",
       "        [[-6.2002026e-02,  1.3427511e-03,  3.5659194e-02, ...,\n",
       "          -1.3372622e-02, -4.0370386e-02,  7.6123841e-02],\n",
       "         [ 1.2880087e-02,  6.7407586e-02, -3.6930285e-02, ...,\n",
       "          -1.5252985e-02,  3.1765781e-02, -8.8304281e-04],\n",
       "         [ 2.2300266e-02, -1.9311190e-02,  7.1700238e-02, ...,\n",
       "           5.4033399e-03, -1.2055412e-03,  2.3630679e-02],\n",
       "         ...,\n",
       "         [ 2.9776014e-02,  5.4583706e-02,  1.6978145e-02, ...,\n",
       "          -7.8462109e-02, -6.7213997e-02,  6.6068150e-02],\n",
       "         [ 4.0247224e-02, -8.0838904e-02,  2.4292208e-02, ...,\n",
       "           1.1242889e-02,  7.6283909e-02, -4.1154724e-02],\n",
       "         [ 3.9114080e-02,  1.6246676e-02,  6.9483854e-02, ...,\n",
       "           3.9793037e-02,  9.3751550e-03,  4.5527436e-02]]],\n",
       "\n",
       "\n",
       "       [[[-5.7653867e-02, -3.0179005e-02, -1.5385330e-02, ...,\n",
       "           4.0014945e-02,  6.7137085e-02,  1.8356584e-02],\n",
       "         [-7.5906917e-02,  6.9481753e-02, -1.3274334e-02, ...,\n",
       "          -2.3665488e-02,  5.5218481e-02,  2.4059989e-02],\n",
       "         [-7.6760255e-02,  7.6980196e-02, -1.8784903e-02, ...,\n",
       "          -2.2433698e-05,  5.1061511e-03, -6.7991257e-02],\n",
       "         ...,\n",
       "         [-7.1553349e-02, -4.0537398e-02,  2.1971107e-02, ...,\n",
       "           8.7625012e-03,  6.8667270e-02, -7.6445982e-02],\n",
       "         [-7.6917492e-02,  2.2131167e-02, -1.8442355e-02, ...,\n",
       "           6.3972510e-02, -7.6776192e-02,  2.6451431e-02],\n",
       "         [ 3.2092154e-02,  4.9280949e-02,  1.8904351e-02, ...,\n",
       "           6.3703425e-02,  6.6522010e-02, -6.0203653e-02]],\n",
       "\n",
       "        [[-7.3998138e-02, -5.2087467e-02, -5.1638447e-02, ...,\n",
       "           3.9806962e-03, -5.2654445e-02, -1.2767471e-02],\n",
       "         [ 3.5172924e-03, -4.8377477e-02,  7.8166865e-02, ...,\n",
       "          -7.4195862e-02,  7.0518397e-02, -6.6779673e-02],\n",
       "         [-3.3059876e-02,  6.6440113e-02, -1.0047652e-02, ...,\n",
       "           7.2070144e-02,  1.3709888e-03, -5.7699602e-02],\n",
       "         ...,\n",
       "         [-2.8140347e-02, -2.1563392e-02, -1.8804871e-02, ...,\n",
       "          -3.6266070e-02,  4.9549647e-02, -2.6031159e-02],\n",
       "         [-5.1404398e-02, -2.5050323e-02, -1.1007249e-02, ...,\n",
       "          -8.3265424e-02,  1.0494925e-02, -7.3175892e-02],\n",
       "         [ 5.0862260e-02, -3.3556543e-02,  6.3156486e-03, ...,\n",
       "          -6.2013011e-02,  4.9242519e-02,  3.0866422e-02]],\n",
       "\n",
       "        [[ 5.7325803e-02, -2.2620361e-02,  6.9405146e-02, ...,\n",
       "           7.5396456e-02, -2.3865521e-02,  1.2137808e-02],\n",
       "         [-4.3238878e-02, -2.2078060e-02,  2.3714900e-02, ...,\n",
       "          -6.2094968e-02,  3.0068077e-02, -3.1652711e-02],\n",
       "         [ 1.6168118e-02,  5.7683140e-04, -5.8344983e-02, ...,\n",
       "           6.4754225e-02,  8.1920512e-02, -7.6677382e-02],\n",
       "         ...,\n",
       "         [-6.7171499e-02,  5.0915904e-02,  6.0824305e-04, ...,\n",
       "          -3.3523999e-02, -2.6423573e-02,  1.2683272e-02],\n",
       "         [ 5.3125329e-02, -7.2665974e-02,  7.4887969e-02, ...,\n",
       "          -1.6156577e-02, -3.7259620e-02, -1.9842587e-02],\n",
       "         [-6.5135479e-02, -2.0594478e-02,  7.5890966e-02, ...,\n",
       "          -1.2044750e-02,  7.4480258e-02, -8.2317814e-03]]],\n",
       "\n",
       "\n",
       "       [[[-7.6851487e-02,  5.7024725e-02,  1.0877393e-02, ...,\n",
       "          -3.3583522e-02,  7.9565071e-02, -2.5075119e-02],\n",
       "         [-1.6807020e-02, -9.0805069e-03,  3.8979135e-02, ...,\n",
       "          -2.6518367e-02,  5.0623260e-02, -5.7055794e-02],\n",
       "         [ 7.2262727e-02, -5.6239128e-02, -3.3020120e-02, ...,\n",
       "           7.1024425e-02,  5.9442259e-02, -4.1663866e-02],\n",
       "         ...,\n",
       "         [ 1.7777540e-02, -1.8698536e-02, -3.4187555e-02, ...,\n",
       "          -2.9092692e-02, -7.2529398e-02, -2.8481863e-02],\n",
       "         [-4.6474539e-02, -4.4298254e-02,  4.9775019e-03, ...,\n",
       "          -4.3855630e-02, -6.6559732e-02, -7.5512886e-02],\n",
       "         [ 3.2490529e-02, -6.3284718e-02, -7.2720431e-02, ...,\n",
       "          -1.7856583e-03, -5.9131026e-02, -7.1866974e-02]],\n",
       "\n",
       "        [[-7.1760416e-02, -1.2231626e-02,  1.2060180e-03, ...,\n",
       "           2.6823364e-02,  1.7131589e-02, -8.1492066e-02],\n",
       "         [-1.8197156e-02,  2.2225201e-02,  4.9130745e-02, ...,\n",
       "          -1.3360836e-02,  3.4865893e-02, -4.8836868e-02],\n",
       "         [-6.5380000e-02,  8.5262433e-03, -8.3262101e-03, ...,\n",
       "           6.5997727e-02,  8.1364103e-02, -3.5301708e-02],\n",
       "         ...,\n",
       "         [-2.7243972e-02,  2.0452179e-02, -7.9789542e-02, ...,\n",
       "          -1.1494957e-02,  7.7042140e-02,  5.9970953e-02],\n",
       "         [ 1.3237201e-02,  6.1414577e-02, -4.5463502e-02, ...,\n",
       "           5.8167182e-02, -4.7951877e-02, -7.9821348e-02],\n",
       "         [ 3.6780119e-02,  3.0249715e-02,  3.3379197e-02, ...,\n",
       "          -6.0753666e-02, -6.1796468e-02,  6.9531091e-02]],\n",
       "\n",
       "        [[-1.8652454e-03, -3.2992862e-02, -7.8848720e-02, ...,\n",
       "           6.2782072e-02,  8.2272775e-02,  4.4677041e-02],\n",
       "         [-2.7509704e-03, -9.6302256e-03, -7.0714816e-02, ...,\n",
       "           7.6937832e-02,  8.6633787e-03,  5.8249258e-02],\n",
       "         [ 4.2854868e-02,  4.4034719e-03, -9.7824559e-03, ...,\n",
       "          -3.2846749e-02,  5.0622769e-02, -1.1296548e-02],\n",
       "         ...,\n",
       "         [ 7.3738284e-02, -3.6037982e-02,  1.1567853e-02, ...,\n",
       "          -3.4934979e-02, -3.3194065e-02,  4.3251164e-02],\n",
       "         [ 3.3772148e-02,  2.9420480e-03,  3.1350553e-02, ...,\n",
       "          -7.5872913e-03,  7.0006736e-02,  1.4321208e-02],\n",
       "         [-2.5647059e-03,  4.1397549e-02,  3.2480918e-02, ...,\n",
       "           6.9262289e-02,  1.4787413e-02, -1.5899539e-02]]]],\n",
       "      dtype=float32)>"
      ]
     },
     "execution_count": 51,
     "metadata": {},
     "output_type": "execute_result"
    }
   ],
   "source": [
    "w2 = tf.Variable(initializer([3,3,32,64]))\n",
    "w2"
   ]
  },
  {
   "cell_type": "code",
   "execution_count": 52,
   "metadata": {
    "scrolled": true
   },
   "outputs": [
    {
     "data": {
      "text/plain": [
       "<tf.Tensor: id=55, shape=(1, 28, 28, 64), dtype=float32, numpy=\n",
       "array([[[[0., 0., 0., ..., 0., 0., 0.],\n",
       "         [0., 0., 0., ..., 0., 0., 0.],\n",
       "         [0., 0., 0., ..., 0., 0., 0.],\n",
       "         ...,\n",
       "         [0., 0., 0., ..., 0., 0., 0.],\n",
       "         [0., 0., 0., ..., 0., 0., 0.],\n",
       "         [0., 0., 0., ..., 0., 0., 0.]],\n",
       "\n",
       "        [[0., 0., 0., ..., 0., 0., 0.],\n",
       "         [0., 0., 0., ..., 0., 0., 0.],\n",
       "         [0., 0., 0., ..., 0., 0., 0.],\n",
       "         ...,\n",
       "         [0., 0., 0., ..., 0., 0., 0.],\n",
       "         [0., 0., 0., ..., 0., 0., 0.],\n",
       "         [0., 0., 0., ..., 0., 0., 0.]],\n",
       "\n",
       "        [[0., 0., 0., ..., 0., 0., 0.],\n",
       "         [0., 0., 0., ..., 0., 0., 0.],\n",
       "         [0., 0., 0., ..., 0., 0., 0.],\n",
       "         ...,\n",
       "         [0., 0., 0., ..., 0., 0., 0.],\n",
       "         [0., 0., 0., ..., 0., 0., 0.],\n",
       "         [0., 0., 0., ..., 0., 0., 0.]],\n",
       "\n",
       "        ...,\n",
       "\n",
       "        [[0., 0., 0., ..., 0., 0., 0.],\n",
       "         [0., 0., 0., ..., 0., 0., 0.],\n",
       "         [0., 0., 0., ..., 0., 0., 0.],\n",
       "         ...,\n",
       "         [0., 0., 0., ..., 0., 0., 0.],\n",
       "         [0., 0., 0., ..., 0., 0., 0.],\n",
       "         [0., 0., 0., ..., 0., 0., 0.]],\n",
       "\n",
       "        [[0., 0., 0., ..., 0., 0., 0.],\n",
       "         [0., 0., 0., ..., 0., 0., 0.],\n",
       "         [0., 0., 0., ..., 0., 0., 0.],\n",
       "         ...,\n",
       "         [0., 0., 0., ..., 0., 0., 0.],\n",
       "         [0., 0., 0., ..., 0., 0., 0.],\n",
       "         [0., 0., 0., ..., 0., 0., 0.]],\n",
       "\n",
       "        [[0., 0., 0., ..., 0., 0., 0.],\n",
       "         [0., 0., 0., ..., 0., 0., 0.],\n",
       "         [0., 0., 0., ..., 0., 0., 0.],\n",
       "         ...,\n",
       "         [0., 0., 0., ..., 0., 0., 0.],\n",
       "         [0., 0., 0., ..., 0., 0., 0.],\n",
       "         [0., 0., 0., ..., 0., 0., 0.]]]], dtype=float32)>"
      ]
     },
     "execution_count": 52,
     "metadata": {},
     "output_type": "execute_result"
    }
   ],
   "source": [
    "convolution_h2 = tf.nn.conv2d(convolution_h1,w2,strides=1,padding='SAME')\n",
    "convolution_h2"
   ]
  },
  {
   "cell_type": "code",
   "execution_count": 53,
   "metadata": {},
   "outputs": [
    {
     "data": {
      "text/plain": [
       "<tf.Tensor: id=57, shape=(1, 28, 28, 64), dtype=float32, numpy=\n",
       "array([[[[0., 0., 0., ..., 0., 0., 0.],\n",
       "         [0., 0., 0., ..., 0., 0., 0.],\n",
       "         [0., 0., 0., ..., 0., 0., 0.],\n",
       "         ...,\n",
       "         [0., 0., 0., ..., 0., 0., 0.],\n",
       "         [0., 0., 0., ..., 0., 0., 0.],\n",
       "         [0., 0., 0., ..., 0., 0., 0.]],\n",
       "\n",
       "        [[0., 0., 0., ..., 0., 0., 0.],\n",
       "         [0., 0., 0., ..., 0., 0., 0.],\n",
       "         [0., 0., 0., ..., 0., 0., 0.],\n",
       "         ...,\n",
       "         [0., 0., 0., ..., 0., 0., 0.],\n",
       "         [0., 0., 0., ..., 0., 0., 0.],\n",
       "         [0., 0., 0., ..., 0., 0., 0.]],\n",
       "\n",
       "        [[0., 0., 0., ..., 0., 0., 0.],\n",
       "         [0., 0., 0., ..., 0., 0., 0.],\n",
       "         [0., 0., 0., ..., 0., 0., 0.],\n",
       "         ...,\n",
       "         [0., 0., 0., ..., 0., 0., 0.],\n",
       "         [0., 0., 0., ..., 0., 0., 0.],\n",
       "         [0., 0., 0., ..., 0., 0., 0.]],\n",
       "\n",
       "        ...,\n",
       "\n",
       "        [[0., 0., 0., ..., 0., 0., 0.],\n",
       "         [0., 0., 0., ..., 0., 0., 0.],\n",
       "         [0., 0., 0., ..., 0., 0., 0.],\n",
       "         ...,\n",
       "         [0., 0., 0., ..., 0., 0., 0.],\n",
       "         [0., 0., 0., ..., 0., 0., 0.],\n",
       "         [0., 0., 0., ..., 0., 0., 0.]],\n",
       "\n",
       "        [[0., 0., 0., ..., 0., 0., 0.],\n",
       "         [0., 0., 0., ..., 0., 0., 0.],\n",
       "         [0., 0., 0., ..., 0., 0., 0.],\n",
       "         ...,\n",
       "         [0., 0., 0., ..., 0., 0., 0.],\n",
       "         [0., 0., 0., ..., 0., 0., 0.],\n",
       "         [0., 0., 0., ..., 0., 0., 0.]],\n",
       "\n",
       "        [[0., 0., 0., ..., 0., 0., 0.],\n",
       "         [0., 0., 0., ..., 0., 0., 0.],\n",
       "         [0., 0., 0., ..., 0., 0., 0.],\n",
       "         ...,\n",
       "         [0., 0., 0., ..., 0., 0., 0.],\n",
       "         [0., 0., 0., ..., 0., 0., 0.],\n",
       "         [0., 0., 0., ..., 0., 0., 0.]]]], dtype=float32)>"
      ]
     },
     "execution_count": 53,
     "metadata": {},
     "output_type": "execute_result"
    }
   ],
   "source": [
    "convolution_h2 = tf.nn.relu(convolution_h2)\n",
    "convolution_h2"
   ]
  },
  {
   "cell_type": "code",
   "execution_count": 54,
   "metadata": {
    "scrolled": true
   },
   "outputs": [
    {
     "data": {
      "text/plain": [
       "TensorShape([Dimension(1), Dimension(14), Dimension(14), Dimension(64)])"
      ]
     },
     "execution_count": 54,
     "metadata": {},
     "output_type": "execute_result"
    }
   ],
   "source": [
    "convolution_h2 = tf.nn.max_pool(convolution_h2,ksize=2,strides=2,padding='SAME')\n",
    "convolution_h2.shape"
   ]
  },
  {
   "cell_type": "code",
   "execution_count": 55,
   "metadata": {
    "scrolled": true
   },
   "outputs": [
    {
     "data": {
      "text/plain": [
       "<tf.Variable 'Variable:0' shape=(12544, 256) dtype=float32, numpy=\n",
       "array([[ 0.00502487, -0.01418214, -0.01320135, ...,  0.00169548,\n",
       "         0.01032739,  0.01935281],\n",
       "       [-0.02138563,  0.00805302,  0.00769013, ..., -0.01990439,\n",
       "        -0.00573114,  0.00391456],\n",
       "       [-0.00101814,  0.01772601, -0.01295558, ...,  0.0211953 ,\n",
       "         0.01651139,  0.00289802],\n",
       "       ...,\n",
       "       [ 0.00504455,  0.01189749, -0.0117857 , ..., -0.00591983,\n",
       "        -0.02161468,  0.01570007],\n",
       "       [-0.01449132,  0.00537036, -0.0156926 , ..., -0.00301456,\n",
       "         0.02110791, -0.00987362],\n",
       "       [-0.00151451, -0.01206928, -0.00376342, ..., -0.01072794,\n",
       "         0.01976305, -0.01135781]], dtype=float32)>"
      ]
     },
     "execution_count": 55,
     "metadata": {},
     "output_type": "execute_result"
    }
   ],
   "source": [
    "w3 = tf.Variable(initializer([14*14*64,256]))\n",
    "w3"
   ]
  },
  {
   "cell_type": "code",
   "execution_count": 56,
   "metadata": {},
   "outputs": [
    {
     "data": {
      "text/plain": [
       "TensorShape([Dimension(12544), Dimension(256)])"
      ]
     },
     "execution_count": 56,
     "metadata": {},
     "output_type": "execute_result"
    }
   ],
   "source": [
    "w3.shape"
   ]
  },
  {
   "cell_type": "code",
   "execution_count": 57,
   "metadata": {},
   "outputs": [
    {
     "data": {
      "text/plain": [
       "TensorShape([Dimension(1), Dimension(14), Dimension(14), Dimension(64)])"
      ]
     },
     "execution_count": 57,
     "metadata": {},
     "output_type": "execute_result"
    }
   ],
   "source": [
    "convolution_h2.shape"
   ]
  },
  {
   "cell_type": "code",
   "execution_count": 58,
   "metadata": {},
   "outputs": [
    {
     "data": {
      "text/plain": [
       "<tf.Tensor: id=76, shape=(1, 12544), dtype=float32, numpy=array([[0., 0., 0., ..., 0., 0., 0.]], dtype=float32)>"
      ]
     },
     "execution_count": 58,
     "metadata": {},
     "output_type": "execute_result"
    }
   ],
   "source": [
    "convolution_h2 = tf.reshape(convolution_h2,[-1,14*14*64])\n",
    "convolution_h2"
   ]
  },
  {
   "cell_type": "code",
   "execution_count": 59,
   "metadata": {},
   "outputs": [
    {
     "data": {
      "text/plain": [
       "TensorShape([Dimension(1), Dimension(12544)])"
      ]
     },
     "execution_count": 59,
     "metadata": {},
     "output_type": "execute_result"
    }
   ],
   "source": [
    "convolution_h2.shape"
   ]
  },
  {
   "cell_type": "code",
   "execution_count": 60,
   "metadata": {
    "scrolled": true
   },
   "outputs": [
    {
     "data": {
      "text/plain": [
       "<tf.Tensor: id=79, shape=(1, 256), dtype=float32, numpy=\n",
       "array([[-3.82422656e-02,  4.41725999e-02,  7.81640708e-02,\n",
       "         2.62920056e-02,  1.84417609e-02,  1.78365596e-02,\n",
       "        -4.79122363e-02,  9.95763298e-03, -1.05627980e-02,\n",
       "        -2.02574655e-02,  1.34413624e-02,  7.71590173e-02,\n",
       "        -4.54975143e-02, -1.15116328e-01, -1.52819837e-02,\n",
       "        -8.51428136e-02, -5.19202370e-03,  3.30371670e-02,\n",
       "        -1.15836253e-02,  3.51592451e-02, -4.56743315e-02,\n",
       "        -8.80607776e-03, -5.96169345e-02,  1.83428675e-02,\n",
       "        -5.23859784e-02,  9.26777720e-04,  3.33233736e-02,\n",
       "         2.18891688e-02, -4.97154780e-02,  2.07809731e-03,\n",
       "        -1.46421716e-02,  5.89891560e-02, -1.97954979e-02,\n",
       "         7.95017332e-02, -8.31673387e-03, -2.70278715e-02,\n",
       "         1.56221241e-02, -1.64457168e-02,  3.99538316e-02,\n",
       "        -2.48379335e-02,  2.07385924e-02, -3.09952088e-02,\n",
       "        -4.08421680e-02, -6.82804640e-03,  2.22466737e-02,\n",
       "        -5.57181798e-02,  4.02744412e-02,  5.61795309e-02,\n",
       "        -4.13960218e-02,  5.37595898e-02, -1.86884142e-02,\n",
       "         1.04476660e-02,  1.13646686e-02, -2.05602050e-02,\n",
       "         1.31810736e-02, -6.59767836e-02,  3.05878744e-03,\n",
       "         4.53717597e-02,  7.36509413e-02,  6.93705007e-02,\n",
       "         2.24365611e-02,  9.79171693e-02,  5.23809269e-02,\n",
       "         5.64223900e-02,  6.12275898e-02,  4.13226970e-02,\n",
       "        -1.06222872e-02,  3.06118745e-03, -1.00672089e-01,\n",
       "         2.35313736e-02,  1.00838013e-01, -8.18436965e-03,\n",
       "        -4.60940860e-02,  1.59642659e-03, -6.31191954e-02,\n",
       "         8.40763301e-02, -2.09720694e-02, -1.62743647e-02,\n",
       "         3.54625583e-02,  3.83056700e-02, -3.31908166e-02,\n",
       "        -8.29221979e-02, -4.96805869e-02, -3.74758169e-02,\n",
       "         5.64440712e-02, -1.05380319e-01, -2.14695036e-02,\n",
       "        -2.63179131e-02,  8.26002806e-02,  7.07219169e-02,\n",
       "        -1.41311893e-02,  2.09952034e-02, -5.71663007e-02,\n",
       "         5.22132665e-02,  1.84440669e-02, -8.79503340e-02,\n",
       "         4.10736874e-02, -5.91789186e-03,  1.59455016e-02,\n",
       "         2.55926587e-02, -6.47304952e-02,  1.00256847e-02,\n",
       "         2.82935798e-03,  3.60798687e-02, -8.22642818e-02,\n",
       "        -2.42478102e-02,  5.44287637e-02,  2.35967189e-02,\n",
       "         6.75305054e-02,  3.96346971e-02,  2.23953761e-02,\n",
       "        -4.38187048e-02, -3.08824275e-02, -1.73736550e-03,\n",
       "        -1.88620314e-02,  2.67147347e-02,  6.04039729e-02,\n",
       "        -1.16961412e-02,  4.76248413e-02,  6.00185059e-02,\n",
       "        -4.49128412e-02,  4.12238687e-02,  6.12532496e-02,\n",
       "        -5.83659858e-04,  8.38951580e-03, -2.10626191e-03,\n",
       "         4.06652801e-02, -4.99182940e-02,  4.95297462e-02,\n",
       "        -7.64879771e-03,  1.17933825e-01, -4.49557230e-03,\n",
       "         7.36853555e-02, -9.95654613e-04, -5.11236228e-02,\n",
       "        -1.31814377e-02, -1.74500756e-02, -1.78033262e-02,\n",
       "        -2.05581822e-02,  5.19419201e-02,  1.50935613e-02,\n",
       "        -5.74270263e-04,  5.96874533e-03,  1.97290033e-02,\n",
       "        -1.88343246e-02,  1.10745810e-01, -2.20325552e-02,\n",
       "        -3.97552177e-02,  4.22400460e-02,  1.01263318e-02,\n",
       "         2.59580091e-04, -3.16163823e-02,  3.64892408e-02,\n",
       "         5.77971488e-02,  4.74259816e-02, -5.50612323e-02,\n",
       "        -7.35873729e-02, -2.59908400e-02,  5.44825085e-02,\n",
       "         7.48480260e-02,  2.60442831e-02,  6.86188042e-02,\n",
       "         4.02946621e-02, -3.88564914e-03,  7.73755014e-02,\n",
       "         3.52484435e-02, -5.94589580e-03,  4.38284129e-02,\n",
       "        -1.02297431e-02,  3.90261263e-02,  4.15911861e-02,\n",
       "         1.20112114e-02,  1.39379222e-03, -8.76155868e-03,\n",
       "        -1.44231841e-02, -4.20922339e-02,  2.98037734e-02,\n",
       "        -1.18051656e-02,  1.71568990e-02, -1.56170158e-02,\n",
       "        -3.49233188e-02, -8.49624798e-02,  1.30698532e-02,\n",
       "        -1.94551982e-03,  4.37162332e-02,  2.15119049e-02,\n",
       "         2.27210484e-03,  2.64876895e-02, -4.36531678e-02,\n",
       "         3.45029980e-02,  2.99799945e-02,  3.05018164e-02,\n",
       "         1.32917892e-02, -5.69407046e-02, -5.82801402e-02,\n",
       "        -7.74754956e-02, -5.13253212e-02, -3.05577479e-02,\n",
       "         3.45371552e-02,  2.07537767e-02, -4.33500558e-02,\n",
       "        -6.12877198e-02,  2.03685649e-02, -6.57551549e-03,\n",
       "        -6.95546949e-03, -4.19109128e-03,  7.44346678e-02,\n",
       "        -3.09687257e-02, -9.87912249e-03, -1.03318291e-02,\n",
       "         1.10110164e-01, -1.08882105e-02,  3.82137531e-03,\n",
       "         4.37518582e-03, -9.14745778e-03, -2.67742202e-04,\n",
       "         2.92884782e-02,  9.28258523e-05,  3.51445004e-03,\n",
       "        -1.79680400e-02, -3.97247896e-02, -1.54024037e-03,\n",
       "        -6.45253714e-03, -2.19863430e-02,  1.28771681e-02,\n",
       "        -1.43606648e-01,  2.13720202e-02,  2.18132660e-02,\n",
       "         7.18129799e-03, -6.27932176e-02, -3.83012556e-02,\n",
       "        -6.88206255e-02,  3.83923948e-02, -1.60394702e-02,\n",
       "        -3.30862142e-02, -2.78891064e-04, -9.60118175e-02,\n",
       "         3.45972925e-02,  4.13156599e-02, -1.91661511e-02,\n",
       "         6.18429296e-02,  7.18489736e-02, -1.09406754e-01,\n",
       "         1.16314068e-02, -5.41608930e-02, -1.84612274e-02,\n",
       "         2.96649784e-02, -6.17641620e-02,  5.39051667e-02,\n",
       "         4.61223200e-02,  9.66598745e-03, -2.40188092e-02,\n",
       "         2.25541797e-02, -5.85683808e-02, -4.12851013e-02,\n",
       "         3.05738412e-02]], dtype=float32)>"
      ]
     },
     "execution_count": 60,
     "metadata": {},
     "output_type": "execute_result"
    }
   ],
   "source": [
    "y_h1 = tf.matmul(convolution_h2,w3)\n",
    "y_h1"
   ]
  },
  {
   "cell_type": "code",
   "execution_count": 61,
   "metadata": {
    "scrolled": true
   },
   "outputs": [
    {
     "data": {
      "text/plain": [
       "<tf.Tensor: id=81, shape=(1, 256), dtype=float32, numpy=\n",
       "array([[0.00000000e+00, 4.41725999e-02, 7.81640708e-02, 2.62920056e-02,\n",
       "        1.84417609e-02, 1.78365596e-02, 0.00000000e+00, 9.95763298e-03,\n",
       "        0.00000000e+00, 0.00000000e+00, 1.34413624e-02, 7.71590173e-02,\n",
       "        0.00000000e+00, 0.00000000e+00, 0.00000000e+00, 0.00000000e+00,\n",
       "        0.00000000e+00, 3.30371670e-02, 0.00000000e+00, 3.51592451e-02,\n",
       "        0.00000000e+00, 0.00000000e+00, 0.00000000e+00, 1.83428675e-02,\n",
       "        0.00000000e+00, 9.26777720e-04, 3.33233736e-02, 2.18891688e-02,\n",
       "        0.00000000e+00, 2.07809731e-03, 0.00000000e+00, 5.89891560e-02,\n",
       "        0.00000000e+00, 7.95017332e-02, 0.00000000e+00, 0.00000000e+00,\n",
       "        1.56221241e-02, 0.00000000e+00, 3.99538316e-02, 0.00000000e+00,\n",
       "        2.07385924e-02, 0.00000000e+00, 0.00000000e+00, 0.00000000e+00,\n",
       "        2.22466737e-02, 0.00000000e+00, 4.02744412e-02, 5.61795309e-02,\n",
       "        0.00000000e+00, 5.37595898e-02, 0.00000000e+00, 1.04476660e-02,\n",
       "        1.13646686e-02, 0.00000000e+00, 1.31810736e-02, 0.00000000e+00,\n",
       "        3.05878744e-03, 4.53717597e-02, 7.36509413e-02, 6.93705007e-02,\n",
       "        2.24365611e-02, 9.79171693e-02, 5.23809269e-02, 5.64223900e-02,\n",
       "        6.12275898e-02, 4.13226970e-02, 0.00000000e+00, 3.06118745e-03,\n",
       "        0.00000000e+00, 2.35313736e-02, 1.00838013e-01, 0.00000000e+00,\n",
       "        0.00000000e+00, 1.59642659e-03, 0.00000000e+00, 8.40763301e-02,\n",
       "        0.00000000e+00, 0.00000000e+00, 3.54625583e-02, 3.83056700e-02,\n",
       "        0.00000000e+00, 0.00000000e+00, 0.00000000e+00, 0.00000000e+00,\n",
       "        5.64440712e-02, 0.00000000e+00, 0.00000000e+00, 0.00000000e+00,\n",
       "        8.26002806e-02, 7.07219169e-02, 0.00000000e+00, 2.09952034e-02,\n",
       "        0.00000000e+00, 5.22132665e-02, 1.84440669e-02, 0.00000000e+00,\n",
       "        4.10736874e-02, 0.00000000e+00, 1.59455016e-02, 2.55926587e-02,\n",
       "        0.00000000e+00, 1.00256847e-02, 2.82935798e-03, 3.60798687e-02,\n",
       "        0.00000000e+00, 0.00000000e+00, 5.44287637e-02, 2.35967189e-02,\n",
       "        6.75305054e-02, 3.96346971e-02, 2.23953761e-02, 0.00000000e+00,\n",
       "        0.00000000e+00, 0.00000000e+00, 0.00000000e+00, 2.67147347e-02,\n",
       "        6.04039729e-02, 0.00000000e+00, 4.76248413e-02, 6.00185059e-02,\n",
       "        0.00000000e+00, 4.12238687e-02, 6.12532496e-02, 0.00000000e+00,\n",
       "        8.38951580e-03, 0.00000000e+00, 4.06652801e-02, 0.00000000e+00,\n",
       "        4.95297462e-02, 0.00000000e+00, 1.17933825e-01, 0.00000000e+00,\n",
       "        7.36853555e-02, 0.00000000e+00, 0.00000000e+00, 0.00000000e+00,\n",
       "        0.00000000e+00, 0.00000000e+00, 0.00000000e+00, 5.19419201e-02,\n",
       "        1.50935613e-02, 0.00000000e+00, 5.96874533e-03, 1.97290033e-02,\n",
       "        0.00000000e+00, 1.10745810e-01, 0.00000000e+00, 0.00000000e+00,\n",
       "        4.22400460e-02, 1.01263318e-02, 2.59580091e-04, 0.00000000e+00,\n",
       "        3.64892408e-02, 5.77971488e-02, 4.74259816e-02, 0.00000000e+00,\n",
       "        0.00000000e+00, 0.00000000e+00, 5.44825085e-02, 7.48480260e-02,\n",
       "        2.60442831e-02, 6.86188042e-02, 4.02946621e-02, 0.00000000e+00,\n",
       "        7.73755014e-02, 3.52484435e-02, 0.00000000e+00, 4.38284129e-02,\n",
       "        0.00000000e+00, 3.90261263e-02, 4.15911861e-02, 1.20112114e-02,\n",
       "        1.39379222e-03, 0.00000000e+00, 0.00000000e+00, 0.00000000e+00,\n",
       "        2.98037734e-02, 0.00000000e+00, 1.71568990e-02, 0.00000000e+00,\n",
       "        0.00000000e+00, 0.00000000e+00, 1.30698532e-02, 0.00000000e+00,\n",
       "        4.37162332e-02, 2.15119049e-02, 2.27210484e-03, 2.64876895e-02,\n",
       "        0.00000000e+00, 3.45029980e-02, 2.99799945e-02, 3.05018164e-02,\n",
       "        1.32917892e-02, 0.00000000e+00, 0.00000000e+00, 0.00000000e+00,\n",
       "        0.00000000e+00, 0.00000000e+00, 3.45371552e-02, 2.07537767e-02,\n",
       "        0.00000000e+00, 0.00000000e+00, 2.03685649e-02, 0.00000000e+00,\n",
       "        0.00000000e+00, 0.00000000e+00, 7.44346678e-02, 0.00000000e+00,\n",
       "        0.00000000e+00, 0.00000000e+00, 1.10110164e-01, 0.00000000e+00,\n",
       "        3.82137531e-03, 4.37518582e-03, 0.00000000e+00, 0.00000000e+00,\n",
       "        2.92884782e-02, 9.28258523e-05, 3.51445004e-03, 0.00000000e+00,\n",
       "        0.00000000e+00, 0.00000000e+00, 0.00000000e+00, 0.00000000e+00,\n",
       "        1.28771681e-02, 0.00000000e+00, 2.13720202e-02, 2.18132660e-02,\n",
       "        7.18129799e-03, 0.00000000e+00, 0.00000000e+00, 0.00000000e+00,\n",
       "        3.83923948e-02, 0.00000000e+00, 0.00000000e+00, 0.00000000e+00,\n",
       "        0.00000000e+00, 3.45972925e-02, 4.13156599e-02, 0.00000000e+00,\n",
       "        6.18429296e-02, 7.18489736e-02, 0.00000000e+00, 1.16314068e-02,\n",
       "        0.00000000e+00, 0.00000000e+00, 2.96649784e-02, 0.00000000e+00,\n",
       "        5.39051667e-02, 4.61223200e-02, 9.66598745e-03, 0.00000000e+00,\n",
       "        2.25541797e-02, 0.00000000e+00, 0.00000000e+00, 3.05738412e-02]],\n",
       "      dtype=float32)>"
      ]
     },
     "execution_count": 61,
     "metadata": {},
     "output_type": "execute_result"
    }
   ],
   "source": [
    "y_h1 = tf.nn.relu(y_h1)\n",
    "y_h1"
   ]
  },
  {
   "cell_type": "code",
   "execution_count": 62,
   "metadata": {
    "scrolled": true
   },
   "outputs": [
    {
     "data": {
      "text/plain": [
       "<tf.Variable 'Variable:0' shape=(256, 10) dtype=float32, numpy=\n",
       "array([[ 0.10688561, -0.12484665, -0.14937416, ...,  0.02990821,\n",
       "         0.03102289, -0.03394186],\n",
       "       [ 0.05486426,  0.00583202,  0.13352594, ...,  0.03572221,\n",
       "        -0.0331654 ,  0.12278393],\n",
       "       [-0.13703473, -0.03764346,  0.04089038, ...,  0.05816334,\n",
       "         0.09536394, -0.12246946],\n",
       "       ...,\n",
       "       [-0.1230176 ,  0.05426161,  0.05266574, ..., -0.09695867,\n",
       "        -0.11611   ,  0.03865503],\n",
       "       [-0.14408688, -0.0046007 , -0.11651072, ...,  0.08068484,\n",
       "         0.03584689,  0.06784067],\n",
       "       [-0.08721501,  0.0052432 ,  0.0660143 , ...,  0.05144262,\n",
       "         0.02057621,  0.12824586]], dtype=float32)>"
      ]
     },
     "execution_count": 62,
     "metadata": {},
     "output_type": "execute_result"
    }
   ],
   "source": [
    "w4 = tf.Variable(initializer([256,10]))\n",
    "w4"
   ]
  },
  {
   "cell_type": "code",
   "execution_count": 63,
   "metadata": {},
   "outputs": [
    {
     "data": {
      "text/plain": [
       "<tf.Tensor: id=100, shape=(1, 10), dtype=float32, numpy=\n",
       "array([[0.10016679, 0.09442231, 0.09817331, 0.09749127, 0.10222413,\n",
       "        0.0994604 , 0.10009286, 0.10220702, 0.10526674, 0.10049529]],\n",
       "      dtype=float32)>"
      ]
     },
     "execution_count": 63,
     "metadata": {},
     "output_type": "execute_result"
    }
   ],
   "source": [
    "y_h2 = tf.nn.softmax(tf.matmul(y_h1,w4))\n",
    "y_h2"
   ]
  },
  {
   "cell_type": "code",
   "execution_count": 64,
   "metadata": {},
   "outputs": [
    {
     "data": {
      "text/plain": [
       "55000"
      ]
     },
     "execution_count": 64,
     "metadata": {},
     "output_type": "execute_result"
    }
   ],
   "source": [
    "mnist.train.num_examples"
   ]
  },
  {
   "cell_type": "code",
   "execution_count": 65,
   "metadata": {},
   "outputs": [],
   "source": [
    "batch_size = 100\n",
    "total_batch = int(mnist.train.num_examples/batch_size)"
   ]
  },
  {
   "cell_type": "code",
   "execution_count": 66,
   "metadata": {},
   "outputs": [],
   "source": [
    "optimizer = tf.train.AdamOptimizer(0.001)"
   ]
  },
  {
   "cell_type": "code",
   "execution_count": 67,
   "metadata": {
    "scrolled": true
   },
   "outputs": [
    {
     "name": "stdout",
     "output_type": "stream",
     "text": [
      "step : 0 , cost : 0.13817057013511658\n",
      "step : 1 , cost : 0.03918509557843208\n",
      "step : 2 , cost : 0.02337421104311943\n",
      "step : 3 , cost : 0.015491887927055359\n",
      "step : 4 , cost : 0.009258884005248547\n",
      "step : 5 , cost : 0.00740951718762517\n",
      "step : 6 , cost : 0.008306636475026608\n",
      "step : 7 , cost : 0.007139748428016901\n",
      "step : 8 , cost : nan\n",
      "step : 9 , cost : nan\n",
      "step : 10 , cost : nan\n"
     ]
    }
   ],
   "source": [
    "for i in range(11):\n",
    "    total_cost = 0\n",
    "    for j in range(total_batch):\n",
    "        X,y = mnist.train.next_batch(batch_size)\n",
    "        X=X.reshape(-1,28,28,1)\n",
    "        with tf.GradientTape() as tape:\n",
    "            convolution_h1=tf.nn.conv2d(X,w1,strides=1,padding='SAME')\n",
    "            convolution_h1=tf.nn.relu(convolution_h1)\n",
    "            convolution_h2=tf.nn.conv2d(convolution_h1,w2,strides=1,padding='SAME')\n",
    "            convolution_h2=tf.nn.relu(convolution_h2)\n",
    "            convolution_h2=tf.nn.max_pool(convolution_h2,ksize=2,strides=2,padding='SAME')\n",
    "            convolution_h2=tf.reshape(convolution_h2,[-1,14*14*64])\n",
    "            y_h1=tf.matmul(convolution_h2,w3)\n",
    "            y_h1=tf.nn.relu(y_h1)\n",
    "            y_h2=tf.nn.softmax(tf.matmul(y_h1,w4))\n",
    "            cost=-tf.reduce_sum(y*tf.log(y_h2))/len(y_h2)\n",
    "            grads = tape.gradient(cost,[w1,w2,w3,w4])\n",
    "            optimizer.apply_gradients(grads_and_vars=zip(grads,[w1,w2,w3,w4]))\n",
    "        total_cost+=cost\n",
    "    print(f'step : {i} , cost : {total_cost/total_batch}')"
   ]
  },
  {
   "cell_type": "code",
   "execution_count": null,
   "metadata": {},
   "outputs": [],
   "source": []
  }
 ],
 "metadata": {
  "kernelspec": {
   "display_name": "Python 3",
   "language": "python",
   "name": "python3"
  },
  "language_info": {
   "codemirror_mode": {
    "name": "ipython",
    "version": 3
   },
   "file_extension": ".py",
   "mimetype": "text/x-python",
   "name": "python",
   "nbconvert_exporter": "python",
   "pygments_lexer": "ipython3",
   "version": "3.7.3"
  }
 },
 "nbformat": 4,
 "nbformat_minor": 2
}
